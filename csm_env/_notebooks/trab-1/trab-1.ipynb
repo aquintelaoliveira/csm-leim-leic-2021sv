{
 "cells": [
  {
   "cell_type": "markdown",
   "id": "expressed-terminology",
   "metadata": {},
   "source": [
    "<div align=\"center\">\n",
    "    <div>\n",
    "        <img src=\"../../images/isel_logo.png\" width=\"200\" height=\"200\" align=\"left\">\n",
    "    </div>\n",
    "    <div>\n",
    "        <h1>Área Departamental de Engenharia de Eletrónica e Telecomunicações e de Computadores</h1>\n",
    "        <p>Trabalho prático 1</p>\n",
    "        <p>Authors:\t44598\tAndré L. A. Q. de Oliveira</p>\n",
    "        <p>Unidade Curricular Compressão de Sinais Multimédia</p>\n",
    "        <p>Professor: André Lourenço</p>\n",
    "        <p>11 – April – 2021</p>\n",
    "    </div>\n",
    "</div>\n",
    "\n",
    "<div class=\"alert alert-block alert-warning\">\n",
    "This is a yellow background\n",
    "</div>"
   ]
  },
  {
   "cell_type": "markdown",
   "id": "proprietary-arrival",
   "metadata": {},
   "source": [
    "<a id=\"index\"></a>\n",
    "# Index\n",
    "- [Exercício 1](#exercicio_1)\n",
    "- [Exercício 2](#exercicio_2)\n",
    "- [Exercício 3](#exercicio_3)\n",
    "- [Exercício 4](#exercicio_4)\n",
    "- [Exercício 5](#exercicio_5)\n",
    "- [Exercício 6](#exercicio_6)\n",
    "- [Exercício 7](#exercicio_7)\n",
    "- [Exercício 8](#exercicio_8)"
   ]
  },
  {
   "cell_type": "code",
   "execution_count": 3,
   "id": "prime-somerset",
   "metadata": {},
   "outputs": [],
   "source": [
    "import os\n",
    "import cv2\n",
    "import numpy as np\n",
    "import matplotlib.pyplot as plt\n",
    "\n",
    "cwd = os.getcwd() # current work diretory"
   ]
  },
  {
   "cell_type": "markdown",
   "id": "effective-nevada",
   "metadata": {},
   "source": [
    " <a id=\"exercicio_1\"></a>\n",
    " \n",
    " # Exercício 1\n",
    " \n",
    "<div class=\"alert alert-block alert-info\">\n",
    "Abra o ficheiro com a imagem \"lenac.tif\"e apresente a imagem. Verifique para que servem os métodos \"dtype\"e \"shape\".\n",
    "</div>"
   ]
  },
  {
   "cell_type": "markdown",
   "id": "psychological-subscription",
   "metadata": {},
   "source": [
    "**image.dtype**\n",
    "- Retorna o tipo da imagem.\n",
    "\n",
    "**image.shape**\n",
    "- Permite aceder ao formato da imagem. \n",
    "- Retorna uma tupla de número de linhas, colunas e número de canais (se a imagem for colorida)."
   ]
  },
  {
   "cell_type": "code",
   "execution_count": 43,
   "id": "educational-imagination",
   "metadata": {
    "scrolled": true
   },
   "outputs": [
    {
     "name": "stdout",
     "output_type": "stream",
     "text": [
      " O tipo da imagem lenac.tif é uint8\n",
      " A imagem lenac.tif apresenta a seguinte estrutura física: (512, 512, 3)\n"
     ]
    }
   ],
   "source": [
    "x_img = cv2.imread(f\"{cwd}/images/lenac.tif\")\n",
    "# cv2.imshow(\"Original Image\", x_img)\n",
    "# cv2.waitKey(0)\n",
    "# cv2.destroyAllWindows()\n",
    "print(f\" O tipo da imagem lenac.tif é {x_img.dtype}\")\n",
    "print(f\" A imagem lenac.tif apresenta a seguinte estrutura física: {x_img.shape}\")"
   ]
  },
  {
   "cell_type": "markdown",
   "id": "sustained-shannon",
   "metadata": {},
   "source": [
    "[back to index](#index)"
   ]
  },
  {
   "cell_type": "markdown",
   "id": "heavy-police",
   "metadata": {},
   "source": [
    "<a id=\"exercicio_2\"></a>\n",
    "\n",
    "# Exercício 2\n",
    "\n",
    "<div class=\"alert alert-block alert-info\">\n",
    "Grave a mesma imagem, mas agora em formato \"JPEG\" com diferentes qualidades. Verifique visualmente a qualidade das imagens assim como o tamanho do ficheiro. Produza o código para calcular a taxa de compressão, a SNR e a PSNR.\n",
    "</div>"
   ]
  },
  {
   "cell_type": "code",
   "execution_count": 42,
   "id": "ethical-lobby",
   "metadata": {
    "scrolled": false
   },
   "outputs": [
    {
     "name": "stdout",
     "output_type": "stream",
     "text": [
      "A imagem lenac.tif tem 786572 bytes\n",
      "A imagem file1.jpg tem 44124 bytes\n",
      "A imagem file2.jpg tem 9566 bytes\n"
     ]
    }
   ],
   "source": [
    "lenac_path = f\"{cwd}/images/lenac.tif\"\n",
    "file1_path = f\"{cwd}/images/file1.jpg\"\n",
    "file2_path = f\"{cwd}/images/file2.jpg\"\n",
    "\n",
    "cv2.imwrite(file1_path, x_img, (cv2.IMWRITE_JPEG_QUALITY, 80));\n",
    "cv2.imwrite(file2_path, x_img, (cv2.IMWRITE_JPEG_QUALITY, 10));\n",
    "\n",
    "print(f\"A imagem lenac.tif tem {os.stat(lenac_path).st_size} bytes\")\n",
    "print(f\"A imagem file1.jpg tem {os.stat(file1_path).st_size} bytes\")\n",
    "print(f\"A imagem file2.jpg tem {os.stat(file2_path).st_size} bytes\")"
   ]
  },
  {
   "cell_type": "markdown",
   "id": "aboriginal-acquisition",
   "metadata": {},
   "source": [
    "Como seria de esperar a imagem **file1.jpg** e **file2.jpg** têm um tamanho inferior quando comparado com a imagem original **lenac.tif**. Tal já seria de esperar, uma vez que as novas imagens foram gravadas em formato jpeg, onde é efectuada uma compressão do tipo lossy, que resulta geralmente numa compressão de 10:1 com perdas visíveis na qualidade da imagem.\n",
    "\n",
    "Comparando imagens **file1.jpg** e **file2.jpg**, também existem diferenças significativas tanto na dimensão como na qualidade, uma vez que na imagem file2.jpg foi aplicado um ratio de compressão mais elevado."
   ]
  },
  {
   "cell_type": "markdown",
   "id": "experimental-impression",
   "metadata": {},
   "source": [
    "$$ SNR = \\frac{1}{MN} $$\n",
    "\n",
    "$$ MSE = \\frac{1}{MN} $$\n",
    "\n",
    "$$ PSNR = \\frac{1}{MN} $$"
   ]
  },
  {
   "cell_type": "code",
   "execution_count": 8,
   "id": "viral-scenario",
   "metadata": {},
   "outputs": [],
   "source": [
    "def SNRdb(img1, img2):\n",
    "    pe = np.sum( (img1-img2)**2 ) / len(img1)\n",
    "    pxa = np.sum(image2**2) / len(img2)\n",
    "    return 10*np.log10(Pxa / pe)\n",
    "\n",
    "def MSE(img1, img2):\n",
    "    return np.sum( (img1 - img2)**2 ) / len(img1)\n",
    "\n",
    "def PSNR(img1, img2):\n",
    "    MaxI = np.max(img1)\n",
    "    return 10 * np.log10(MaxI / MSE(img1, img2))"
   ]
  },
  {
   "cell_type": "markdown",
   "id": "correct-customer",
   "metadata": {},
   "source": [
    "[back to index](#index)"
   ]
  },
  {
   "cell_type": "markdown",
   "id": "alternate-poultry",
   "metadata": {},
   "source": [
    "<a id=\"exercicio_3\"></a>\n",
    "\n",
    "# Exercício 3\n",
    "\n",
    "<div class=\"alert alert-block alert-info\">\n",
    "Converta a imagem que está na variável x_img para níveis de cinzento, usando o método \"cvtColor\"e grave o resultado. Este método aplica a transformação Y = R x 299=1000 + G x 587=1000 + B x 114=1000, justifique a utilização desta equação. Verifique também o tamanho do ficheiro e compare-o com o ficheiro original.\n",
    "</div>"
   ]
  },
  {
   "cell_type": "code",
   "execution_count": 100,
   "id": "settled-turkey",
   "metadata": {},
   "outputs": [],
   "source": [
    "x_img_g = cv2.cvtColor(x_img, cv2.COLOR_BGR2GRAY)\n",
    "# cv2.imshow(\"Gray Image\", x_img_g)\n",
    "# cv2.waitKey(0)\n",
    "# cv2.destroyAllWindows()\n",
    "\n",
    "file3_path = f\"{cwd}/images/file3.bmp\"\n",
    "cv2.imwrite(f\"{cwd}/images/file3.bmp\", x_img_g);"
   ]
  },
  {
   "cell_type": "markdown",
   "id": "loved-houston",
   "metadata": {},
   "source": [
    "[back to index](#index)"
   ]
  },
  {
   "cell_type": "markdown",
   "id": "chicken-protocol",
   "metadata": {},
   "source": [
    "<a id=\"exercicio_4\"></a>\n",
    "\n",
    "# Exercício 4\n",
    "\n",
    "<div class=\"alert alert-block alert-info\">\n",
    "Apresente o histograma da imagem (em tons de cinzento) que está na variável x_img_g. Verifique quantos níveis de cinzento tem a imagem.\n",
    "</div>"
   ]
  },
  {
   "cell_type": "code",
   "execution_count": 50,
   "id": "oriented-industry",
   "metadata": {},
   "outputs": [
    {
     "name": "stdout",
     "output_type": "stream",
     "text": [
      "A imagem x_img_g apresenta 215 níveis de cinzento\n"
     ]
    },
    {
     "data": {
      "image/png": "[encoded data removed]",
      "text/plain": [
       "<Figure size 432x288 with 1 Axes>"
      ]
     },
     "metadata": {
      "needs_background": "light"
     },
     "output_type": "display_data"
    }
   ],
   "source": [
    "plt.hist(x_img_g.ravel(), 256, [0, 256]);\n",
    "print(f\"A imagem x_img_g apresenta {len(np.unique(x_img_g.ravel()))} níveis de cinzento\")"
   ]
  },
  {
   "cell_type": "markdown",
   "id": "searching-criterion",
   "metadata": {},
   "source": [
    "[back to index](#index)"
   ]
  },
  {
   "cell_type": "markdown",
   "id": "encouraging-annual",
   "metadata": {},
   "source": [
    "<a id=\"exercicio_5\"></a>\n",
    " \n",
    "# Exercício 5\n",
    " \n",
    "<div class=\"alert alert-block alert-info\">\n",
    "Nos próximos trabalhos será necessário realizar operações com os valores de cada pixel. Para este efeito pode-se transformar a imagem para um array. O código seguinte representa o pixel mais significante da imagem. Apresente oito imagens, cada uma com o valor de cada bit para todos os pixeis.\n",
    "</div>"
   ]
  },
  {
   "cell_type": "code",
   "execution_count": 45,
   "id": "parliamentary-introduction",
   "metadata": {},
   "outputs": [],
   "source": [
    "for x in range(0,200,25):\n",
    "    cv2.imshow(f\"BW-{x}\", (x_img_g > x) * 1.0)\n",
    "    cv2.waitKey(0)\n",
    "    cv2.destroyAllWindows()"
   ]
  },
  {
   "cell_type": "markdown",
   "id": "psychological-bowling",
   "metadata": {},
   "source": [
    "Ao aplicar um threshold a uma imagem com um determinado valor, cria-se uma imagem \"binária\", onde com o valor 1 estarão representado todos os pixels que resultam da condição verdadeira da operação treshold aplicada, e os restante com o valor 0.\n"
   ]
  },
  {
   "cell_type": "markdown",
   "id": "generic-clause",
   "metadata": {},
   "source": [
    "[back to index](#index)"
   ]
  },
  {
   "cell_type": "markdown",
   "id": "contemporary-logging",
   "metadata": {},
   "source": [
    "<a id=\"exercicio_6\"></a>\n",
    " \n",
    "# Exercício 6\n",
    "\n",
    "<div class=\"alert alert-block alert-info\">\n",
    "Construa uma função que realize o algoritmo de dithering Floyd Steinberg. Esta função recebe uma matrix (com os pixeis em tons de cinzento) e devolve uma matrix com valores a preto e branco. Este algoritmo aproxima cada pixel da imagem (x) ao valor mais próximo (preto ou branco) e o erro é difundido para os pixeis adjacentes seguindo o método:\n",
    "\n",
    "Aplique esta função à imagem em tons de cinzento que está na variável x_img_g.\n",
    "</div>"
   ]
  },
  {
   "cell_type": "code",
   "execution_count": 171,
   "id": "proof-greeting",
   "metadata": {},
   "outputs": [
    {
     "name": "stdout",
     "output_type": "stream",
     "text": [
      "[[162 255   3 ...  11 200 203]\n",
      " [232 100 255 ... 230  72 205]\n",
      " [  7 251 121 ...  81 234 216]\n",
      " ...\n",
      " [ 80 159 235 ... 246   0 132]\n",
      " [ 79 142 210 ...  45 134 149]\n",
      " [ 78 139 201 ... 184 167 153]]\n"
     ]
    }
   ],
   "source": [
    "def dither(img):\n",
    "    output = np.copy(img)\n",
    "    for y in range(0, img.shape[1]-1):\n",
    "        for x in range(0, img.shape[0]-1):\n",
    "            newPixel = round(output[x][y] / 255)\n",
    "            # widespread error to adjacent pixels\n",
    "            quant_error = output[x][y] - newPixel\n",
    "            output[x + 1][y    ] += quant_error * 7 / 16\n",
    "            output[x - 1][y + 1] += quant_error * 3 / 16\n",
    "            output[x    ][y + 1] += quant_error * 5 / 16\n",
    "            output[x + 1][y + 1] += quant_error * 1 / 16\n",
    "    return output\n",
    "\n",
    "y = dither(x_img_g)\n",
    "print(y)\n",
    "cv2.imshow(\"Dither\", y)\n",
    "cv2.waitKey(0)\n",
    "cv2.destroyAllWindows()"
   ]
  },
  {
   "cell_type": "markdown",
   "id": "reserved-forestry",
   "metadata": {},
   "source": [
    "[back to index](#index)"
   ]
  },
  {
   "cell_type": "markdown",
   "id": "exceptional-surveillance",
   "metadata": {},
   "source": [
    "<a id=\"exercicio_7\"></a>\n",
    " \n",
    "# Exercício 7\n",
    " \n",
    "<div class=\"alert alert-block alert-info\">\n",
    "Construa uma função para gravar a matriz obtida na questão anterior (variável y) para um ficheiro binário. Verifique o tamanho do ficheiro inicial e do ficheiro final. Calcule a taxa de compressão e meça o SNR e o PSNR.\n",
    "</div>"
   ]
  },
  {
   "cell_type": "code",
   "execution_count": 104,
   "id": "religious-sample",
   "metadata": {},
   "outputs": [],
   "source": [
    "def saveDataToBinaryFile(namefile, arr):\n",
    "    np.save(f\"{namefile}.npy\", arr)\n",
    "    \n",
    "def dataCompressionRatio(Do, Dc):\n",
    "    return os.stat(Do).st_size / os.stat(Dc).st_size"
   ]
  },
  {
   "cell_type": "code",
   "execution_count": null,
   "id": "pleased-sheet",
   "metadata": {},
   "outputs": [],
   "source": [
    "saveDataToBinaryFile(f\"{cwd}/images/y\", y);\n",
    "filey_path = f\"{cwd}/images/y.npy\"\n",
    "\n",
    "print(f\"TC = {dataCompressionRatio(file3_path, filey_path)}\")\n",
    "print(f\"SNRdb = {SNRdb(x_img_g, )}\")\n",
    "print(f\"PSNR = {PSNR(x_img_g, )}\")"
   ]
  },
  {
   "cell_type": "markdown",
   "id": "secret-surface",
   "metadata": {},
   "source": []
  },
  {
   "cell_type": "markdown",
   "id": "broken-alexandria",
   "metadata": {},
   "source": [
    "[back to index](#index)"
   ]
  },
  {
   "cell_type": "markdown",
   "id": "fluid-trouble",
   "metadata": {},
   "source": [
    "<a id=\"exercicio_8\"></a>\n",
    "\n",
    "# Exercício 8\n",
    " \n",
    "<div class=\"alert alert-block alert-info\">\n",
    "Crie uma função que apresente uma imagem com dimensão de 100 x 100 pixeis como se apresenta na figura. O ângulo de cada sector é dado por parâmetro passado à função (o ângulo é um valor inteiro entre 0 e 360 graus).\n",
    "</div>"
   ]
  },
  {
   "cell_type": "code",
   "execution_count": 189,
   "id": "engaged-programming",
   "metadata": {},
   "outputs": [
    {
     "data": {
      "image/png": "[encoded data removed]",
      "text/plain": [
       "<Figure size 432x288 with 1 Axes>"
      ]
     },
     "metadata": {
      "needs_background": "light"
     },
     "output_type": "display_data"
    }
   ],
   "source": [
    "import math\n",
    "\n",
    "def bresenhamLine(x0, y0, x1, y1, out):\n",
    "    x = x0\n",
    "    y = y0\n",
    "    dX = x1 - x0\n",
    "    dY = y1 - y0\n",
    "    P = 2*dY-dX\n",
    "\n",
    "    while x <= x1:\n",
    "        out[x][y] = 1\n",
    "        x+=1\n",
    "        if P < 0:\n",
    "            P+=2*dY\n",
    "        else:\n",
    "            P+=2*dY-2*dX\n",
    "            y+=1\n",
    "    return out\n",
    "\n",
    "out = np.zeros((100,100))\n",
    "for y in range(50,52):\n",
    "    bresenhamLine(50,50,99,y,out)\n",
    "\n",
    "plt.imshow(out, cmap = 'gray');\n",
    "\n"
   ]
  },
  {
   "cell_type": "markdown",
   "id": "fiscal-blind",
   "metadata": {},
   "source": [
    "[back to index](#index)"
   ]
  },
  {
   "cell_type": "code",
   "execution_count": null,
   "id": "czech-stage",
   "metadata": {},
   "outputs": [],
   "source": []
  }
 ],
 "metadata": {
  "kernelspec": {
   "display_name": "csm_env",
   "language": "python",
   "name": "csm_env"
  },
  "language_info": {
   "codemirror_mode": {
    "name": "ipython",
    "version": 3
   },
   "file_extension": ".py",
   "mimetype": "text/x-python",
   "name": "python",
   "nbconvert_exporter": "python",
   "pygments_lexer": "ipython3",
   "version": "3.7.7"
  }
 },
 "nbformat": 4,
 "nbformat_minor": 5
}
