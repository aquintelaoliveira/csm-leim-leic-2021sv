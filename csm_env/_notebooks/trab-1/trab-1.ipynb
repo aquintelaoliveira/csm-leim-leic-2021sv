{
 "cells": [
  {
   "cell_type": "code",
   "execution_count": 8,
   "id": "prime-somerset",
   "metadata": {},
   "outputs": [],
   "source": [
    "import cv2\n",
    "import numpy as np\n",
    "import matplotlib.pyplot as plt"
   ]
  },
  {
   "cell_type": "markdown",
   "id": "effective-nevada",
   "metadata": {},
   "source": [
    "1. Abra o ficheiro com a imagem \"lenac.tif\"e apresente a imagem. Verifique para que servem os métodos \"dtype\"e \"shape\":"
   ]
  },
  {
   "cell_type": "code",
   "execution_count": 9,
   "id": "educational-imagination",
   "metadata": {},
   "outputs": [
    {
     "name": "stdout",
     "output_type": "stream",
     "text": [
      "uint8\n",
      "(512, 512, 3)\n"
     ]
    }
   ],
   "source": [
    "x_img = cv2.imread(\"lenac.tif\")\n",
    "cv2.imshow(\"Original Image\", x_img)\n",
    "print(x_img.dtype)\n",
    "print(x_img.shape)\n",
    "cv2.waitKey(0)\n",
    "cv2.destroyAllWindows()"
   ]
  },
  {
   "cell_type": "markdown",
   "id": "heavy-police",
   "metadata": {},
   "source": [
    "2. Grave a mesma imagem, mas agora em formato \"JPEG\"com diferentes qualidades. Verifique visualmente a qualidade das imagens assim como o tamanho do ficheiro. Produza o código para calcular a taxa de compressão, a SNR e a PSNR."
   ]
  },
  {
   "cell_type": "code",
   "execution_count": 10,
   "id": "ethical-lobby",
   "metadata": {},
   "outputs": [
    {
     "data": {
      "text/plain": [
       "True"
      ]
     },
     "execution_count": 10,
     "metadata": {},
     "output_type": "execute_result"
    }
   ],
   "source": [
    "cv2.imwrite(\"file1.jpg\", x_img, (cv2.IMWRITE_JPEG_QUALITY, 80))\n",
    "cv2.imwrite(\"file2.jpg\", x_img, (cv2.IMWRITE_JPEG_QUALITY, 10))"
   ]
  },
  {
   "cell_type": "markdown",
   "id": "alternate-poultry",
   "metadata": {},
   "source": [
    "3. Converta a imagem que está na variável x_img para níveis de cinzento, usando o método \"cvtColor\"e grave o resultado. Este método aplica a transformação Y = R \u0003 299=1000 + G \u0003 587=1000 + B \u0003 114=1000, justifique a utilização desta equação. Verifique também o tamanho do ficheiro e compare-o com o ficheiro original."
   ]
  },
  {
   "cell_type": "code",
   "execution_count": 11,
   "id": "settled-turkey",
   "metadata": {},
   "outputs": [
    {
     "data": {
      "text/plain": [
       "True"
      ]
     },
     "execution_count": 11,
     "metadata": {},
     "output_type": "execute_result"
    }
   ],
   "source": [
    "x_img_g = cv2.cvtColor(x_img, cv2.COLOR_BGR2GRAY)\n",
    "cv2.imshow(\"Gray Image\", x_img_g)\n",
    "cv2.waitKey(0)\n",
    "cv2.destroyAllWindows()\n",
    "cv2.imwrite(\"file3.bmp\", x_img_g)"
   ]
  },
  {
   "cell_type": "markdown",
   "id": "chicken-protocol",
   "metadata": {},
   "source": [
    "4. Apresente o histograma da imagem (em tons de cinzento) que está na variável x_img_g. Verifique quantos níveis de cinzento tem a imagem."
   ]
  },
  {
   "cell_type": "code",
   "execution_count": 12,
   "id": "oriented-industry",
   "metadata": {},
   "outputs": [
    {
     "data": {
      "text/plain": [
       "(array([0.000e+00, 0.000e+00, 0.000e+00, 0.000e+00, 0.000e+00, 0.000e+00,\n",
       "        0.000e+00, 0.000e+00, 0.000e+00, 0.000e+00, 0.000e+00, 0.000e+00,\n",
       "        0.000e+00, 0.000e+00, 0.000e+00, 0.000e+00, 0.000e+00, 0.000e+00,\n",
       "        0.000e+00, 0.000e+00, 0.000e+00, 0.000e+00, 0.000e+00, 0.000e+00,\n",
       "        0.000e+00, 1.000e+00, 6.000e+00, 2.000e+01, 2.900e+01, 5.900e+01,\n",
       "        9.700e+01, 1.370e+02, 1.810e+02, 2.200e+02, 3.010e+02, 4.210e+02,\n",
       "        5.000e+02, 6.120e+02, 7.600e+02, 9.400e+02, 1.062e+03, 1.254e+03,\n",
       "        1.443e+03, 1.646e+03, 1.761e+03, 1.882e+03, 1.998e+03, 2.092e+03,\n",
       "        2.020e+03, 2.105e+03, 2.086e+03, 2.029e+03, 1.979e+03, 1.808e+03,\n",
       "        1.731e+03, 1.668e+03, 1.578e+03, 1.469e+03, 1.278e+03, 1.236e+03,\n",
       "        1.220e+03, 1.003e+03, 9.300e+02, 9.760e+02, 8.800e+02, 8.900e+02,\n",
       "        7.910e+02, 7.970e+02, 7.710e+02, 7.800e+02, 8.520e+02, 8.190e+02,\n",
       "        8.320e+02, 7.850e+02, 8.790e+02, 9.090e+02, 8.680e+02, 8.540e+02,\n",
       "        9.470e+02, 9.730e+02, 9.050e+02, 9.130e+02, 8.670e+02, 9.350e+02,\n",
       "        9.320e+02, 9.670e+02, 1.008e+03, 1.016e+03, 1.063e+03, 1.134e+03,\n",
       "        1.120e+03, 1.190e+03, 1.218e+03, 1.325e+03, 1.399e+03, 1.538e+03,\n",
       "        1.621e+03, 1.806e+03, 1.871e+03, 2.086e+03, 1.894e+03, 1.933e+03,\n",
       "        1.956e+03, 1.836e+03, 1.761e+03, 1.729e+03, 1.612e+03, 1.504e+03,\n",
       "        1.435e+03, 1.366e+03, 1.362e+03, 1.344e+03, 1.345e+03, 1.451e+03,\n",
       "        1.359e+03, 1.355e+03, 1.384e+03, 1.448e+03, 1.568e+03, 1.572e+03,\n",
       "        1.604e+03, 1.776e+03, 1.817e+03, 1.894e+03, 2.029e+03, 2.140e+03,\n",
       "        2.304e+03, 2.321e+03, 2.369e+03, 2.521e+03, 2.306e+03, 2.304e+03,\n",
       "        2.252e+03, 2.078e+03, 1.992e+03, 1.822e+03, 1.933e+03, 1.903e+03,\n",
       "        2.025e+03, 2.136e+03, 2.260e+03, 2.304e+03, 2.327e+03, 2.453e+03,\n",
       "        2.459e+03, 2.408e+03, 2.236e+03, 2.316e+03, 2.287e+03, 2.174e+03,\n",
       "        2.282e+03, 2.316e+03, 2.391e+03, 2.592e+03, 2.691e+03, 2.740e+03,\n",
       "        2.705e+03, 2.552e+03, 2.414e+03, 2.261e+03, 2.041e+03, 1.853e+03,\n",
       "        1.779e+03, 1.616e+03, 1.474e+03, 1.425e+03, 1.352e+03, 1.234e+03,\n",
       "        1.253e+03, 1.196e+03, 1.170e+03, 1.208e+03, 1.342e+03, 1.263e+03,\n",
       "        1.233e+03, 1.158e+03, 1.186e+03, 1.224e+03, 1.086e+03, 9.430e+02,\n",
       "        9.040e+02, 8.220e+02, 7.860e+02, 6.890e+02, 6.090e+02, 6.300e+02,\n",
       "        6.430e+02, 6.790e+02, 6.340e+02, 6.640e+02, 7.390e+02, 7.950e+02,\n",
       "        8.300e+02, 9.410e+02, 9.050e+02, 9.760e+02, 9.200e+02, 9.100e+02,\n",
       "        8.430e+02, 8.220e+02, 8.680e+02, 9.030e+02, 8.340e+02, 8.860e+02,\n",
       "        9.090e+02, 9.690e+02, 9.760e+02, 1.066e+03, 1.042e+03, 1.068e+03,\n",
       "        9.570e+02, 9.810e+02, 9.550e+02, 8.660e+02, 6.970e+02, 5.440e+02,\n",
       "        4.900e+02, 3.940e+02, 3.810e+02, 2.840e+02, 2.300e+02, 2.340e+02,\n",
       "        1.940e+02, 1.880e+02, 1.260e+02, 7.700e+01, 7.400e+01, 5.900e+01,\n",
       "        5.100e+01, 2.200e+01, 1.900e+01, 9.000e+00, 7.000e+00, 6.000e+00,\n",
       "        8.000e+00, 1.000e+00, 0.000e+00, 0.000e+00, 1.000e+00, 0.000e+00,\n",
       "        0.000e+00, 0.000e+00, 2.000e+00, 0.000e+00, 1.000e+00, 1.000e+00,\n",
       "        0.000e+00, 0.000e+00, 0.000e+00, 0.000e+00, 0.000e+00, 0.000e+00,\n",
       "        0.000e+00, 0.000e+00, 0.000e+00, 0.000e+00]),\n",
       " array([  0.,   1.,   2.,   3.,   4.,   5.,   6.,   7.,   8.,   9.,  10.,\n",
       "         11.,  12.,  13.,  14.,  15.,  16.,  17.,  18.,  19.,  20.,  21.,\n",
       "         22.,  23.,  24.,  25.,  26.,  27.,  28.,  29.,  30.,  31.,  32.,\n",
       "         33.,  34.,  35.,  36.,  37.,  38.,  39.,  40.,  41.,  42.,  43.,\n",
       "         44.,  45.,  46.,  47.,  48.,  49.,  50.,  51.,  52.,  53.,  54.,\n",
       "         55.,  56.,  57.,  58.,  59.,  60.,  61.,  62.,  63.,  64.,  65.,\n",
       "         66.,  67.,  68.,  69.,  70.,  71.,  72.,  73.,  74.,  75.,  76.,\n",
       "         77.,  78.,  79.,  80.,  81.,  82.,  83.,  84.,  85.,  86.,  87.,\n",
       "         88.,  89.,  90.,  91.,  92.,  93.,  94.,  95.,  96.,  97.,  98.,\n",
       "         99., 100., 101., 102., 103., 104., 105., 106., 107., 108., 109.,\n",
       "        110., 111., 112., 113., 114., 115., 116., 117., 118., 119., 120.,\n",
       "        121., 122., 123., 124., 125., 126., 127., 128., 129., 130., 131.,\n",
       "        132., 133., 134., 135., 136., 137., 138., 139., 140., 141., 142.,\n",
       "        143., 144., 145., 146., 147., 148., 149., 150., 151., 152., 153.,\n",
       "        154., 155., 156., 157., 158., 159., 160., 161., 162., 163., 164.,\n",
       "        165., 166., 167., 168., 169., 170., 171., 172., 173., 174., 175.,\n",
       "        176., 177., 178., 179., 180., 181., 182., 183., 184., 185., 186.,\n",
       "        187., 188., 189., 190., 191., 192., 193., 194., 195., 196., 197.,\n",
       "        198., 199., 200., 201., 202., 203., 204., 205., 206., 207., 208.,\n",
       "        209., 210., 211., 212., 213., 214., 215., 216., 217., 218., 219.,\n",
       "        220., 221., 222., 223., 224., 225., 226., 227., 228., 229., 230.,\n",
       "        231., 232., 233., 234., 235., 236., 237., 238., 239., 240., 241.,\n",
       "        242., 243., 244., 245., 246., 247., 248., 249., 250., 251., 252.,\n",
       "        253., 254., 255., 256.]),\n",
       " <BarContainer object of 256 artists>)"
      ]
     },
     "execution_count": 12,
     "metadata": {},
     "output_type": "execute_result"
    },
    {
     "data": {
      "image/png": "[encoded data removed]",
      "text/plain": [
       "<Figure size 432x288 with 1 Axes>"
      ]
     },
     "metadata": {
      "needs_background": "light"
     },
     "output_type": "display_data"
    }
   ],
   "source": [
    "plt.hist(x_img_g.ravel(),256, [0, 256])"
   ]
  },
  {
   "cell_type": "markdown",
   "id": "encouraging-annual",
   "metadata": {},
   "source": [
    "5. Nos próximos trabalhos será necessário realizar operações com os valores de cada pixel. Para este efeito pode-se transformar a imagem para um array. O código seguinte representa o pixel mais significante da imagem. Apresente oito imagens, cada uma com o valor de cada bit para todos os pixeis."
   ]
  },
  {
   "cell_type": "code",
   "execution_count": 13,
   "id": "parliamentary-introduction",
   "metadata": {},
   "outputs": [],
   "source": [
    "for x in range(0,200,25):\n",
    "    cv2.imshow(f\"BW-{x}\", (x_img_g > x) * 1.0)\n",
    "    cv2.waitKey(0)\n",
    "    cv2.destroyAllWindows()\n"
   ]
  },
  {
   "cell_type": "markdown",
   "id": "contemporary-logging",
   "metadata": {},
   "source": [
    "6. Construa uma função que realize o algoritmo de dithering Floyd Steinberg. Esta função recebe uma matrix (com os pixeis em tons de cinzento) e devolve uma matrix com valores a preto e branco. Este algoritmo aproxima cada pixel da imagem (x) ao valor mais próximo (preto ou branco) e o erro é difundido para os pixeis adjacentes seguindo o método:\n",
    "\n",
    "<method>\n",
    "\n",
    "Aplique esta função à imagem em tons de cinzento que está na variável x_img_g."
   ]
  },
  {
   "cell_type": "code",
   "execution_count": 28,
   "id": "proof-greeting",
   "metadata": {},
   "outputs": [],
   "source": [
    "\"\"\"\n",
    "Shape of image is accessed by img.shape. It returns a tuple of number of rows, columns and channels (if image is color):\n",
    ">>> print img.shape\n",
    "(342, 548, 3)\n",
    "\"\"\"\n",
    "\n",
    "def Dither(img):\n",
    "\n",
    "    output = np.copy(img)\n",
    "\n",
    "    for y in range(1,img.shape[0]-1):\n",
    "        for x in range(1,img.shape[1]-1):\n",
    "        \n",
    "            pix = output[y][x]\n",
    "            newpix = round(pix/255) * 255\n",
    "\n",
    "            error = pix - newpix\n",
    "\n",
    "            output[y][x] = newpix\n",
    "\n",
    "            output[y    ][x + 1] += error * 7/16\n",
    "            output[y + 1][x - 1] += error * 3/16\n",
    "            output[y + 1][x    ] += error * 5/16\n",
    "            output[y + 1][x + 1] += error * 1/16\n",
    "\n",
    "    return(output)\n",
    "\n",
    "\n",
    "y = dither(x_img_g)\n",
    "cv2.imshow(\"Dither\", y)\n",
    "cv2.waitKey(0)\n",
    "cv2.destroyAllWindows()"
   ]
  },
  {
   "cell_type": "markdown",
   "id": "exceptional-surveillance",
   "metadata": {},
   "source": [
    "7. Construa uma função para gravar a matriz obtida na questão anterior (variável y)para um ficheiro binário. Verifique o tamanho do ficheiro inicial e do ficheiro final. Calcule a taxa de compressão e meça o SNR e o PSNR."
   ]
  },
  {
   "cell_type": "code",
   "execution_count": null,
   "id": "latter-duplicate",
   "metadata": {},
   "outputs": [],
   "source": []
  },
  {
   "cell_type": "markdown",
   "id": "fluid-trouble",
   "metadata": {},
   "source": [
    "8. Crie uma função que apresente uma imagem com dimensão de 100 x 100 pixeis como se apresenta na figura. O ângulo de cada sector é dado por parâmetro passado à função (o ângulo é um valor inteiro entre 0 e 360 graus)."
   ]
  },
  {
   "cell_type": "code",
   "execution_count": null,
   "id": "engaged-programming",
   "metadata": {},
   "outputs": [],
   "source": []
  }
 ],
 "metadata": {
  "kernelspec": {
   "display_name": "csm_env",
   "language": "python",
   "name": "csm_env"
  },
  "language_info": {
   "codemirror_mode": {
    "name": "ipython",
    "version": 3
   },
   "file_extension": ".py",
   "mimetype": "text/x-python",
   "name": "python",
   "nbconvert_exporter": "python",
   "pygments_lexer": "ipython3",
   "version": "3.7.7"
  }
 },
 "nbformat": 4,
 "nbformat_minor": 5
}
