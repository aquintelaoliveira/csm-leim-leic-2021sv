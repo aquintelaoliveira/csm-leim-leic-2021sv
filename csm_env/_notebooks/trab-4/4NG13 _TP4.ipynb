{
 "cells": [
  {
   "cell_type": "markdown",
   "id": "flying-myrtle",
   "metadata": {},
   "source": [
    "<div>\n",
    "     <div>\n",
    "        <img src=\"./report/isel_logo.png\" width=\"400\" height=\"400\" align=\"left\">\n",
    "    </div>\n",
    "    <div>\n",
    "        <h2>Área Departamental de Engenharia de Eletrónica e Telecomunicações e de Computadores</h2>\n",
    "        <p>Trabalho prático 4</p>\n",
    "        <p>Autor:\t44598\tAndré L. A. Q. de Oliveira</p>\n",
    "        <p>Unidade Curricular Compressão de Sinais Multimédia</p>\n",
    "        <p>Professor: André Lourenço</p>\n",
    "        <p>27 - Junho - 2021</p>\n",
    "    </div>\n",
    "</div>"
   ]
  },
  {
   "cell_type": "markdown",
   "id": "maritime-giving",
   "metadata": {},
   "source": [
    "### <a id=\"index\"></a>\n",
    "\n",
    "# Index\n",
    "- [Tabelas da norma ITU T.81 - JPEG standard](#ITU_T.81)\n",
    "- [Compressão](#compressao)\n",
    "    - [snr](#snr)\n",
    "- [Entropia](#entropia)\n",
    "    - [entropy](#entropy)\n",
    "    - [efficiency](#efficiency)\n",
    "- [Utilities](#utilities)\n",
    "    - [imshow](#imshow)\n",
    "    - [convertFrame2Jpeg](#convertFrame2Jpeg)\n",
    "    - [createPframe](#createPframe)\n",
    "    - [mae](#mae)\n",
    "    - [divide_to_blocks](#divide_to_blocks)\n",
    "    - [merge_from_blocks](#merge_from_blocks)\n",
    "- [Codificador 1](#codificador_1)\n",
    "    - [encode_1](#encode_1)\n",
    "- [Codificador 2](#codificador_2)\n",
    "    - [encode_2](#encode_2)\n",
    "    - [decode_2](#decode_2)\n",
    "- [Codificador 3](#codificador_2)\n",
    "    - [encode_3](#encode_3)\n",
    "    - [decode_3](#decode_3)\n",
    "- [Testes](#testes)\n",
    "- [Conclusões](#conclusoes)"
   ]
  },
  {
   "cell_type": "markdown",
   "id": "reflected-transcript",
   "metadata": {},
   "source": [
    "# Importar bibliotecas"
   ]
  },
  {
   "cell_type": "code",
   "execution_count": 11,
   "id": "retained-supply",
   "metadata": {},
   "outputs": [],
   "source": [
    "import os\n",
    "from time import time\n",
    "import cv2\n",
    "import numpy as np\n",
    "import matplotlib.pyplot as plt\n",
    "\n",
    "cwd = os.getcwd() # current work diretory"
   ]
  },
  {
   "cell_type": "markdown",
   "id": "familiar-inspection",
   "metadata": {},
   "source": [
    "<a id=\"compressao\"></a>\n",
    "\n",
    "# Compressão\n",
    "\n",
    "A taxa de compressão pode ser cáculada atrás da seguinte expressão matemática:\n",
    "\n",
    "$$ T_c = \\frac{D_o}{D_c} $$"
   ]
  },
  {
   "cell_type": "markdown",
   "id": "rough-ribbon",
   "metadata": {},
   "source": [
    "<a id=\"snr\"></a>\n",
    "\n",
    "## SNR\n",
    "\n",
    "A relação sinal-ruído compara o nível de um sinal desejado com o nível do ruído. Quanto mais alta for a relação sinal-ruído, menor é o efeito do ruído de fundo sobre a detecção ou medição do sinal.\n",
    "\n",
    "$$ SNR(Db) = 10\\log_{10}\\left[\\frac{\\sum_{l}\\sum_{c}I_{ap}(l,c)^2}{\\sum_{l}\\sum_{c}[I_{ap}(l,c)-I_{or}(l,c)]^2}\\right] $$"
   ]
  },
  {
   "cell_type": "code",
   "execution_count": 20,
   "id": "advance-times",
   "metadata": {},
   "outputs": [],
   "source": [
    "def snr(I_or, I_ap):\n",
    "    Pxa = np.sum(I_ap.astype('float')**2)\n",
    "    Pe = np.sum( (I_ap.astype('float') - I_or.astype('float'))**2 )\n",
    "    return 10 * np.log10(Pxa / Pe)"
   ]
  },
  {
   "cell_type": "markdown",
   "id": "published-coordinator",
   "metadata": {},
   "source": [
    "<a id=\"entropia\"></a>\n",
    "\n",
    "# Entropia\n",
    "\n",
    "A entropia mede a quantidade de informação codificada na mensagem, onde quando maior for o valor entrópico, maior será a incerteza.\n",
    "\n",
    "A entropia da fonte é dada pela seguinte expressão matemática:\n",
    "\n",
    "$$ H(S) = -\\sum_{i=1}^{N}p(s_i)log_{2}p(s_i) $$\n",
    "\n",
    "\n",
    "A eficiência da condificação pode ser obtida através da seguinte expressão matemática:\n",
    "\n",
    "$$ \\eta = \\frac{H(S)}{L} $$\n",
    "\n",
    "onde, **_L_** é o número médio de bits por símbolo.\n",
    "\n",
    "É possível codificar uma fonte, sem perdas, se o número médio de bits por símbolo for maior ou igual à entropia da fonte:\n",
    "\n",
    "$$ H(S) < L < H(S) + \\delta $$"
   ]
  },
  {
   "cell_type": "markdown",
   "id": "alpha-wholesale",
   "metadata": {},
   "source": [
    "<a id=\"entropy\"></a>\n",
    "\n",
    "## entropy\n"
   ]
  },
  {
   "cell_type": "code",
   "execution_count": 21,
   "id": "sunrise-steering",
   "metadata": {},
   "outputs": [],
   "source": [
    "def calculate_entropy(symbol_freq_dictionary):\n",
    "    # list of symbol occurences in file\n",
    "    occurrences = list(symbol_freq_dictionary.values())\n",
    "    # total number of symbols\n",
    "    t = np.sum(occurrences)\n",
    "    # probability of each symbol\n",
    "    p = [occ / t for occ in occurrences]\n",
    "    return -np.sum([p * np.log2(p)])"
   ]
  },
  {
   "cell_type": "markdown",
   "id": "conservative-honey",
   "metadata": {},
   "source": [
    "<a id=\"efficiency\"></a>\n",
    "\n",
    "## efficiency"
   ]
  },
  {
   "cell_type": "code",
   "execution_count": null,
   "id": "effective-snowboard",
   "metadata": {},
   "outputs": [],
   "source": [
    "def efficiency(H, dictionary):\n",
    "    # average number of bits per symbol\n",
    "    L = 0\n",
    "    for symbol in dictionary:\n",
    "        L += len(dictionary[symbol])\n",
    "    L = L / len(dictionary)\n",
    "    return L, ( H / L )"
   ]
  },
  {
   "cell_type": "markdown",
   "id": "composite-emphasis",
   "metadata": {},
   "source": [
    "[back to index](#index)"
   ]
  },
  {
   "cell_type": "markdown",
   "id": "collectible-survival",
   "metadata": {},
   "source": [
    "<a id=\"utilities\"></a>\n",
    "\n",
    "# Utilities"
   ]
  },
  {
   "cell_type": "markdown",
   "id": "surrounded-soldier",
   "metadata": {},
   "source": [
    "<a id=\"imshow\"></a>\n",
    "\n",
    "## imshow"
   ]
  },
  {
   "cell_type": "code",
   "execution_count": 1,
   "id": "alien-liechtenstein",
   "metadata": {},
   "outputs": [],
   "source": [
    "def imshow(title, image):\n",
    "    cv2.imshow(title, image)\n",
    "    cv2.waitKey(0)\n",
    "    cv2.destroyAllWindows()"
   ]
  },
  {
   "cell_type": "markdown",
   "id": "designed-locking",
   "metadata": {},
   "source": [
    "<a id=\"convertFrame2Jpeg\"></a>\n",
    "\n",
    "## convertFrame2Jpeg"
   ]
  },
  {
   "cell_type": "code",
   "execution_count": 2,
   "id": "responsible-deficit",
   "metadata": {},
   "outputs": [],
   "source": [
    "def convertFrame2Jpeg(path, frame):\n",
    "    cv2.imwrite(f\"{path}.jpg\", frame, (cv2.IMWRITE_JPEG_QUALITY, 50))\n",
    "    return cv2.imread(f\"{path}.jpg\", cv2.IMREAD_GRAYSCALE)"
   ]
  },
  {
   "cell_type": "markdown",
   "id": "psychological-steam",
   "metadata": {},
   "source": [
    "<a id=\"create_Pframe\"></a>\n",
    "\n",
    "## create_Pframe"
   ]
  },
  {
   "cell_type": "code",
   "execution_count": 21,
   "id": "ambient-technology",
   "metadata": {},
   "outputs": [],
   "source": [
    "def create_Pframe(Iframe, frame):\n",
    "    np.zeros\n",
    "    return cv2.subtract(Iframe, frame)"
   ]
  },
  {
   "cell_type": "code",
   "execution_count": 22,
   "id": "existing-resource",
   "metadata": {},
   "outputs": [],
   "source": [
    "Iframe = frames[1][0]\n",
    "PFrames = [ ]\n",
    "for i in range(1, len(frames)):\n",
    "    PFrames.append( createPframe(Iframe, frames[1][i]) )"
   ]
  },
  {
   "cell_type": "markdown",
   "id": "artificial-proposition",
   "metadata": {},
   "source": [
    "<a id=\"reconstruct_Iframe\"></a>\n",
    "\n",
    "## reconstruct_Iframe"
   ]
  },
  {
   "cell_type": "code",
   "execution_count": 33,
   "id": "beneficial-belarus",
   "metadata": {},
   "outputs": [],
   "source": [
    "def reconstruct_Iframe(Iframe, Pframe):\n",
    "    return cv2.add(Iframe, Pframe)"
   ]
  },
  {
   "cell_type": "markdown",
   "id": "experienced-potato",
   "metadata": {},
   "source": [
    "<a id=\"mae\"></a>\n",
    "\n",
    "## Erro absoluto médio (MAE)\n",
    "\n",
    "Critério de semelhança entre blocos\n",
    "\n",
    "$$ (d_m,d_n) = arg \\min_{d_m,d_n} \\frac{1}{MN}\\sum_{m=1}^{M}\\sum_{n=1}^{N} \\left| X^{t}(m,n)-X^{t-1}(m-d_m,n-d_n) \\right| $$"
   ]
  },
  {
   "cell_type": "code",
   "execution_count": 37,
   "id": "mental-cookbook",
   "metadata": {},
   "outputs": [],
   "source": [
    "def mae(b1, b2):\n",
    "    return np.sum(np.abs(cv2.subtract(b1,b2).ravel())) / len(b1.ravel())"
   ]
  },
  {
   "cell_type": "code",
   "execution_count": 38,
   "id": "confused-rider",
   "metadata": {},
   "outputs": [
    {
     "name": "stdout",
     "output_type": "stream",
     "text": [
      "2.0\n"
     ]
    }
   ],
   "source": [
    "block1 = np.ones(256).reshape((16,16))\n",
    "block2 = (np.ones(256)*3).reshape((16,16))\n",
    "\n",
    "print(mae(block1, block2))"
   ]
  },
  {
   "cell_type": "markdown",
   "id": "medium-farming",
   "metadata": {},
   "source": [
    "<a id=\"divide_to_blocks\"></a>\n",
    "\n",
    "### divide_to_blocks\n",
    "\n",
    "Divide uma imagem em array de blocos de tamnho size x size."
   ]
  },
  {
   "cell_type": "code",
   "execution_count": 36,
   "id": "subsequent-marsh",
   "metadata": {},
   "outputs": [],
   "source": [
    "def divide_to_blocks(image, size):\n",
    "    output = []\n",
    "    \n",
    "    width, height = image.shape\n",
    "    for lin in range(0, width, size):\n",
    "        for col in range(0, height, size):\n",
    "            img_w = lin + size\n",
    "            img_h = col + size\n",
    "            blc_w = size\n",
    "            blc_h = size\n",
    "            # check for out of bounds\n",
    "            if (lin + size) > width:\n",
    "                img_w = width\n",
    "                blc_w = width - lin\n",
    "            if (col + size) > height:\n",
    "                img_h = height\n",
    "                blc_h = height - col\n",
    "            # create new block\n",
    "            block = np.zeros(size*size, dtype='uint8').reshape((size,size))\n",
    "            block[0:blc_w,0:blc_h] = image[lin:img_w,col:img_h]\n",
    "            output.append(block)\n",
    "                \n",
    "    return output"
   ]
  },
  {
   "cell_type": "markdown",
   "id": "second-shape",
   "metadata": {},
   "source": [
    "<a id=\"merge_from_blocks\"></a>\n",
    "\n",
    "### merge_from_blocks\n",
    "\n",
    "Merge um array de blocos para uma imagem."
   ]
  },
  {
   "cell_type": "code",
   "execution_count": 3,
   "id": "czech-mitchell",
   "metadata": {},
   "outputs": [],
   "source": [
    "def merge_from_blocks(arr, shape, size):\n",
    "    width = nearest_multiple(shape[0], size)\n",
    "    heigth = nearest_multiple(shape[1], size)\n",
    "    index = 0\n",
    "    output = np.zeros((width, heigth), dtype='uint8')\n",
    "    for lin in range(0, width, size):\n",
    "        for col in range(0, heigth, size):\n",
    "            output[lin:(lin+size),col:(col+size)] = arr[index]\n",
    "            index = index + 1\n",
    "    return output[0:shape[0],0:shape[1]]"
   ]
  },
  {
   "cell_type": "markdown",
   "id": "sophisticated-think",
   "metadata": {},
   "source": [
    " <a id=\"codificador_1\"></a>\n",
    " \n",
    "# Codificador 1\n",
    " \n",
    "<div class=\"alert alert-block alert-info\">\n",
    "Considera que cada frame é uma intra-frame (I).\n",
    "</div>"
   ]
  },
  {
   "cell_type": "code",
   "execution_count": 7,
   "id": "registered-deposit",
   "metadata": {},
   "outputs": [],
   "source": [
    "def encode_1(path, frames):\n",
    "    Iframes = []\n",
    "    for i in range(len(frames)):\n",
    "        Iframes.append( convertFrame2Jpeg(f\"{path}/Iframe_{i+1}\", frames[i]) )\n",
    "    return Iframes"
   ]
  },
  {
   "cell_type": "markdown",
   "id": "south-charles",
   "metadata": {},
   "source": [
    "<a id=\"codificador_2\"></a>\n",
    " \n",
    "# Codificador 2\n",
    " \n",
    "<div class=\"alert alert-block alert-info\">\n",
    "Considera que todas as frames à exceção da primeira (a I-frame) são inter-frames (P), sem compensação de movimento.\n",
    "</div>"
   ]
  },
  {
   "cell_type": "code",
   "execution_count": 25,
   "id": "banned-rates",
   "metadata": {},
   "outputs": [],
   "source": [
    "def encode_2(path, frames):\n",
    "    Iframe = frames[0]\n",
    "    Pframes = []\n",
    "    convertFrame2Jpeg(f\"{path}/Iframe_{1}\", Iframe)\n",
    "    for i in range(1, len(frames)):\n",
    "        Pframes.append( convertFrame2Jpeg(f\"{path}/Pframe_{i+1}\", create_Pframe(frames[0], frames[i])) )\n",
    "    return Iframe, Pframes"
   ]
  },
  {
   "cell_type": "code",
   "execution_count": 37,
   "id": "removed-chile",
   "metadata": {},
   "outputs": [],
   "source": [
    "def decode_2(path, Iframe, Pframes):\n",
    "    rIframes = []\n",
    "    for i in range(len(Pframes)):\n",
    "        rIframes.append( convertFrame2Jpeg(f\"{path}/rIframe_{i+2}\", reconstruct_Iframe(Iframe, Pframes[i])) )\n",
    "    return Iframe, rIframes"
   ]
  },
  {
   "cell_type": "markdown",
   "id": "conservative-trail",
   "metadata": {},
   "source": [
    "<a id=\"codificador_3\"></a>\n",
    " \n",
    "# Codificador 3\n",
    " \n",
    "<div class=\"alert alert-block alert-info\">\n",
    "Considera que todas as frames à exceção da primeira (a I-frame) são inter-frames (P), com compensação de movimento.\n",
    "</div>"
   ]
  },
  {
   "cell_type": "code",
   "execution_count": null,
   "id": "roman-apparel",
   "metadata": {},
   "outputs": [],
   "source": [
    "def encode_3(path, frames):"
   ]
  },
  {
   "cell_type": "code",
   "execution_count": null,
   "id": "indirect-study",
   "metadata": {},
   "outputs": [],
   "source": [
    "def decode_3(path, frames):"
   ]
  },
  {
   "cell_type": "code",
   "execution_count": null,
   "id": "difficult-cardiff",
   "metadata": {},
   "outputs": [],
   "source": []
  },
  {
   "cell_type": "markdown",
   "id": "interesting-framework",
   "metadata": {},
   "source": [
    "### <a id=\"testes\"></a>\n",
    "\n",
    "# Testes"
   ]
  },
  {
   "cell_type": "markdown",
   "id": "brazilian-brain",
   "metadata": {},
   "source": [
    "## Importar dados"
   ]
  },
  {
   "cell_type": "code",
   "execution_count": 61,
   "id": "smoking-presence",
   "metadata": {},
   "outputs": [],
   "source": [
    "# sorting frames names by alphabetical order\n",
    "# frames[0] = sorted(frames[0], key=lambda x: (x[0],int(x[5:])) )"
   ]
  },
  {
   "cell_type": "code",
   "execution_count": 13,
   "id": "false-apache",
   "metadata": {},
   "outputs": [],
   "source": [
    "frames = []\n",
    "for i in range(len(os.listdir(f\"{cwd}/input_data/bola_seq\"))):\n",
    "    frames.append( cv2.imread(f\"{cwd}/input_data/bola_seq/bola_{i+1}.tiff\", cv2.IMREAD_GRAYSCALE) )"
   ]
  },
  {
   "cell_type": "markdown",
   "id": "anticipated-butler",
   "metadata": {},
   "source": [
    "<div class=\"alert alert-block alert-info\">\n",
    "Codificador 1\n",
    "</div>"
   ]
  },
  {
   "cell_type": "code",
   "execution_count": 28,
   "id": "abstract-plumbing",
   "metadata": {},
   "outputs": [],
   "source": [
    "Iframe1 = encode_1(f\"{cwd}/output_data/codificador1\", frames)"
   ]
  },
  {
   "cell_type": "markdown",
   "id": "affiliated-experience",
   "metadata": {},
   "source": [
    "<div class=\"alert alert-block alert-info\">\n",
    "Codificador 2\n",
    "</div>"
   ]
  },
  {
   "cell_type": "code",
   "execution_count": 38,
   "id": "searching-journalism",
   "metadata": {},
   "outputs": [],
   "source": [
    "Iframe2, Pframes2 = encode_2(f\"{cwd}/output_data/codificador2/encode\", frames)"
   ]
  },
  {
   "cell_type": "code",
   "execution_count": 39,
   "id": "interstate-design",
   "metadata": {},
   "outputs": [
    {
     "data": {
      "text/plain": [
       "(array([[ 60,  62,  62, ...,  30,  32,  32],\n",
       "        [ 68,  69,  75, ...,  31,  33,  32],\n",
       "        [ 89,  57,  58, ...,  30,  33,  32],\n",
       "        ...,\n",
       "        [ 62,  63,  62, ...,  62,  55,  28],\n",
       "        [ 62,  64,  65, ..., 120, 119,  99],\n",
       "        [ 65,  63,  64, ..., 119, 119, 119]], dtype=uint8),\n",
       " [array([[ 57,  61,  68, ...,  31,  30,  30],\n",
       "         [ 69,  68,  67, ...,  31,  31,  30],\n",
       "         [ 80,  75,  67, ...,  32,  31,  31],\n",
       "         ...,\n",
       "         [ 63,  63,  63, ...,  67,  52,  37],\n",
       "         [ 64,  64,  64, ..., 126, 120, 108],\n",
       "         [ 64,  64,  64, ..., 124, 118, 102]], dtype=uint8),\n",
       "  array([[ 57,  61,  68, ...,  33,  32,  32],\n",
       "         [ 69,  68,  67, ...,  33,  33,  32],\n",
       "         [ 80,  75,  67, ...,  34,  33,  33],\n",
       "         ...,\n",
       "         [ 63,  63,  63, ...,  67,  52,  37],\n",
       "         [ 64,  64,  64, ..., 126, 120, 108],\n",
       "         [ 64,  64,  64, ..., 124, 118, 102]], dtype=uint8),\n",
       "  array([[ 57,  61,  68, ...,  33,  32,  32],\n",
       "         [ 69,  68,  67, ...,  33,  33,  32],\n",
       "         [ 80,  75,  67, ...,  34,  33,  33],\n",
       "         ...,\n",
       "         [ 63,  63,  63, ...,  67,  52,  37],\n",
       "         [ 64,  64,  64, ..., 126, 120, 108],\n",
       "         [ 64,  64,  64, ..., 124, 118, 102]], dtype=uint8),\n",
       "  array([[ 57,  61,  68, ...,  31,  30,  30],\n",
       "         [ 69,  68,  67, ...,  31,  31,  30],\n",
       "         [ 80,  75,  67, ...,  32,  31,  31],\n",
       "         ...,\n",
       "         [ 63,  63,  63, ...,  71,  56,  41],\n",
       "         [ 64,  64,  64, ..., 128, 123, 110],\n",
       "         [ 64,  64,  64, ..., 124, 117, 102]], dtype=uint8),\n",
       "  array([[ 57,  61,  68, ...,  31,  30,  30],\n",
       "         [ 69,  68,  67, ...,  31,  31,  30],\n",
       "         [ 80,  75,  67, ...,  32,  31,  31],\n",
       "         ...,\n",
       "         [ 63,  63,  63, ...,  67,  52,  37],\n",
       "         [ 64,  64,  64, ..., 126, 120, 108],\n",
       "         [ 64,  64,  64, ..., 124, 118, 102]], dtype=uint8),\n",
       "  array([[ 57,  61,  68, ...,  31,  30,  30],\n",
       "         [ 69,  68,  67, ...,  31,  31,  30],\n",
       "         [ 80,  75,  67, ...,  32,  31,  31],\n",
       "         ...,\n",
       "         [ 63,  63,  63, ...,  67,  52,  37],\n",
       "         [ 64,  64,  64, ..., 126, 120, 108],\n",
       "         [ 64,  64,  64, ..., 124, 118, 102]], dtype=uint8),\n",
       "  array([[ 57,  61,  68, ...,  31,  30,  30],\n",
       "         [ 69,  68,  67, ...,  31,  31,  30],\n",
       "         [ 80,  75,  67, ...,  32,  31,  31],\n",
       "         ...,\n",
       "         [ 63,  63,  63, ...,  67,  52,  37],\n",
       "         [ 64,  64,  64, ..., 126, 120, 108],\n",
       "         [ 64,  64,  64, ..., 124, 118, 102]], dtype=uint8),\n",
       "  array([[ 57,  61,  68, ...,  31,  30,  30],\n",
       "         [ 69,  68,  67, ...,  31,  31,  30],\n",
       "         [ 80,  75,  67, ...,  32,  31,  31],\n",
       "         ...,\n",
       "         [ 63,  63,  63, ...,  74,  62,  48],\n",
       "         [ 64,  64,  64, ..., 129, 125, 113],\n",
       "         [ 64,  64,  64, ..., 123, 117, 103]], dtype=uint8),\n",
       "  array([[ 57,  61,  68, ...,  31,  30,  30],\n",
       "         [ 69,  68,  67, ...,  31,  31,  30],\n",
       "         [ 80,  75,  67, ...,  32,  31,  31],\n",
       "         ...,\n",
       "         [ 63,  63,  63, ...,  71,  66,  58],\n",
       "         [ 64,  64,  64, ..., 129, 130, 123],\n",
       "         [ 64,  64,  64, ..., 126, 124, 113]], dtype=uint8),\n",
       "  array([[ 57,  61,  68, ...,  31,  30,  30],\n",
       "         [ 69,  68,  67, ...,  31,  31,  30],\n",
       "         [ 80,  75,  67, ...,  32,  31,  31],\n",
       "         ...,\n",
       "         [ 63,  63,  63, ...,  84,  81,  74],\n",
       "         [ 64,  64,  64, ..., 121, 113,  98],\n",
       "         [ 64,  64,  64, ..., 135, 130, 114]], dtype=uint8)])"
      ]
     },
     "execution_count": 39,
     "metadata": {},
     "output_type": "execute_result"
    }
   ],
   "source": [
    "decode_2(f\"{cwd}/output_data/codificador2/decode\", Iframe2, Pframes2)"
   ]
  },
  {
   "cell_type": "markdown",
   "id": "small-plasma",
   "metadata": {},
   "source": [
    "<div class=\"alert alert-block alert-info\">\n",
    "Codificador 3\n",
    "</div>"
   ]
  },
  {
   "cell_type": "markdown",
   "id": "parliamentary-divorce",
   "metadata": {},
   "source": [
    "[back to index](#index)"
   ]
  },
  {
   "cell_type": "markdown",
   "id": "floral-illustration",
   "metadata": {},
   "source": [
    "<a id=\"conclusoes\"></a>\n",
    "\n",
    "# Conclusões\n",
    "\n",
    "Este trabalho explora os princípios básicos da codificação de vídeo. Neste trabalho pretende-se implementar três formas\n",
    "de codificação de vídeo. Cada um destes codificadores deve ser testado com a a sequência de imagens disponibilizadas"
   ]
  },
  {
   "cell_type": "markdown",
   "id": "hollow-smoke",
   "metadata": {},
   "source": [
    "[back to index](#index)"
   ]
  }
 ],
 "metadata": {
  "kernelspec": {
   "display_name": "csm_env",
   "language": "python",
   "name": "csm_env"
  },
  "language_info": {
   "codemirror_mode": {
    "name": "ipython",
    "version": 3
   },
   "file_extension": ".py",
   "mimetype": "text/x-python",
   "name": "python",
   "nbconvert_exporter": "python",
   "pygments_lexer": "ipython3",
   "version": "3.7.7"
  }
 },
 "nbformat": 4,
 "nbformat_minor": 5
}
