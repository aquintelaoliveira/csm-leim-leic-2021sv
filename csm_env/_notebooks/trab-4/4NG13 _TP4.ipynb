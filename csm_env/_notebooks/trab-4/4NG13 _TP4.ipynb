{
 "cells": [
  {
   "cell_type": "markdown",
   "id": "flying-myrtle",
   "metadata": {},
   "source": [
    "<div>\n",
    "     <div>\n",
    "        <img src=\"./report/isel_logo.png\" width=\"400\" height=\"400\" align=\"left\">\n",
    "    </div>\n",
    "    <div>\n",
    "        <h2>Área Departamental de Engenharia de Eletrónica e Telecomunicações e de Computadores</h2>\n",
    "        <p>Trabalho prático 4</p>\n",
    "        <p>Autor:\t44598\tAndré L. A. Q. de Oliveira</p>\n",
    "        <p>Unidade Curricular Compressão de Sinais Multimédia</p>\n",
    "        <p>Professor: André Lourenço</p>\n",
    "        <p>27 - Junho - 2021</p>\n",
    "    </div>\n",
    "</div>"
   ]
  },
  {
   "cell_type": "markdown",
   "id": "maritime-giving",
   "metadata": {},
   "source": [
    "### <a id=\"index\"></a>\n",
    "\n",
    "# Index\n",
    "- [Tabelas da norma ITU T.81 - JPEG standard](#ITU_T.81)\n",
    "- [Compressão](#compressao)\n",
    "    - [snr](#snr)\n",
    "- [Entropia](#entropia)\n",
    "    - [entropy](#entropy)\n",
    "    - [efficiency](#efficiency)\n",
    "- [Utilities](#utilities)\n",
    "    - [imshow](#imshow)\n",
    "    - [convertFrame2Jpeg](#convertFrame2Jpeg)\n",
    "    - [createPframe](#createPframe)\n",
    "    - [mae](#mae)\n",
    "    - [divide_to_blocks](#divide_to_blocks)\n",
    "    - [merge_from_blocks](#merge_from_blocks)\n",
    "- [Codificador 1](#codificador_1)\n",
    "    - [encode_1](#encode_1)\n",
    "- [Codificador 2](#codificador_2)\n",
    "    - [encode_2](#encode_2)\n",
    "    - [decode_2](#decode_2)\n",
    "- [Codificador 3](#codificador_2)\n",
    "    - [encode_3](#encode_3)\n",
    "    - [decode_3](#decode_3)\n",
    "- [Testes](#testes)\n",
    "- [Conclusões](#conclusoes)"
   ]
  },
  {
   "cell_type": "markdown",
   "id": "reflected-transcript",
   "metadata": {},
   "source": [
    "# Importar bibliotecas"
   ]
  },
  {
   "cell_type": "code",
   "execution_count": 276,
   "id": "retained-supply",
   "metadata": {},
   "outputs": [],
   "source": [
    "import os\n",
    "import math\n",
    "from time import time\n",
    "import cv2\n",
    "import numpy as np\n",
    "import matplotlib.pyplot as plt\n",
    "\n",
    "cwd = os.getcwd() # current work diretory"
   ]
  },
  {
   "cell_type": "markdown",
   "id": "familiar-inspection",
   "metadata": {},
   "source": [
    "<a id=\"compressao\"></a>\n",
    "\n",
    "# Compressão\n",
    "\n",
    "A taxa de compressão pode ser cáculada atrás da seguinte expressão matemática:\n",
    "\n",
    "$$ T_c = \\frac{D_o}{D_c} $$"
   ]
  },
  {
   "cell_type": "markdown",
   "id": "rough-ribbon",
   "metadata": {},
   "source": [
    "<a id=\"snr\"></a>\n",
    "\n",
    "## SNR\n",
    "\n",
    "A relação sinal-ruído compara o nível de um sinal desejado com o nível do ruído. Quanto mais alta for a relação sinal-ruído, menor é o efeito do ruído de fundo sobre a detecção ou medição do sinal.\n",
    "\n",
    "$$ SNR(Db) = 10\\log_{10}\\left[\\frac{\\sum_{l}\\sum_{c}I_{ap}(l,c)^2}{\\sum_{l}\\sum_{c}[I_{ap}(l,c)-I_{or}(l,c)]^2}\\right] $$"
   ]
  },
  {
   "cell_type": "code",
   "execution_count": 278,
   "id": "advance-times",
   "metadata": {},
   "outputs": [],
   "source": [
    "def snr(I_or, I_ap):\n",
    "    Pxa = np.sum(I_ap.astype('float')**2)\n",
    "    Pe = np.sum( (I_ap.astype('float') - I_or.astype('float'))**2 )\n",
    "    return 10 * np.log10(Pxa / Pe)"
   ]
  },
  {
   "cell_type": "markdown",
   "id": "published-coordinator",
   "metadata": {},
   "source": [
    "<a id=\"entropia\"></a>\n",
    "\n",
    "# Entropia\n",
    "\n",
    "A entropia mede a quantidade de informação codificada na mensagem, onde quando maior for o valor entrópico, maior será a incerteza.\n",
    "\n",
    "A entropia da fonte é dada pela seguinte expressão matemática:\n",
    "\n",
    "$$ H(S) = -\\sum_{i=1}^{N}p(s_i)log_{2}p(s_i) $$\n",
    "\n",
    "\n",
    "A eficiência da condificação pode ser obtida através da seguinte expressão matemática:\n",
    "\n",
    "$$ \\eta = \\frac{H(S)}{L} $$\n",
    "\n",
    "onde, **_L_** é o número médio de bits por símbolo.\n",
    "\n",
    "É possível codificar uma fonte, sem perdas, se o número médio de bits por símbolo for maior ou igual à entropia da fonte:\n",
    "\n",
    "$$ H(S) < L < H(S) + \\delta $$"
   ]
  },
  {
   "cell_type": "markdown",
   "id": "alpha-wholesale",
   "metadata": {},
   "source": [
    "<a id=\"entropy\"></a>\n",
    "\n",
    "## entropy\n"
   ]
  },
  {
   "cell_type": "code",
   "execution_count": 279,
   "id": "sunrise-steering",
   "metadata": {},
   "outputs": [],
   "source": [
    "def calculate_entropy(symbol_freq_dictionary):\n",
    "    # list of symbol occurences in file\n",
    "    occurrences = list(symbol_freq_dictionary.values())\n",
    "    # total number of symbols\n",
    "    t = np.sum(occurrences)\n",
    "    # probability of each symbol\n",
    "    p = [occ / t for occ in occurrences]\n",
    "    return -np.sum([p * np.log2(p)])"
   ]
  },
  {
   "cell_type": "markdown",
   "id": "conservative-honey",
   "metadata": {},
   "source": [
    "<a id=\"efficiency\"></a>\n",
    "\n",
    "## efficiency"
   ]
  },
  {
   "cell_type": "code",
   "execution_count": 280,
   "id": "effective-snowboard",
   "metadata": {},
   "outputs": [],
   "source": [
    "def efficiency(H, dictionary):\n",
    "    # average number of bits per symbol\n",
    "    L = 0\n",
    "    for symbol in dictionary:\n",
    "        L += len(dictionary[symbol])\n",
    "    L = L / len(dictionary)\n",
    "    return L, ( H / L )"
   ]
  },
  {
   "cell_type": "markdown",
   "id": "composite-emphasis",
   "metadata": {},
   "source": [
    "[back to index](#index)"
   ]
  },
  {
   "cell_type": "markdown",
   "id": "collectible-survival",
   "metadata": {},
   "source": [
    "<a id=\"utilities\"></a>\n",
    "\n",
    "# Utilities"
   ]
  },
  {
   "cell_type": "markdown",
   "id": "surrounded-soldier",
   "metadata": {},
   "source": [
    "<a id=\"imshow\"></a>\n",
    "\n",
    "## imshow"
   ]
  },
  {
   "cell_type": "code",
   "execution_count": 281,
   "id": "alien-liechtenstein",
   "metadata": {},
   "outputs": [],
   "source": [
    "def imshow(title, image):\n",
    "    cv2.imshow(title, image)\n",
    "    cv2.waitKey(0)\n",
    "    cv2.destroyAllWindows()"
   ]
  },
  {
   "cell_type": "markdown",
   "id": "designed-locking",
   "metadata": {},
   "source": [
    "<a id=\"convertFrame2Jpeg\"></a>\n",
    "\n",
    "## convertFrame2Jpeg"
   ]
  },
  {
   "cell_type": "code",
   "execution_count": 282,
   "id": "responsible-deficit",
   "metadata": {},
   "outputs": [],
   "source": [
    "def convertFrame2Jpeg(path, frame):\n",
    "    cv2.imwrite(f\"{path}.jpg\", frame, (cv2.IMWRITE_JPEG_QUALITY, 50))\n",
    "    return cv2.imread(f\"{path}.jpg\", cv2.IMREAD_GRAYSCALE)"
   ]
  },
  {
   "cell_type": "markdown",
   "id": "psychological-steam",
   "metadata": {},
   "source": [
    "<a id=\"create_Pframe\"></a>\n",
    "\n",
    "## create_Pframe"
   ]
  },
  {
   "cell_type": "code",
   "execution_count": 283,
   "id": "ambient-technology",
   "metadata": {},
   "outputs": [],
   "source": [
    "def create_Pframe(Iframe, frame):\n",
    "    return ( ( Iframe.astype('int16') - frame.astype('int16') ) / 2  + 127 ).astype('uint8')"
   ]
  },
  {
   "cell_type": "markdown",
   "id": "artificial-proposition",
   "metadata": {},
   "source": [
    "<a id=\"reconstruct_Iframe\"></a>\n",
    "\n",
    "## reconstruct_Iframe"
   ]
  },
  {
   "cell_type": "code",
   "execution_count": 286,
   "id": "beneficial-belarus",
   "metadata": {},
   "outputs": [],
   "source": [
    "def reconstruct_Iframe(Iframe, Pframe):\n",
    "    return ( Iframe.astype('int16') - (Pframe.astype('int16') - 127)*2).astype('uint8')"
   ]
  },
  {
   "cell_type": "code",
   "execution_count": 309,
   "id": "after-punch",
   "metadata": {},
   "outputs": [
    {
     "name": "stdout",
     "output_type": "stream",
     "text": [
      "i_f\n",
      " [[ 60  62  62 ...  30  32  32]\n",
      " [ 68  69  75 ...  31  33  32]\n",
      " [ 89  57  58 ...  30  33  32]\n",
      " ...\n",
      " [ 62  63  62 ...  62  55  28]\n",
      " [ 62  64  65 ... 120 119  99]\n",
      " [ 65  63  64 ... 119 119 119]]\n",
      "f\n",
      " [[ 59  60  65 ...  29  31  32]\n",
      " [ 69  71  72 ...  29  32  32]\n",
      " [ 98  58  55 ...  29  32  33]\n",
      " ...\n",
      " [ 62  63  63 ...  69  59  36]\n",
      " [ 63  63  62 ... 120 121 107]\n",
      " [ 64  64  64 ... 119 119 119]]\n",
      "p_f\n",
      " [[127 128 125 ... 127 127 127]\n",
      " [126 126 128 ... 128 127 127]\n",
      " [122 126 128 ... 127 127 126]\n",
      " ...\n",
      " [127 127 126 ... 123 125 123]\n",
      " [126 127 128 ... 127 126 123]\n",
      " [127 126 127 ... 127 127 127]]\n",
      "r_f\n",
      " [[ 60  60  66 ...  30  32  32]\n",
      " [ 70  71  73 ...  29  33  32]\n",
      " [ 99  59  56 ...  30  33  34]\n",
      " ...\n",
      " [ 62  63  64 ...  70  59  36]\n",
      " [ 64  64  63 ... 120 121 107]\n",
      " [ 65  65  64 ... 119 119 119]]\n"
     ]
    }
   ],
   "source": [
    "i_f = frames[0]\n",
    "print(\"i_f\\n\",i_f)\n",
    "\n",
    "f = frames[1]\n",
    "print(\"f\\n\",f)\n",
    "\n",
    "p_f = create_Pframe(i_f, f)\n",
    "print(\"p_f\\n\",p_f)\n",
    "\n",
    "r_f = reconstruct_Iframe(i_f,p_f)\n",
    "print(\"r_f\\n\", r_f)"
   ]
  },
  {
   "cell_type": "markdown",
   "id": "experienced-potato",
   "metadata": {},
   "source": [
    "<a id=\"mae\"></a>\n",
    "\n",
    "## Erro absoluto médio (MAE)\n",
    "\n",
    "Critério de semelhança entre blocos\n",
    "\n",
    "$$ (d_m,d_n) = arg \\min_{d_m,d_n} \\frac{1}{MN}\\sum_{m=1}^{M}\\sum_{n=1}^{N} \\left| X^{t}(m,n)-X^{t-1}(m-d_m,n-d_n) \\right| $$"
   ]
  },
  {
   "cell_type": "code",
   "execution_count": 289,
   "id": "mental-cookbook",
   "metadata": {},
   "outputs": [],
   "source": [
    "def mae(b1, b2):\n",
    "    return np.sum(np.abs(cv2.subtract(b1,b2).ravel())) / len(b1.ravel())"
   ]
  },
  {
   "cell_type": "code",
   "execution_count": 290,
   "id": "confused-rider",
   "metadata": {},
   "outputs": [
    {
     "name": "stdout",
     "output_type": "stream",
     "text": [
      "2.0\n"
     ]
    }
   ],
   "source": [
    "block1 = np.ones(256).reshape((16,16))\n",
    "block2 = (np.ones(256)*3).reshape((16,16))\n",
    "\n",
    "print(mae(block1, block2))"
   ]
  },
  {
   "cell_type": "markdown",
   "id": "medium-farming",
   "metadata": {},
   "source": [
    "<a id=\"to_macro_blocks\"></a>\n",
    "\n",
    "### to_macro_blocks\n",
    "\n",
    "Divide uma imagem em uma matriz de blocos de tamanho size x size."
   ]
  },
  {
   "cell_type": "code",
   "execution_count": 291,
   "id": "subsequent-marsh",
   "metadata": {},
   "outputs": [],
   "source": [
    "def to_macro_blocks(image, size):\n",
    "    \n",
    "    width, height = image.shape\n",
    "    \n",
    "    if (width % size) != 0 or (height % size) != 0:\n",
    "        raise Exception('function only supports multiple macro block division!')\n",
    "    \n",
    "    macro_blocks = np.zeros((int(width/size), int(height/size)), dtype=object)\n",
    "    \n",
    "    i = -1\n",
    "    j = -1\n",
    "    for lin in range(0, width, size):\n",
    "        i += 1\n",
    "        j = -1\n",
    "        for col in range(0, height, size):\n",
    "            j += 1\n",
    "            # create new block\n",
    "            macro_blocks[i][j] = image[lin:(lin + size),col:(col  +size)]\n",
    "                \n",
    "    return macro_blocks"
   ]
  },
  {
   "cell_type": "markdown",
   "id": "second-shape",
   "metadata": {},
   "source": [
    "<a id=\"from_macro_blocks\"></a>\n",
    "\n",
    "### from_macro_blocks\n",
    "\n",
    "Merge um matriz de macro blocos para uma imagem."
   ]
  },
  {
   "cell_type": "code",
   "execution_count": 292,
   "id": "czech-mitchell",
   "metadata": {},
   "outputs": [],
   "source": [
    "def from_macro_blocks(matrix, size):\n",
    "    \n",
    "    width  = matrix.shape[0] * size\n",
    "    heigth = matrix.shape[1] * size\n",
    "    \n",
    "    output = np.zeros((width, heigth), dtype='uint8')\n",
    "    \n",
    "    i = -1\n",
    "    j = -1\n",
    "    for lin in range(0, width, size):\n",
    "        i += 1\n",
    "        j = -1\n",
    "        for col in range(0, heigth, size):\n",
    "            j += 1\n",
    "            output[lin:(lin+size),col:(col+size)] = matrix[i][j]\n",
    "    return output"
   ]
  },
  {
   "cell_type": "code",
   "execution_count": 310,
   "id": "billion-triangle",
   "metadata": {},
   "outputs": [
    {
     "name": "stdout",
     "output_type": "stream",
     "text": [
      "f\n",
      " [[ 0  1  2  3  4  5  6  7]\n",
      " [ 8  9 10 11 12 13 14 15]\n",
      " [16 17 18 19 20 21 22 23]\n",
      " [24 25 26 27 28 29 30 31]\n",
      " [32 33 34 35 36 37 38 39]\n",
      " [40 41 42 43 44 45 46 47]\n",
      " [48 49 50 51 52 53 54 55]\n",
      " [56 57 58 59 60 61 62 63]]\n",
      "divite to blocks\n",
      " [[array([[ 0,  1,  2,  3],\n",
      "         [ 8,  9, 10, 11],\n",
      "         [16, 17, 18, 19],\n",
      "         [24, 25, 26, 27]]) array([[ 4,  5,  6,  7],\n",
      "                                   [12, 13, 14, 15],\n",
      "                                   [20, 21, 22, 23],\n",
      "                                   [28, 29, 30, 31]])]\n",
      " [array([[32, 33, 34, 35],\n",
      "         [40, 41, 42, 43],\n",
      "         [48, 49, 50, 51],\n",
      "         [56, 57, 58, 59]]) array([[36, 37, 38, 39],\n",
      "                                   [44, 45, 46, 47],\n",
      "                                   [52, 53, 54, 55],\n",
      "                                   [60, 61, 62, 63]])]]\n",
      "merge from blocks\n",
      " [[ 0  1  2  3  4  5  6  7]\n",
      " [ 8  9 10 11 12 13 14 15]\n",
      " [16 17 18 19 20 21 22 23]\n",
      " [24 25 26 27 28 29 30 31]\n",
      " [32 33 34 35 36 37 38 39]\n",
      " [40 41 42 43 44 45 46 47]\n",
      " [48 49 50 51 52 53 54 55]\n",
      " [56 57 58 59 60 61 62 63]]\n"
     ]
    }
   ],
   "source": [
    "f = np.arange(64).reshape((8,8))\n",
    "print('f\\n', frame)\n",
    "\n",
    "mBlocks = to_macro_blocks(f, 4)\n",
    "print('divite to blocks\\n', mBlocks)\n",
    "\n",
    "r_f = from_macro_blocks(mBlocks,4)\n",
    "print('merge from blocks\\n', r_f)"
   ]
  },
  {
   "cell_type": "markdown",
   "id": "sophisticated-think",
   "metadata": {},
   "source": [
    " <a id=\"codificador_1\"></a>\n",
    " \n",
    "# Codificador 1\n",
    " \n",
    "<div class=\"alert alert-block alert-info\">\n",
    "Considera que cada frame é uma intra-frame (I).\n",
    "</div>"
   ]
  },
  {
   "cell_type": "code",
   "execution_count": 295,
   "id": "registered-deposit",
   "metadata": {},
   "outputs": [],
   "source": [
    "def encode_1(path, frames):\n",
    "    Iframes = []\n",
    "    for i in range(len(frames)):\n",
    "        Iframes.append( convertFrame2Jpeg(f\"{path}/Iframe_{i+1}\", frames[i]) )\n",
    "    return Iframes"
   ]
  },
  {
   "cell_type": "markdown",
   "id": "south-charles",
   "metadata": {},
   "source": [
    "<a id=\"codificador_2\"></a>\n",
    " \n",
    "# Codificador 2\n",
    " \n",
    "<div class=\"alert alert-block alert-info\">\n",
    "Considera que todas as frames à exceção da primeira (a I-frame) são inter-frames (P), sem compensação de movimento.\n",
    "</div>"
   ]
  },
  {
   "cell_type": "code",
   "execution_count": 311,
   "id": "banned-rates",
   "metadata": {},
   "outputs": [],
   "source": [
    "def encode_2(path, frames):\n",
    "    Iframe = frames[0]\n",
    "    Pframes = []\n",
    "    convertFrame2Jpeg(f\"{path}/Iframe_{1}\", Iframe)\n",
    "    for i in range(1, len(frames)):\n",
    "        Pframes.append( convertFrame2Jpeg(f\"{path}/Pframe_{i+1}\", create_Pframe(Iframe, frames[i])) )\n",
    "    return Iframe, Pframes"
   ]
  },
  {
   "cell_type": "code",
   "execution_count": 297,
   "id": "removed-chile",
   "metadata": {},
   "outputs": [],
   "source": [
    "def decode_2(path, Iframe, Pframes):\n",
    "    rIframes = []\n",
    "    for i in range(len(Pframes)):\n",
    "        rIframes.append( convertFrame2Jpeg(f\"{path}/rIframe_{i+2}\", reconstruct_Iframe(Iframe, Pframes[i])) )\n",
    "    return Iframe, rIframes"
   ]
  },
  {
   "cell_type": "markdown",
   "id": "conservative-trail",
   "metadata": {},
   "source": [
    "<a id=\"codificador_3\"></a>\n",
    " \n",
    "# Codificador 3\n",
    " \n",
    "<div class=\"alert alert-block alert-info\">\n",
    "Considera que todas as frames à exceção da primeira (a I-frame) são inter-frames (P), com compensação de movimento.\n",
    "</div>"
   ]
  },
  {
   "cell_type": "code",
   "execution_count": 301,
   "id": "roman-apparel",
   "metadata": {},
   "outputs": [],
   "source": [
    "def encode_3(path, frames):\n",
    "    \n",
    "    # block size\n",
    "    bs = 16\n",
    "    # window size\n",
    "    ws = 15\n",
    "    \n",
    "    # first frame it's Iframe\n",
    "    Iframe = frames[0]\n",
    "    frames = frames[1:]\n",
    "    \n",
    "    # Pframes\n",
    "    Pframes = []\n",
    "    \n",
    "    for frame in frames:\n",
    "        # divide frame i into 16x16 macro blocks\n",
    "        macroBlocks = to_macro_blocks(frame, bs)\n",
    "        # create output\n",
    "        output = to_macro_blocks(np.zeros(Iframe.shape, dtype='uint8'), bs)\n",
    "        s = \"\"\n",
    "        print(macroBlocks.shape)\n",
    "        for i in range(macroBlocks.shape[0]):\n",
    "            for j in range(macroBlocks.shape[1]):\n",
    "                ### bounderies\n",
    "                # top\n",
    "                if i == 0:\n",
    "                    # left corner\n",
    "                    if j == 0:\n",
    "                        # output[i,j] = window_best_match(Iframe, macroBlocks[i,j], i, j, i+ws, j+ws)\n",
    "                        s += f\"sob - ({i},{j}) \"\n",
    "                    # right corner\n",
    "                    elif j == (macroBlocks.shape[1] - 1):\n",
    "                        # output[i,j] = window_best_match(Iframe, macroBlocks[i,j], i, j-ws, i, j)\n",
    "                        s += f\"({i},{j})\\n\"\n",
    "                    # center\n",
    "                    else:\n",
    "                        # output[i,j] = window_best_match(Iframe, macroBlocks[i,j], i-ws, j-ws, i+ws, j+ws)\n",
    "                        s += f\"({i},{j}) \"\n",
    "                # bottom\n",
    "                elif i == (macroBlocks.shape[0] - 1):\n",
    "                    # left corner\n",
    "                    if j == 0:\n",
    "                        # output[i,j] = window_best_match(Iframe, macroBlocks[i,j], i-ws, j, i, j+ws)\n",
    "                        s += f\"({i},{j}) \"\n",
    "                    # right corner\n",
    "                    elif j == (macroBlocks.shape[1] - 1):\n",
    "                        # output[i,j] = window_best_match(Iframe, macroBlocks[i,j], i-ws, j-ws, i, j)\n",
    "                        s += f\"({i},{j}) - eob\"\n",
    "                    # center\n",
    "                    else:\n",
    "                        # output[i,j] = window_best_match(Iframe, macroBlocks[i,j], i-ws, j-ws, i, j+ws)\n",
    "                        s += f\"({i},{j}) \"\n",
    "                # left\n",
    "                elif j == 0:\n",
    "                    # output[i,j] = window_best_match(Iframe, macroBlocks[i,j], i-ws, j, i+ws, j+ws)\n",
    "                    s += f\"({i},{j}) \"\n",
    "                # right\n",
    "                elif j == (macroBlocks.shape[1] - 1):\n",
    "                    # output[i,j] = window_best_match(Iframe, macroBlocks[i,j], i-ws, j-ws, i+ws, j)\n",
    "                    s += f\"({i},{j})\\n\"\n",
    "                # center\n",
    "                else:\n",
    "                    # output[i,j] = window_best_match(Iframe, macroBlocks[i,j], i-ws, j-ws, i+ws, j+ws)\n",
    "                    s += f\"({i},{j}) \"\n",
    "        print(s)\n",
    "        # Pframes.append( convertFrame2Jpeg(f\"{path}/Pframe_{i+1}\", create_Pframe(Iframe, output)) )\n",
    "      \n",
    "    return Iframe, Pframes"
   ]
  },
  {
   "cell_type": "code",
   "execution_count": 300,
   "id": "religious-spank",
   "metadata": {},
   "outputs": [],
   "source": [
    "def sortDictionaryByDistance(d: dict,x: int, y: int):\n",
    "    return dict(sorted(d.items(), key=lambda item: math.sqrt((x-item[0][0])**2+(y-item[0][1])**2)))"
   ]
  },
  {
   "cell_type": "code",
   "execution_count": 303,
   "id": "executed-luxury",
   "metadata": {},
   "outputs": [
    {
     "name": "stdout",
     "output_type": "stream",
     "text": [
      "{(0, 0): 3, (0, 1): 7, (0, 4): 6, (0, 3): 2, (1, 1): 2}\n",
      "{(0, 3): 2, (0, 4): 6, (1, 1): 2, (0, 1): 7, (0, 0): 3}\n",
      "(0, 3)\n"
     ]
    }
   ],
   "source": [
    "d = dict()\n",
    "d[(0,0)] = 3\n",
    "d[(0,1)] = 7\n",
    "d[(0,4)] = 6\n",
    "d[(0,3)] = 2\n",
    "d[(1,1)] = 2\n",
    "\n",
    "print(d)\n",
    "d = sortDictionaryByDistance(d, 1, 3)\n",
    "print(d)\n",
    "\n",
    "best_key = min(d, key=d.get)\n",
    "print(best_key)"
   ]
  },
  {
   "cell_type": "code",
   "execution_count": 387,
   "id": "balanced-walnut",
   "metadata": {},
   "outputs": [],
   "source": [
    "def window_best_match(Iframe, macroBlock, x, y, x1, y1, x2, y2):\n",
    "    d = dict()\n",
    "    for i in range(x1,x2+1): # until\n",
    "        for j in range(y1,y2+1):\n",
    "            print(f\"i{i}{j}\\n\", Iframe[i:(i+macroBlock.shape[0]), j:(j+macroBlock.shape[1])])\n",
    "            d[i,j] = mae(Iframe[i:(i+macroBlock.shape[0]), j:(j+macroBlock.shape[1])], macroBlock)\n",
    "            \n",
    "    print(d)\n",
    "    dByDistance = sortDictionaryByDistance(d, int((x2-x1)/2), int((y2-y1)/2))\n",
    "    print(dByDistance)\n",
    "    best_key = min(dByDistance, key=d.get)\n",
    "    print(best_key)\n",
    "    return Iframe[best_key[0]:(best_key[0]+macroBlock.shape[0]), best_key[1]:(best_key[1]+macroBlock.shape[1])]     "
   ]
  },
  {
   "cell_type": "code",
   "execution_count": 388,
   "id": "difficult-cardiff",
   "metadata": {},
   "outputs": [
    {
     "name": "stdout",
     "output_type": "stream",
     "text": [
      "[[array([[0, 0],\n",
      "         [0, 0]]) array([[0, 0],\n",
      "                         [0, 0]])]\n",
      " [array([[0, 0],\n",
      "         [1, 1]]) array([[0, 0],\n",
      "                         [1, 0]])]\n",
      " [array([[1, 1],\n",
      "         [1, 1]]) array([[1, 0],\n",
      "                         [1, 0]])]]\n",
      "i00\n",
      " [[0 0]\n",
      " [0 0]]\n",
      "i01\n",
      " [[0 0]\n",
      " [0 0]]\n",
      "i02\n",
      " [[0 0]\n",
      " [0 0]]\n",
      "i10\n",
      " [[0 0]\n",
      " [1 1]]\n",
      "i11\n",
      " [[0 0]\n",
      " [1 1]]\n",
      "i12\n",
      " [[0 0]\n",
      " [1 0]]\n",
      "i20\n",
      " [[1 1]\n",
      " [1 1]]\n",
      "i21\n",
      " [[1 1]\n",
      " [1 1]]\n",
      "i22\n",
      " [[1 0]\n",
      " [1 0]]\n",
      "i30\n",
      " [[1 1]\n",
      " [1 1]]\n",
      "i31\n",
      " [[1 1]\n",
      " [1 1]]\n",
      "i32\n",
      " [[1 0]\n",
      " [1 0]]\n",
      "i40\n",
      " [[1 1]\n",
      " [0 0]]\n",
      "i41\n",
      " [[1 1]\n",
      " [0 0]]\n",
      "i42\n",
      " [[1 0]\n",
      " [0 0]]\n",
      "{(0, 0): 0.25, (0, 1): 0.25, (0, 2): 0.25, (1, 0): 0.25, (1, 1): 0.25, (1, 2): 0.0, (2, 0): 0.75, (2, 1): 0.75, (2, 2): 0.25, (3, 0): 0.75, (3, 1): 0.75, (3, 2): 0.25, (4, 0): 0.75, (4, 1): 0.75, (4, 2): 0.5}\n",
      "{(2, 1): 0.75, (1, 1): 0.25, (2, 0): 0.75, (2, 2): 0.25, (3, 1): 0.75, (1, 0): 0.25, (1, 2): 0.0, (3, 0): 0.75, (3, 2): 0.25, (0, 1): 0.25, (4, 1): 0.75, (0, 0): 0.25, (0, 2): 0.25, (4, 0): 0.75, (4, 2): 0.5}\n",
      "(1, 2)\n",
      "[[0 0]\n",
      " [1 0]]\n"
     ]
    }
   ],
   "source": [
    "if3 = [[ 0, 0, 0, 0],\n",
    "       [ 0, 0, 0, 0],\n",
    "       [ 1, 1, 1, 0],\n",
    "       [ 1, 1, 1, 0],\n",
    "       [ 1, 1, 1, 0],\n",
    "       [ 0, 0, 0, 0]]\n",
    "if3 = np.array(if3)\n",
    "\n",
    "i3 = [[ 0, 0, 0, 0],\n",
    "      [ 0, 0, 0, 0],\n",
    "      [ 0, 0, 0, 0],\n",
    "      [ 1, 1, 1, 0],\n",
    "      [ 1, 1, 1, 0],\n",
    "      [ 1, 1, 1, 0]]\n",
    "i3 = np.array(i3)\n",
    "\n",
    "mb = to_macro_blocks(i3, 2)\n",
    "print(mb)\n",
    "\n",
    "best_candidate = window_best_match(if3, mb[1,1], 1, 1, 2-2, 2-2, 2+2, 2)\n",
    "print(best_candidate)"
   ]
  },
  {
   "cell_type": "code",
   "execution_count": 364,
   "id": "indirect-study",
   "metadata": {},
   "outputs": [
    {
     "ename": "SyntaxError",
     "evalue": "unexpected EOF while parsing (<ipython-input-364-e8f03d7105e7>, line 1)",
     "output_type": "error",
     "traceback": [
      "\u001b[1;36m  File \u001b[1;32m\"<ipython-input-364-e8f03d7105e7>\"\u001b[1;36m, line \u001b[1;32m1\u001b[0m\n\u001b[1;33m    def decode_3(path, frames):\u001b[0m\n\u001b[1;37m                               ^\u001b[0m\n\u001b[1;31mSyntaxError\u001b[0m\u001b[1;31m:\u001b[0m unexpected EOF while parsing\n"
     ]
    }
   ],
   "source": [
    "def decode_3(path, frames):"
   ]
  },
  {
   "cell_type": "markdown",
   "id": "interesting-framework",
   "metadata": {},
   "source": [
    "### <a id=\"testes\"></a>\n",
    "\n",
    "# Testes"
   ]
  },
  {
   "cell_type": "code",
   "execution_count": null,
   "id": "later-auction",
   "metadata": {},
   "outputs": [],
   "source": [
    "error() # cause erros to stop here"
   ]
  },
  {
   "cell_type": "markdown",
   "id": "brazilian-brain",
   "metadata": {},
   "source": [
    "## Importar dados"
   ]
  },
  {
   "cell_type": "code",
   "execution_count": null,
   "id": "smoking-presence",
   "metadata": {},
   "outputs": [],
   "source": [
    "# sorting frames names by alphabetical order\n",
    "# frames[0] = sorted(frames[0], key=lambda x: (x[0],int(x[5:])) )"
   ]
  },
  {
   "cell_type": "code",
   "execution_count": null,
   "id": "false-apache",
   "metadata": {},
   "outputs": [],
   "source": [
    "frames = []\n",
    "for i in range(len(os.listdir(f\"{cwd}/input_data/bola_seq\"))):\n",
    "    frames.append( cv2.imread(f\"{cwd}/input_data/bola_seq/bola_{i+1}.tiff\", cv2.IMREAD_GRAYSCALE) )"
   ]
  },
  {
   "cell_type": "markdown",
   "id": "anticipated-butler",
   "metadata": {},
   "source": [
    "<div class=\"alert alert-block alert-info\">\n",
    "Codificador 1\n",
    "</div>"
   ]
  },
  {
   "cell_type": "code",
   "execution_count": null,
   "id": "abstract-plumbing",
   "metadata": {},
   "outputs": [],
   "source": [
    "Iframe1 = encode_1(f\"{cwd}/output_data/codificador1\", frames)"
   ]
  },
  {
   "cell_type": "markdown",
   "id": "affiliated-experience",
   "metadata": {},
   "source": [
    "<div class=\"alert alert-block alert-info\">\n",
    "Codificador 2\n",
    "</div>"
   ]
  },
  {
   "cell_type": "code",
   "execution_count": null,
   "id": "searching-journalism",
   "metadata": {},
   "outputs": [],
   "source": [
    "Iframe2, Pframes2 = encode_2(f\"{cwd}/output_data/codificador2/encode\", frames)"
   ]
  },
  {
   "cell_type": "code",
   "execution_count": null,
   "id": "interstate-design",
   "metadata": {},
   "outputs": [],
   "source": [
    "Iframes2, rIframes2 = decode_2(f\"{cwd}/output_data/codificador2/decode\", Iframe2, Pframes2)"
   ]
  },
  {
   "cell_type": "markdown",
   "id": "small-plasma",
   "metadata": {},
   "source": [
    "<div class=\"alert alert-block alert-info\">\n",
    "Codificador 3\n",
    "</div>"
   ]
  },
  {
   "cell_type": "markdown",
   "id": "parliamentary-divorce",
   "metadata": {},
   "source": [
    "[back to index](#index)"
   ]
  },
  {
   "cell_type": "markdown",
   "id": "floral-illustration",
   "metadata": {},
   "source": [
    "<a id=\"conclusoes\"></a>\n",
    "\n",
    "# Conclusões\n",
    "\n",
    "Este trabalho explora os princípios básicos da codificação de vídeo. Neste trabalho pretende-se implementar três formas\n",
    "de codificação de vídeo. Cada um destes codificadores deve ser testado com a a sequência de imagens disponibilizadas"
   ]
  },
  {
   "cell_type": "markdown",
   "id": "hollow-smoke",
   "metadata": {},
   "source": [
    "[back to index](#index)"
   ]
  }
 ],
 "metadata": {
  "kernelspec": {
   "display_name": "csm_env",
   "language": "python",
   "name": "csm_env"
  },
  "language_info": {
   "codemirror_mode": {
    "name": "ipython",
    "version": 3
   },
   "file_extension": ".py",
   "mimetype": "text/x-python",
   "name": "python",
   "nbconvert_exporter": "python",
   "pygments_lexer": "ipython3",
   "version": "3.7.7"
  }
 },
 "nbformat": 4,
 "nbformat_minor": 5
}
