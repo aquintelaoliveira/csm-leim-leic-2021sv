{
 "cells": [
  {
   "cell_type": "markdown",
   "id": "flying-myrtle",
   "metadata": {},
   "source": [
    "<div>\n",
    "     <div>\n",
    "        <img src=\"./report/isel_logo.png\" width=\"400\" height=\"400\" align=\"left\">\n",
    "    </div>\n",
    "    <div>\n",
    "        <h2>Área Departamental de Engenharia de Eletrónica e Telecomunicações e de Computadores</h2>\n",
    "        <p>Trabalho prático 4</p>\n",
    "        <p>Autor:\t44598\tAndré L. A. Q. de Oliveira</p>\n",
    "        <p>Unidade Curricular Compressão de Sinais Multimédia</p>\n",
    "        <p>Professor: André Lourenço</p>\n",
    "        <p>27 - Junho - 2021</p>\n",
    "    </div>\n",
    "</div>"
   ]
  },
  {
   "cell_type": "markdown",
   "id": "maritime-giving",
   "metadata": {},
   "source": [
    "### <a id=\"index\"></a>\n",
    "\n",
    "# Index\n",
    "- [Compressão](#compressao)\n",
    "    - [snr](#snr)\n",
    "- [Entropia](#entropia)\n",
    "    - [get_symbol_frequency](#get_symbol_frequency)\n",
    "    - [calculate_entropy](#calculate_entropy)\n",
    "- [Erro absoluto médio (MAE)](#mae)\n",
    "- [Utilities](#utilities)\n",
    "    - [imshow](#imshow)\n",
    "    - [convertFrame2Jpeg](#convertFrame2Jpeg)\n",
    "    - [subtract_frame](#createPframe)\n",
    "    - [reconstruct_Pframe](#reconstruct_Pframe)\n",
    "    - [to_macro_blocks](#to_macro_blocks)\n",
    "    - [from_macro_blocks](#from_macro_blocks)\n",
    "    - [sortDictionaryValuesByDistance](#sortDictionaryValuesByDistance)\n",
    "    - [BestMatchResult](#BestMatchResult)\n",
    "    - [window_best_match](#window_best_match)\n",
    "    - [full_search](#full_search)\n",
    "    - [get_match_frame](#get_match_frame)\n",
    "- [Codificador 1](#codificador_1)\n",
    "    - [encode_1](#encode_1)\n",
    "    - [decode_1](#decode_1)\n",
    "- [Codificador 2](#codificador_2)\n",
    "    - [encode_2](#encode_2)\n",
    "    - [decode_2](#decode_2)\n",
    "- [Codificador 3](#codificador_2)\n",
    "    - [encode_3](#encode_3)\n",
    "    - [decode_3](#decode_3)\n",
    "- [Testes](#testes)\n",
    "    - [Tabelas](#tabelas)\n",
    "        - [Tabela :: ](#)\n",
    "        - [Tabela :: Análise frame a frame](#tabela-analise-frame-a-frame)\n",
    "- [Conclusões](#conclusoes)"
   ]
  },
  {
   "cell_type": "markdown",
   "id": "reflected-transcript",
   "metadata": {},
   "source": [
    "# Importar bibliotecas"
   ]
  },
  {
   "cell_type": "code",
   "execution_count": 1,
   "id": "retained-supply",
   "metadata": {},
   "outputs": [],
   "source": [
    "import os\n",
    "import math\n",
    "from time import time\n",
    "import cv2\n",
    "import numpy as np\n",
    "import matplotlib.pyplot as plt\n",
    "\n",
    "cwd = os.getcwd() # current work diretory"
   ]
  },
  {
   "cell_type": "markdown",
   "id": "familiar-inspection",
   "metadata": {},
   "source": [
    "<a id=\"compressao\"></a>\n",
    "\n",
    "# Compressão\n",
    "\n",
    "A taxa de compressão pode ser cáculada atrás da seguinte expressão matemática:\n",
    "\n",
    "$$ T_c = \\frac{D_o}{D_c} $$"
   ]
  },
  {
   "cell_type": "markdown",
   "id": "rough-ribbon",
   "metadata": {},
   "source": [
    "<a id=\"snr\"></a>\n",
    "\n",
    "## SNR\n",
    "\n",
    "A relação sinal-ruído compara o nível de um sinal desejado com o nível do ruído. Quanto mais alta for a relação sinal-ruído, menor é o efeito do ruído de fundo sobre a detecção ou medição do sinal.\n",
    "\n",
    "$$ SNR(Db) = 10\\log_{10}\\left[\\frac{\\sum_{l}\\sum_{c}I_{ap}(l,c)^2}{\\sum_{l}\\sum_{c}[I_{ap}(l,c)-I_{or}(l,c)]^2}\\right] $$"
   ]
  },
  {
   "cell_type": "code",
   "execution_count": 2,
   "id": "advance-times",
   "metadata": {},
   "outputs": [],
   "source": [
    "def snr(I_or, I_ap):\n",
    "    Pxa = np.sum(I_ap.astype('float')**2)\n",
    "    Pe = np.sum( (I_ap.astype('float') - I_or.astype('float'))**2 )\n",
    "    return 10 * np.log10(Pxa / Pe)"
   ]
  },
  {
   "cell_type": "markdown",
   "id": "published-coordinator",
   "metadata": {},
   "source": [
    "<a id=\"entropia\"></a>\n",
    "\n",
    "# Entropia\n",
    "\n",
    "A entropia mede a quantidade de informação codificada na mensagem, onde quando maior for o valor entrópico, maior será a incerteza.\n",
    "\n",
    "A entropia da fonte é dada pela seguinte expressão matemática:\n",
    "\n",
    "$$ H(S) = -\\sum_{i=1}^{N}p(s_i)log_{2}p(s_i) $$\n",
    "\n",
    "\n",
    "A eficiência da condificação pode ser obtida através da seguinte expressão matemática:\n",
    "\n",
    "$$ \\eta = \\frac{H(S)}{L} $$\n",
    "\n",
    "onde, **_L_** é o número médio de bits por símbolo.\n",
    "\n",
    "É possível codificar uma fonte, sem perdas, se o número médio de bits por símbolo for maior ou igual à entropia da fonte:\n",
    "\n",
    "$$ H(S) < L < H(S) + \\delta $$"
   ]
  },
  {
   "cell_type": "markdown",
   "id": "sound-volleyball",
   "metadata": {},
   "source": [
    "<a id=\"get_symbol_frequency\"></a>\n",
    "\n",
    "## get_symbol_frequency\n",
    "\n",
    "\n",
    "Lê um ficheiro, símbolo a símbolo, e retorna um dicionário com par chave-valor : símbolo-frequência, onde cada símbolo terá como respondência a sua frequência no ficheiro. "
   ]
  },
  {
   "cell_type": "code",
   "execution_count": 3,
   "id": "nuclear-gender",
   "metadata": {},
   "outputs": [],
   "source": [
    "# return dicionary {symbol : frequency}\n",
    "def get_symbol_frequency(file):\n",
    "    d = dict()\n",
    "    for i in file:\n",
    "        d[i] = d.setdefault(i, 0) + 1\n",
    "    return d"
   ]
  },
  {
   "cell_type": "markdown",
   "id": "alpha-wholesale",
   "metadata": {},
   "source": [
    "<a id=\"entropy\"></a>\n",
    "\n",
    "## entropy\n"
   ]
  },
  {
   "cell_type": "code",
   "execution_count": 4,
   "id": "sunrise-steering",
   "metadata": {},
   "outputs": [],
   "source": [
    "def calculate_entropy(symbol_freq_dictionary):\n",
    "    # list of symbol occurences in file\n",
    "    occurrences = list(symbol_freq_dictionary.values())\n",
    "    # total number of symbols\n",
    "    t = np.sum(occurrences)\n",
    "    # probability of each symbol\n",
    "    p = [occ / t for occ in occurrences]\n",
    "    return -np.sum([p * np.log2(p)])"
   ]
  },
  {
   "cell_type": "markdown",
   "id": "conservative-honey",
   "metadata": {},
   "source": [
    "<a id=\"efficiency\"></a>\n",
    "\n",
    "## efficiency"
   ]
  },
  {
   "cell_type": "code",
   "execution_count": 5,
   "id": "effective-snowboard",
   "metadata": {},
   "outputs": [],
   "source": [
    "def efficiency(H, dictionary):\n",
    "    # average number of bits per symbol\n",
    "    L = 0\n",
    "    for symbol in dictionary:\n",
    "        L += len(dictionary[symbol])\n",
    "    L = L / len(dictionary)\n",
    "    return L, ( H / L )"
   ]
  },
  {
   "cell_type": "markdown",
   "id": "experienced-potato",
   "metadata": {},
   "source": [
    "<a id=\"mae\"></a>\n",
    "\n",
    "# Erro absoluto médio (MAE)\n",
    "\n",
    "Critério de semelhança entre blocos\n",
    "\n",
    "$$ (d_m,d_n) = arg \\min_{d_m,d_n} \\frac{1}{MN}\\sum_{m=1}^{M}\\sum_{n=1}^{N} \\left| X^{t}(m,n)-X^{t-1}(m-d_m,n-d_n) \\right| $$"
   ]
  },
  {
   "cell_type": "code",
   "execution_count": 6,
   "id": "mental-cookbook",
   "metadata": {},
   "outputs": [],
   "source": [
    "def mae(b1, b2):\n",
    "    return np.sum(np.abs(cv2.subtract(b1,b2).ravel())) / len(b1.ravel())"
   ]
  },
  {
   "cell_type": "code",
   "execution_count": 7,
   "id": "confused-rider",
   "metadata": {},
   "outputs": [
    {
     "name": "stdout",
     "output_type": "stream",
     "text": [
      "2.0\n"
     ]
    }
   ],
   "source": [
    "block1 = np.ones(256).reshape((16,16))\n",
    "block2 = (np.ones(256)*3).reshape((16,16))\n",
    "\n",
    "print(mae(block1, block2))"
   ]
  },
  {
   "cell_type": "markdown",
   "id": "composite-emphasis",
   "metadata": {},
   "source": [
    "[back to index](#index)"
   ]
  },
  {
   "cell_type": "markdown",
   "id": "collectible-survival",
   "metadata": {},
   "source": [
    "<a id=\"utilities\"></a>\n",
    "\n",
    "# Utilities"
   ]
  },
  {
   "cell_type": "markdown",
   "id": "surrounded-soldier",
   "metadata": {},
   "source": [
    "<a id=\"imshow\"></a>\n",
    "\n",
    "## imshow"
   ]
  },
  {
   "cell_type": "code",
   "execution_count": 42,
   "id": "alien-liechtenstein",
   "metadata": {},
   "outputs": [],
   "source": [
    "def imshow(title, image):\n",
    "    cv2.imshow(title, image)\n",
    "    cv2.waitKey(0)\n",
    "    cv2.destroyAllWindows()"
   ]
  },
  {
   "cell_type": "markdown",
   "id": "designed-locking",
   "metadata": {},
   "source": [
    "<a id=\"convertFrame2Jpeg\"></a>\n",
    "\n",
    "## convertFrame2Jpeg"
   ]
  },
  {
   "cell_type": "code",
   "execution_count": 9,
   "id": "responsible-deficit",
   "metadata": {},
   "outputs": [],
   "source": [
    "def convertFrame2Jpeg(path, frame):\n",
    "    cv2.imwrite(f\"{path}.jpg\", frame, (cv2.IMWRITE_JPEG_QUALITY, 50))\n",
    "    return cv2.imread(f\"{path}.jpg\", cv2.IMREAD_GRAYSCALE)"
   ]
  },
  {
   "cell_type": "markdown",
   "id": "psychological-steam",
   "metadata": {},
   "source": [
    "<a id=\"subtract_frame\"></a>\n",
    "\n",
    "## subtract_frame"
   ]
  },
  {
   "cell_type": "code",
   "execution_count": 10,
   "id": "ambient-technology",
   "metadata": {},
   "outputs": [],
   "source": [
    "def subtract_frames(frame, Iframe):\n",
    "    return cv2.subtract(frame, Iframe)\n",
    "    #return ( ( frame.astype('int16') - Iframe.astype('int16') ) / 2  + 64 ).astype('uint8')"
   ]
  },
  {
   "cell_type": "markdown",
   "id": "artificial-proposition",
   "metadata": {},
   "source": [
    "<a id=\"reconstruct_Iframe\"></a>\n",
    "\n",
    "## reconstruct_Pframe"
   ]
  },
  {
   "cell_type": "code",
   "execution_count": 11,
   "id": "beneficial-belarus",
   "metadata": {},
   "outputs": [],
   "source": [
    "def add_frames(frame, Iframe):\n",
    "    return cv2.add(frame, Iframe)\n",
    "    #return ( (frame.astype('int16') - 64)*2 + Iframe.astype('int16') ).astype('uint8')"
   ]
  },
  {
   "cell_type": "code",
   "execution_count": 12,
   "id": "after-punch",
   "metadata": {},
   "outputs": [
    {
     "name": "stdout",
     "output_type": "stream",
     "text": [
      "i_f\n",
      " [[ 60  62  62 ...  30  32  32]\n",
      " [ 68  69  75 ...  31  33  32]\n",
      " [ 89  57  58 ...  30  33  32]\n",
      " ...\n",
      " [ 62  63  62 ...  62  55  28]\n",
      " [ 62  64  65 ... 120 119  99]\n",
      " [ 65  63  64 ... 119 119 119]] \n",
      "\n",
      "pf\n",
      " [[ 59  60  65 ...  29  31  32]\n",
      " [ 69  71  72 ...  29  32  32]\n",
      " [ 98  58  55 ...  29  32  33]\n",
      " ...\n",
      " [ 62  63  63 ...  69  59  36]\n",
      " [ 63  63  62 ... 120 121 107]\n",
      " [ 64  64  64 ... 119 119 119]] \n",
      "\n",
      "s_f\n",
      " [[0 0 3 ... 0 0 0]\n",
      " [1 2 0 ... 0 0 0]\n",
      " [9 1 0 ... 0 0 1]\n",
      " ...\n",
      " [0 0 1 ... 7 4 8]\n",
      " [1 0 0 ... 0 2 8]\n",
      " [0 1 0 ... 0 0 0]] \n",
      "\n",
      "r_f\n",
      " [[ 60  62  65 ...  30  32  32]\n",
      " [ 69  71  75 ...  31  33  32]\n",
      " [ 98  58  58 ...  30  33  33]\n",
      " ...\n",
      " [ 62  63  63 ...  69  59  36]\n",
      " [ 63  64  65 ... 120 121 107]\n",
      " [ 65  64  64 ... 119 119 119]] \n",
      "\n"
     ]
    }
   ],
   "source": [
    "i_f = cv2.imread(f\"{cwd}/input_data/bola_seq/bola_1.tiff\", cv2.IMREAD_GRAYSCALE)\n",
    "print(\"i_f\\n\", i_f, \"\\n\")\n",
    "\n",
    "p_f = cv2.imread(f\"{cwd}/input_data/bola_seq/bola_2.tiff\", cv2.IMREAD_GRAYSCALE)\n",
    "print(\"pf\\n\", p_f, \"\\n\")\n",
    "\n",
    "s_f = subtract_frames(p_f, i_f)\n",
    "print(\"s_f\\n\", s_f, \"\\n\")\n",
    "\n",
    "r_f = add_frames(s_f, i_f)\n",
    "print(\"r_f\\n\", r_f, \"\\n\")"
   ]
  },
  {
   "cell_type": "markdown",
   "id": "medium-farming",
   "metadata": {},
   "source": [
    "<a id=\"to_macro_blocks\"></a>\n",
    "\n",
    "### to_macro_blocks\n",
    "\n",
    "Divide uma imagem em uma matriz de blocos de tamanho size x size."
   ]
  },
  {
   "cell_type": "code",
   "execution_count": 13,
   "id": "subsequent-marsh",
   "metadata": {},
   "outputs": [],
   "source": [
    "def to_macro_blocks(image, size):\n",
    "    \n",
    "    width, height = image.shape\n",
    "    \n",
    "    if (width % size) != 0 or (height % size) != 0:\n",
    "        raise Exception('function only supports multiple macro block division!')\n",
    "    \n",
    "    macro_blocks = np.zeros((int(width/size), int(height/size)), dtype=object)\n",
    "    \n",
    "    i = -1\n",
    "    j = -1\n",
    "    for lin in range(0, width, size):\n",
    "        i += 1\n",
    "        j = -1\n",
    "        for col in range(0, height, size):\n",
    "            j += 1\n",
    "            # create new block\n",
    "            macro_blocks[i][j] = image[lin:(lin + size),col:(col  +size)]\n",
    "                \n",
    "    return macro_blocks"
   ]
  },
  {
   "cell_type": "markdown",
   "id": "second-shape",
   "metadata": {},
   "source": [
    "<a id=\"from_macro_blocks\"></a>\n",
    "\n",
    "### from_macro_blocks\n",
    "\n",
    "Merge um matriz de macro blocos para uma imagem."
   ]
  },
  {
   "cell_type": "code",
   "execution_count": 14,
   "id": "czech-mitchell",
   "metadata": {},
   "outputs": [],
   "source": [
    "def from_macro_blocks(matrix, size):\n",
    "    \n",
    "    width  = matrix.shape[0] * size\n",
    "    heigth = matrix.shape[1] * size\n",
    "    \n",
    "    output = np.zeros((width, heigth), dtype='uint8')\n",
    "    \n",
    "    i = -1\n",
    "    j = -1\n",
    "    for lin in range(0, width, size):\n",
    "        i += 1\n",
    "        j = -1\n",
    "        for col in range(0, heigth, size):\n",
    "            j += 1\n",
    "            output[lin:(lin+size),col:(col+size)] = matrix[i][j]\n",
    "    return output"
   ]
  },
  {
   "cell_type": "code",
   "execution_count": 15,
   "id": "billion-triangle",
   "metadata": {},
   "outputs": [
    {
     "name": "stdout",
     "output_type": "stream",
     "text": [
      "f\n",
      " [[ 0  1  2  3  4  5  6  7]\n",
      " [ 8  9 10 11 12 13 14 15]\n",
      " [16 17 18 19 20 21 22 23]\n",
      " [24 25 26 27 28 29 30 31]\n",
      " [32 33 34 35 36 37 38 39]\n",
      " [40 41 42 43 44 45 46 47]\n",
      " [48 49 50 51 52 53 54 55]\n",
      " [56 57 58 59 60 61 62 63]] \n",
      "\n",
      "divite to blocks\n",
      " [[array([[ 0,  1,  2,  3],\n",
      "         [ 8,  9, 10, 11],\n",
      "         [16, 17, 18, 19],\n",
      "         [24, 25, 26, 27]]) array([[ 4,  5,  6,  7],\n",
      "                                   [12, 13, 14, 15],\n",
      "                                   [20, 21, 22, 23],\n",
      "                                   [28, 29, 30, 31]])]\n",
      " [array([[32, 33, 34, 35],\n",
      "         [40, 41, 42, 43],\n",
      "         [48, 49, 50, 51],\n",
      "         [56, 57, 58, 59]]) array([[36, 37, 38, 39],\n",
      "                                   [44, 45, 46, 47],\n",
      "                                   [52, 53, 54, 55],\n",
      "                                   [60, 61, 62, 63]])]] \n",
      "\n",
      "merge from blocks\n",
      " [[ 0  1  2  3  4  5  6  7]\n",
      " [ 8  9 10 11 12 13 14 15]\n",
      " [16 17 18 19 20 21 22 23]\n",
      " [24 25 26 27 28 29 30 31]\n",
      " [32 33 34 35 36 37 38 39]\n",
      " [40 41 42 43 44 45 46 47]\n",
      " [48 49 50 51 52 53 54 55]\n",
      " [56 57 58 59 60 61 62 63]] \n",
      "\n"
     ]
    }
   ],
   "source": [
    "f = np.arange(64).reshape((8,8))\n",
    "print('f\\n', f, \"\\n\")\n",
    "\n",
    "mb = to_macro_blocks(f, 4)\n",
    "print('divite to blocks\\n', mb, \"\\n\")\n",
    "\n",
    "r_f = from_macro_blocks(mb,4)\n",
    "print('merge from blocks\\n', r_f, \"\\n\")"
   ]
  },
  {
   "cell_type": "markdown",
   "id": "current-resource",
   "metadata": {},
   "source": [
    "[back to index](#index)"
   ]
  },
  {
   "cell_type": "markdown",
   "id": "bacterial-bulgarian",
   "metadata": {},
   "source": [
    "<a id=\"sortDictionaryValuesByDistance\"></a>\n",
    " \n",
    "## sortDictionaryValuesByDistance\n",
    "\n",
    "Ordena um dicionário chave-vale do tipo **dict<(x,y), MAE>**, segundo o critério de próximidade pelo parâmetro de entrada **coord**.\n",
    "\n",
    "Tem como objetivo, após ordenação, caso existam valores idênticos de erro absoluto médio para várias entradas do dicionário, que estas estejas ordenadas pela próximidade (distância mais curta) de uma dada coordenada."
   ]
  },
  {
   "cell_type": "code",
   "execution_count": 16,
   "id": "religious-spank",
   "metadata": {},
   "outputs": [],
   "source": [
    "def sortDictionaryValuesByDistance(d: dict, coord):\n",
    "    return dict(sorted(d.items(), key=lambda item: math.sqrt((coord[0]-item[0][0])**2+(coord[1]-item[0][1])**2)))"
   ]
  },
  {
   "cell_type": "code",
   "execution_count": 17,
   "id": "executed-luxury",
   "metadata": {},
   "outputs": [
    {
     "name": "stdout",
     "output_type": "stream",
     "text": [
      "{(0, 0): 3, (0, 1): 7, (0, 4): 6, (0, 3): 2, (1, 1): 2}\n",
      "{(0, 3): 2, (0, 4): 6, (1, 1): 2, (0, 1): 7, (0, 0): 3}\n",
      "(0, 3)\n"
     ]
    }
   ],
   "source": [
    "d = dict()\n",
    "d[(0,0)] = 3\n",
    "d[(0,1)] = 7\n",
    "d[(0,4)] = 6\n",
    "d[(0,3)] = 2\n",
    "d[(1,1)] = 2\n",
    "\n",
    "print(d)\n",
    "d = sortDictionaryValuesByDistance(d, (1,3) )\n",
    "print(d)\n",
    "\n",
    "best_key = min(d, key=d.get)\n",
    "print(best_key)"
   ]
  },
  {
   "cell_type": "markdown",
   "id": "nutritional-prayer",
   "metadata": {},
   "source": [
    "<a id=\"BestMatchResult\"></a>\n",
    " \n",
    "## BestMatchResult\n",
    "\n",
    "Classe que serve para agrupar vários tipos de informação do resultado da estratégia de procura exaustiva.\n",
    "* **from_coord:** a coordenada original do canto superior esquerdo do bloco\n",
    "* **macro_block:** o bloco  \n",
    "* **to_coord:** a coordenada da nova posição do bloco, para calcular o vetor de movimento\n",
    "* **match_block:** o bloco resultante do match com o melhor resultado do erro méido absoluto"
   ]
  },
  {
   "cell_type": "code",
   "execution_count": 18,
   "id": "cooked-photography",
   "metadata": {},
   "outputs": [],
   "source": [
    "class BestMatchResult(object): \n",
    "    def __init__(self, from_coord, macro_block, to_coord, match_block):\n",
    "        self.from_coord = from_coord\n",
    "        self.macro_block = macro_block\n",
    "        self.to_coord = to_coord\n",
    "        self.match_block = match_block\n",
    "\n",
    "    def get_from_coord(self):\n",
    "        return self.from_coord\n",
    "    def get_macro_block(self):\n",
    "        return self.macro_block \n",
    "    def get_to_coord(self):\n",
    "        return self.to_coord\n",
    "    def get_match_block(self):\n",
    "        return self.match_block"
   ]
  },
  {
   "cell_type": "markdown",
   "id": "binary-private",
   "metadata": {},
   "source": [
    "<a id=\"window_best_match\"></a>\n",
    " \n",
    "## window_best_match\n",
    "\n",
    "Para cada macro bloco de Iframe, vai procurar numa janela de dimensões(x1,y1)(x2,y2) na frame **Pframe** pelo vetor de movimento resultante da melhor match."
   ]
  },
  {
   "cell_type": "code",
   "execution_count": 19,
   "id": "binary-hypothetical",
   "metadata": {},
   "outputs": [],
   "source": [
    "def window_best_match(macroBlock, frame, coord, x1, y1, x2, y2):\n",
    "    # creates a dictionary to store coord(x,y), mae value\n",
    "    d = dict()\n",
    "    for i in range(x1, x2 + 1): # until\n",
    "        for j in range(y1, y2 + 1):\n",
    "            d[i,j] = mae(frame[i:(i+macroBlock.shape[0]), j:(j+macroBlock.shape[1])], macroBlock)\n",
    "    \n",
    "    # sort dicionary values by distance, so the first minimum mae && dist is choosen\n",
    "    dByDistance = sortDictionaryValuesByDistance(d, coord)\n",
    "    best_key = min(dByDistance, key=d.get)\n",
    "    matchBlock = frame[best_key[0]:(best_key[0]+macroBlock.shape[0]), best_key[1]:(best_key[1]+macroBlock.shape[1])]\n",
    "    return BestMatchResult( coord, macroBlock, best_key, matchBlock )  "
   ]
  },
  {
   "cell_type": "code",
   "execution_count": 20,
   "id": "difficult-cardiff",
   "metadata": {},
   "outputs": [
    {
     "name": "stdout",
     "output_type": "stream",
     "text": [
      "macro-blocks\n",
      " [[array([[0, 0],\n",
      "         [0, 0]]) array([[0, 0],\n",
      "                         [0, 0]]) array([[0, 0],\n",
      "                                         [0, 0]])]\n",
      " [array([[0, 0],\n",
      "         [0, 1]]) array([[0, 0],\n",
      "                         [1, 1]]) array([[0, 0],\n",
      "                                         [0, 0]])]\n",
      " [array([[0, 1],\n",
      "         [0, 1]]) array([[1, 1],\n",
      "                         [1, 1]]) array([[0, 0],\n",
      "                                         [0, 0]])]] \n",
      "\n",
      "macro-blocks[1,1]\n",
      " [[0 0]\n",
      " [1 1]] \n",
      "\n",
      "best_match-from_coord:  (2, 2) \n",
      "\n",
      "best_match-macro_block\n",
      " [[0 0]\n",
      " [1 1]] \n",
      "\n",
      "best_match-to_coord:  (1, 1) \n",
      "\n",
      "best_match-match_block\n",
      " [[0 0]\n",
      " [1 1]] \n",
      "\n"
     ]
    }
   ],
   "source": [
    "if3 = [[ 0, 0, 0, 0, 0, 0],\n",
    "       [ 0, 0, 0, 0, 0, 0],\n",
    "       [ 1, 1, 1, 0, 0, 0],\n",
    "       [ 1, 1, 1, 0, 0, 0],\n",
    "       [ 1, 1, 1, 0, 0, 0],\n",
    "       [ 0, 0, 0, 0, 0, 0]]\n",
    "if3 = np.array(if3)\n",
    "\n",
    "# pframe\n",
    "pf3 = [[ 0, 0, 0, 0, 0, 0],\n",
    "       [ 0, 0, 0, 0, 0, 0],\n",
    "       [ 0, 0, 0, 0, 0, 0],\n",
    "       [ 0, 1, 1, 1, 0, 0],\n",
    "       [ 0, 1, 1, 1, 0, 0],\n",
    "       [ 0, 1, 1, 1, 0, 0]]\n",
    "\n",
    "pf3 = np.array(pf3)\n",
    "mb = to_macro_blocks(pf3, 2)\n",
    "print('macro-blocks\\n', mb, \"\\n\")\n",
    "print('macro-blocks[1,1]\\n', mb[1,1], \"\\n\")\n",
    "\n",
    "best_match = window_best_match(mb[1,1], if3, (2,2), 2-2, 2-2, 2+2, 2)\n",
    "print('best_match-from_coord: ', best_match.get_from_coord(), \"\\n\")\n",
    "print('best_match-macro_block\\n', best_match.get_macro_block(), \"\\n\")\n",
    "print('best_match-to_coord: ', best_match.get_to_coord(), \"\\n\")\n",
    "print('best_match-match_block\\n', best_match.get_match_block(), \"\\n\")"
   ]
  },
  {
   "cell_type": "markdown",
   "id": "stainless-ivory",
   "metadata": {},
   "source": [
    "<a id=\"full_search\"></a>\n",
    " \n",
    "## full_search\n",
    "\n",
    "Executa uma estratégia de procura exaustiva (FSM). Dada uma janela de procura de dimensões (M x N) irá:\n",
    "* percorrer todos os blocos\n",
    "* número de cálculos = (2*p + 1)^2\n",
    "* cada cálculo = 2.(M x N)"
   ]
  },
  {
   "cell_type": "code",
   "execution_count": 21,
   "id": "regional-gazette",
   "metadata": {},
   "outputs": [],
   "source": [
    "def full_search(macroBlocks, Pframe, bs, ws):\n",
    "    \n",
    "    #best_match = []\n",
    "    best_match = np.empty(macroBlocks.shape, dtype=object)\n",
    "    \n",
    "    # full-search\n",
    "    for i in range(macroBlocks.shape[0]):\n",
    "        for j in range(macroBlocks.shape[1]):\n",
    "                \n",
    "            # width\n",
    "            w = i * bs\n",
    "            # height\n",
    "            h = j * bs\n",
    "\n",
    "            ### bounderies\n",
    "            # top\n",
    "            if i == 0:\n",
    "                # left corner\n",
    "                if j == 0:\n",
    "                    best_match[i,j] = window_best_match(macroBlocks[i,j], Pframe, (w, h), w, j, w+ws, h+ws)\n",
    "                # right corner\n",
    "                elif j == (macroBlocks.shape[1] - 1):\n",
    "                    best_match[i,j] = window_best_match(macroBlocks[i,j], Pframe, (w, h), w, h-ws, w+ws, h)\n",
    "                # center\n",
    "                else:\n",
    "                    best_match[i,j] = window_best_match(macroBlocks[i,j], Pframe, (w, h), w, h-ws, w+ws, h+ws)\n",
    "            # bottom\n",
    "            elif i == (macroBlocks.shape[0] - 1):\n",
    "                # left corner\n",
    "                if j == 0:\n",
    "                    best_match[i,j] = window_best_match(macroBlocks[i,j], Pframe, (w, h), w-ws, h, w, h+ws)\n",
    "                # right corner - eob\n",
    "                elif j == (macroBlocks.shape[1] - 1):\n",
    "                    best_match[i,j] = window_best_match(macroBlocks[i,j], Pframe, (w, h),  w-ws, h-ws, w, h)\n",
    "                # center\n",
    "                else:\n",
    "                    best_match[i,j] = window_best_match(macroBlocks[i,j], Pframe, (w, h), w-ws, h-ws, w, h+ws)\n",
    "            # left\n",
    "            elif j == 0:\n",
    "                best_match[i,j] = window_best_match(macroBlocks[i,j], Pframe, (w, h), w-ws, h, w+ws, h+ws)\n",
    "            # right\n",
    "            elif j == (macroBlocks.shape[1] - 1):\n",
    "                best_match[i,j] = window_best_match(macroBlocks[i,j], Pframe, (w, h), w-ws, h-ws, w+ws, h)\n",
    "            # center\n",
    "            else:\n",
    "                best_match[i,j] = window_best_match(macroBlocks[i,j], Pframe, (w, h), w-ws, h-ws, w+ws, h+ws)\n",
    "                    \n",
    "    return best_match"
   ]
  },
  {
   "cell_type": "code",
   "execution_count": 22,
   "id": "indian-medline",
   "metadata": {},
   "outputs": [
    {
     "name": "stdout",
     "output_type": "stream",
     "text": [
      "best_match-from_coord:  (0, 0) \n",
      "\n",
      "best_match-macro_block\n",
      " [[0 0]\n",
      " [0 0]] \n",
      "\n",
      "best_match-to_coord:  (0, 0) \n",
      "\n",
      "best_match-match_block\n",
      " [[0 0]\n",
      " [0 0]] \n",
      "\n",
      "--------------------------------------------\n",
      "\n",
      "best_match-from_coord:  (0, 2) \n",
      "\n",
      "best_match-macro_block\n",
      " [[0 0]\n",
      " [0 0]] \n",
      "\n",
      "best_match-to_coord:  (0, 2) \n",
      "\n",
      "best_match-match_block\n",
      " [[0 0]\n",
      " [0 0]] \n",
      "\n",
      "--------------------------------------------\n",
      "\n",
      "best_match-from_coord:  (0, 4) \n",
      "\n",
      "best_match-macro_block\n",
      " [[0 0]\n",
      " [0 0]] \n",
      "\n",
      "best_match-to_coord:  (0, 4) \n",
      "\n",
      "best_match-match_block\n",
      " [[0 0]\n",
      " [0 0]] \n",
      "\n",
      "--------------------------------------------\n",
      "\n",
      "best_match-from_coord:  (2, 0) \n",
      "\n",
      "best_match-macro_block\n",
      " [[0 0]\n",
      " [0 1]] \n",
      "\n",
      "best_match-to_coord:  (1, 0) \n",
      "\n",
      "best_match-match_block\n",
      " [[0 0]\n",
      " [1 1]] \n",
      "\n",
      "--------------------------------------------\n",
      "\n",
      "best_match-from_coord:  (2, 2) \n",
      "\n",
      "best_match-macro_block\n",
      " [[0 0]\n",
      " [1 1]] \n",
      "\n",
      "best_match-to_coord:  (1, 1) \n",
      "\n",
      "best_match-match_block\n",
      " [[0 0]\n",
      " [1 1]] \n",
      "\n",
      "--------------------------------------------\n",
      "\n",
      "best_match-from_coord:  (2, 4) \n",
      "\n",
      "best_match-macro_block\n",
      " [[0 0]\n",
      " [0 0]] \n",
      "\n",
      "best_match-to_coord:  (2, 4) \n",
      "\n",
      "best_match-match_block\n",
      " [[0 0]\n",
      " [0 0]] \n",
      "\n",
      "--------------------------------------------\n",
      "\n",
      "best_match-from_coord:  (4, 0) \n",
      "\n",
      "best_match-macro_block\n",
      " [[0 1]\n",
      " [0 1]] \n",
      "\n",
      "best_match-to_coord:  (4, 0) \n",
      "\n",
      "best_match-match_block\n",
      " [[1 1]\n",
      " [0 0]] \n",
      "\n",
      "--------------------------------------------\n",
      "\n",
      "best_match-from_coord:  (4, 2) \n",
      "\n",
      "best_match-macro_block\n",
      " [[1 1]\n",
      " [1 1]] \n",
      "\n",
      "best_match-to_coord:  (3, 1) \n",
      "\n",
      "best_match-match_block\n",
      " [[1 1]\n",
      " [1 1]] \n",
      "\n",
      "--------------------------------------------\n",
      "\n",
      "best_match-from_coord:  (4, 4) \n",
      "\n",
      "best_match-macro_block\n",
      " [[0 0]\n",
      " [0 0]] \n",
      "\n",
      "best_match-to_coord:  (4, 4) \n",
      "\n",
      "best_match-match_block\n",
      " [[0 0]\n",
      " [0 0]] \n",
      "\n",
      "--------------------------------------------\n",
      "\n"
     ]
    }
   ],
   "source": [
    "bm = full_search(mb, if3, 2, 2)\n",
    "for i in range(bm.shape[0]):\n",
    "    for j in range(bm.shape[1]):\n",
    "        print('best_match-from_coord: ', bm[i,j].get_from_coord(), \"\\n\")\n",
    "        print('best_match-macro_block\\n', bm[i,j].get_macro_block(), \"\\n\")\n",
    "        print('best_match-to_coord: ', bm[i,j].get_to_coord(), \"\\n\")\n",
    "        print('best_match-match_block\\n', bm[i,j].get_match_block(), \"\\n\")\n",
    "        print('--------------------------------------------\\n')"
   ]
  },
  {
   "cell_type": "markdown",
   "id": "ordinary-protection",
   "metadata": {},
   "source": [
    "<a id=\"get_match_frame\"></a>\n",
    " \n",
    "## get_match_frame"
   ]
  },
  {
   "cell_type": "code",
   "execution_count": 23,
   "id": "prospective-drain",
   "metadata": {},
   "outputs": [],
   "source": [
    "def get_match_frame(Iframe, full_search_result):\n",
    "    \n",
    "    match_blocks = np.zeros(full_search_result.shape, dtype=object)\n",
    "    \n",
    "    # block size  \n",
    "    bs = full_search_result[0,0].get_macro_block().shape[0]\n",
    "    \n",
    "    for i in range(full_search_result.shape[0]):\n",
    "        for j in range(full_search_result.shape[1]):\n",
    "            # move to coordinates\n",
    "            coord = full_search_result[i,j].get_to_coord()\n",
    "            match_blocks[i,j] = Iframe[coord[0]:coord[0]+bs, coord[1]:coord[1]+bs]\n",
    "            \n",
    "    #print(match_blocks)\n",
    "    \n",
    "    return from_macro_blocks(match_blocks, bs)"
   ]
  },
  {
   "cell_type": "code",
   "execution_count": 24,
   "id": "nuclear-component",
   "metadata": {},
   "outputs": [
    {
     "name": "stdout",
     "output_type": "stream",
     "text": [
      "[[0 0 0 0 0 0]\n",
      " [0 0 0 0 0 0]\n",
      " [0 0 0 0 0 0]\n",
      " [1 1 1 1 0 0]\n",
      " [1 1 1 1 0 0]\n",
      " [0 0 1 1 0 0]]\n"
     ]
    }
   ],
   "source": [
    "print( get_match_frame(if3, bm) )"
   ]
  },
  {
   "cell_type": "markdown",
   "id": "filled-combining",
   "metadata": {},
   "source": [
    "[back to index](#index)"
   ]
  },
  {
   "cell_type": "markdown",
   "id": "sophisticated-think",
   "metadata": {},
   "source": [
    " <a id=\"codificador_1\"></a>\n",
    " \n",
    "# Codificador 1\n",
    " \n",
    "<div class=\"alert alert-block alert-info\">\n",
    "Considera que cada frame é uma intra-frame (I).\n",
    "</div>"
   ]
  },
  {
   "cell_type": "code",
   "execution_count": 25,
   "id": "sized-taxation",
   "metadata": {},
   "outputs": [],
   "source": [
    "def encode_1(path, frame):\n",
    "    return convertFrame2Jpeg(path, frame)"
   ]
  },
  {
   "cell_type": "markdown",
   "id": "extra-lewis",
   "metadata": {},
   "source": [
    "[back to index](#index)"
   ]
  },
  {
   "cell_type": "markdown",
   "id": "south-charles",
   "metadata": {},
   "source": [
    "<a id=\"codificador_2\"></a>\n",
    " \n",
    "# Codificador 2\n",
    " \n",
    "<div class=\"alert alert-block alert-info\">\n",
    "Considera que todas as frames à exceção da primeira (a I-frame) são inter-frames (P), sem compensação de movimento.\n",
    "</div>"
   ]
  },
  {
   "cell_type": "code",
   "execution_count": 26,
   "id": "danish-monthly",
   "metadata": {},
   "outputs": [],
   "source": [
    "def encode_2(path, Iframe, Pframe):\n",
    "    return convertFrame2Jpeg(path, subtract_frames(Pframe, Iframe))"
   ]
  },
  {
   "cell_type": "code",
   "execution_count": 27,
   "id": "demanding-spine",
   "metadata": {},
   "outputs": [],
   "source": [
    "def decode_2(path, Iframe, Sframe):\n",
    "    return convertFrame2Jpeg(path, add_frames(Sframe, Iframe))"
   ]
  },
  {
   "cell_type": "markdown",
   "id": "curious-hunter",
   "metadata": {},
   "source": [
    "[back to index](#index)"
   ]
  },
  {
   "cell_type": "markdown",
   "id": "conservative-trail",
   "metadata": {},
   "source": [
    "<a id=\"codificador_3\"></a>\n",
    " \n",
    "# Codificador 3\n",
    " \n",
    "<div class=\"alert alert-block alert-info\">\n",
    "Considera que todas as frames à exceção da primeira (a I-frame) são inter-frames (P), com compensação de movimento.\n",
    "</div>\n"
   ]
  },
  {
   "cell_type": "markdown",
   "id": "correct-mailman",
   "metadata": {},
   "source": [
    "<a id=\"encode_3\"></a>\n",
    " \n",
    "## encode_3\n",
    "\n",
    "* para cada macro bloco de cada frame vai-se estimar o vetor de movimento\n",
    "* é codificado o vector de movimento e a diferença entre a frame no instante actual e a frame estimada para o mesmo instante\n",
    "\n",
    "![jpeg-encoding](./report/encoder-motion-compensation.png)"
   ]
  },
  {
   "cell_type": "code",
   "execution_count": 28,
   "id": "multiple-webster",
   "metadata": {},
   "outputs": [],
   "source": [
    "def encode_3(path, Iframe, Pframe):\n",
    "    \n",
    "    # block size\n",
    "    bs = 16\n",
    "    # window size\n",
    "    ws = 15\n",
    "    \n",
    "    # divide Pframe into 16x16 macro blocks\n",
    "    macroBlocks = to_macro_blocks(Pframe, bs)\n",
    "    full_search_result = full_search(macroBlocks, Iframe, bs, ws)\n",
    "        \n",
    "    # calculate the frame with motion compensation\n",
    "    match_frame = get_match_frame(Iframe, full_search_result)\n",
    "    Sframe = convertFrame2Jpeg(path, subtract_frames(Pframe, match_frame))\n",
    "      \n",
    "    return Sframe, full_search_result"
   ]
  },
  {
   "cell_type": "markdown",
   "id": "electoral-toilet",
   "metadata": {},
   "source": [
    "<a id=\"decode_3\"></a>\n",
    "\n",
    "## decode_3\n",
    "\n",
    "* processo inverso do encode_3.\n",
    "\n",
    "![jpeg-encoding](./report/decoder-motion-compensation.png)"
   ]
  },
  {
   "cell_type": "code",
   "execution_count": 29,
   "id": "standard-poster",
   "metadata": {},
   "outputs": [],
   "source": [
    "def decode_3(path, Iframe, Sframe, full_search_result):\n",
    "    match_frame = get_match_frame(Iframe, full_search_result)\n",
    "    return convertFrame2Jpeg(path, add_frames(Sframe, match_frame))"
   ]
  },
  {
   "cell_type": "markdown",
   "id": "theoretical-remove",
   "metadata": {},
   "source": [
    "[back to index](#index)"
   ]
  },
  {
   "cell_type": "markdown",
   "id": "interesting-framework",
   "metadata": {},
   "source": [
    "### <a id=\"testes\"></a>\n",
    "\n",
    "# Testes"
   ]
  },
  {
   "cell_type": "code",
   "execution_count": 30,
   "id": "later-auction",
   "metadata": {},
   "outputs": [
    {
     "ename": "NameError",
     "evalue": "name 'error' is not defined",
     "output_type": "error",
     "traceback": [
      "\u001b[1;31m---------------------------------------------------------------------------\u001b[0m",
      "\u001b[1;31mNameError\u001b[0m                                 Traceback (most recent call last)",
      "\u001b[1;32m<ipython-input-30-3d5236aa0e5d>\u001b[0m in \u001b[0;36m<module>\u001b[1;34m\u001b[0m\n\u001b[1;32m----> 1\u001b[1;33m \u001b[0merror\u001b[0m\u001b[1;33m(\u001b[0m\u001b[1;33m)\u001b[0m \u001b[1;31m# cause error to stop here, when execute \"run all cells\" command\u001b[0m\u001b[1;33m\u001b[0m\u001b[1;33m\u001b[0m\u001b[0m\n\u001b[0m",
      "\u001b[1;31mNameError\u001b[0m: name 'error' is not defined"
     ]
    }
   ],
   "source": [
    "error() # cause error to stop here, when execute \"run all cells\" command"
   ]
  },
  {
   "cell_type": "markdown",
   "id": "brazilian-brain",
   "metadata": {},
   "source": [
    "## Importar dados"
   ]
  },
  {
   "cell_type": "code",
   "execution_count": 32,
   "id": "false-apache",
   "metadata": {},
   "outputs": [],
   "source": [
    "frames = []\n",
    "frames_size = []\n",
    "entropy = []\n",
    "\n",
    "for i in range(len(os.listdir(f\"{cwd}/input_data/bola_seq\"))):\n",
    "    frames.append( cv2.imread(f\"{cwd}/input_data/bola_seq/bola_{i+1}.tiff\", cv2.IMREAD_GRAYSCALE) )\n",
    "    frames_size.append( os.stat(f\"{cwd}/input_data/bola_seq/bola_{i+1}.tiff\").st_size )\n",
    "    entropy.append( calculate_entropy(get_symbol_frequency(frames[i].ravel())) )\n",
    "    \n",
    "Iframe = frames[0]\n",
    "Pframes = frames[1:]"
   ]
  },
  {
   "cell_type": "code",
   "execution_count": null,
   "id": "proud-acoustic",
   "metadata": {},
   "outputs": [],
   "source": [
    "'''\n",
    "img = Pframes[0]-Iframe\n",
    "imgs = subtract_frame(Pframes[0],Iframe)\n",
    "imgr = reconstruct_Pframe(imgs,Iframe)\n",
    "print(img)\n",
    "print(imgs)\n",
    "imshow(\"test\", imgr)\n",
    "'''"
   ]
  },
  {
   "cell_type": "markdown",
   "id": "anticipated-butler",
   "metadata": {},
   "source": [
    "<div class=\"alert alert-block alert-info\">\n",
    "Codificador 1\n",
    "</div>"
   ]
  },
  {
   "cell_type": "code",
   "execution_count": 33,
   "id": "abstract-plumbing",
   "metadata": {},
   "outputs": [],
   "source": [
    "# prepare data with trab4 functions for encode-1\n",
    "# -- time data\n",
    "encode_time_1 = []\n",
    "decode_time_1 = np.empty(len(frames))\n",
    "decode_time_1[:] = np.nan\n",
    "# -- compression data\n",
    "compression_size_1 = []\n",
    "TC_1 = []\n",
    "SNR_1 = []\n",
    "\n",
    "# encode\n",
    "Iframes1 = []\n",
    "\n",
    "for i in range(len(frames)):\n",
    "    t_start = time()\n",
    "    Iframes1.append( encode_1(f\"{cwd}/output_data/codificador1/encode/Iframe_{i+1}\", frames[i]) )\n",
    "    t_end = time()\n",
    "    # --\n",
    "    encode_time_1.append( (t_end - t_start) )\n",
    "    # --\n",
    "    size = os.stat(f\"{cwd}/output_data/codificador1/encode/Iframe_{i+1}.jpg\").st_size\n",
    "    compression_size_1.append( size )\n",
    "    TC_1.append( frames_size[i] / size )\n",
    "    SNR_1.append( snr(frames[i], Iframes1[i]) )"
   ]
  },
  {
   "cell_type": "markdown",
   "id": "downtown-studio",
   "metadata": {},
   "source": [
    "[back to index](#index)"
   ]
  },
  {
   "cell_type": "markdown",
   "id": "affiliated-experience",
   "metadata": {},
   "source": [
    "<div class=\"alert alert-block alert-info\">\n",
    "Codificador 2\n",
    "</div>"
   ]
  },
  {
   "cell_type": "code",
   "execution_count": 34,
   "id": "handled-enforcement",
   "metadata": {},
   "outputs": [],
   "source": [
    "# prepare data with trab4 functions for encode-2\n",
    "# -- time data\n",
    "encode_time_2 = []\n",
    "# -- compression data\n",
    "compression_size_2 = []\n",
    "\n",
    "# encode\n",
    "Sframes2 = []\n",
    "\n",
    "for i in range(len(Pframes)):\n",
    "    t_start = time()\n",
    "    Sframes2.append( encode_2(f\"{cwd}/output_data/codificador2/encode/Sframe_{i+2}\", Iframe, Pframes[i]))\n",
    "    t_end = time()\n",
    "    # --\n",
    "    encode_time_2.append( (t_end - t_start) )\n",
    "    # --\n",
    "    compression_size_2.append( os.stat(f\"{cwd}/output_data/codificador2/encode/Sframe_{i+2}.jpg\").st_size )"
   ]
  },
  {
   "cell_type": "code",
   "execution_count": 35,
   "id": "rental-secondary",
   "metadata": {},
   "outputs": [],
   "source": [
    "# prepare data with trab4 functions for decode-2\n",
    "# -- time data\n",
    "decode_time_2 = []\n",
    "# -- compression data\n",
    "TC_2 = []\n",
    "SNR_2 = []\n",
    "\n",
    "# decode\n",
    "Pframes2 = []\n",
    "\n",
    "for i in range(len(Sframes2)):\n",
    "    t_start = time()\n",
    "    Pframes2.append( decode_2(f\"{cwd}/output_data/codificador2/decode/Pframe_{i+2}\", Iframe, Sframes2[i]))\n",
    "    t_end = time()\n",
    "    # --\n",
    "    decode_time_2.append( (t_end - t_start) )\n",
    "    # --\n",
    "    TC_2.append( frames_size[i+1] / os.stat(f\"{cwd}/output_data/codificador2/decode/Pframe_{i+2}.jpg\").st_size )\n",
    "    SNR_2.append( snr(Pframes[i], Pframes2[i]) )"
   ]
  },
  {
   "cell_type": "markdown",
   "id": "affiliated-soccer",
   "metadata": {},
   "source": [
    "[back to index](#index)"
   ]
  },
  {
   "cell_type": "markdown",
   "id": "small-plasma",
   "metadata": {},
   "source": [
    "<div class=\"alert alert-block alert-info\">\n",
    "Codificador 3\n",
    "</div>"
   ]
  },
  {
   "cell_type": "code",
   "execution_count": 36,
   "id": "spatial-occupation",
   "metadata": {},
   "outputs": [],
   "source": [
    "# prepare data with trab4 functions for encode-3\n",
    "# -- time data\n",
    "encode_time_3 = []\n",
    "# -- compression data\n",
    "compression_size_3 = []\n",
    "\n",
    "# encode\n",
    "Sframes3 = []\n",
    "full_search_result = []\n",
    "\n",
    "for i in range(len(Pframes)):\n",
    "    t_start = time()\n",
    "    pf, fsr = encode_3(f\"{cwd}/output_data/codificador3/encode/Sframe_{i+2}\", Iframe, Pframes[i])\n",
    "    t_end = time()\n",
    "    # --\n",
    "    Sframes3.append( pf )\n",
    "    full_search_result.append( fsr )\n",
    "    # --\n",
    "    encode_time_3.append( (t_end - t_start) )\n",
    "    # --\n",
    "    size = os.stat(f\"{cwd}/output_data/codificador3/encode/Sframe_{i+2}.jpg\").st_size\n",
    "    compression_size_3.append( size )"
   ]
  },
  {
   "cell_type": "code",
   "execution_count": 54,
   "id": "analyzed-melissa",
   "metadata": {},
   "outputs": [],
   "source": [
    "image = Iframe.copy()\n",
    "image = cv2.cvtColor(image, cv2.COLOR_GRAY2RGB)\n",
    "\n",
    "# Dictionary containing some colors\n",
    "colors = {'blue': (255, 0, 0), 'green': (0, 255, 0), 'red': (0, 0, 255), \n",
    "          'yellow': (0, 255, 255), 'magenta': (255, 0, 255), 'cyan': (255, 255, 0), \n",
    "          'white': (255, 255, 255), 'black': (0, 0, 0), 'gray': (125, 125, 125), \n",
    "          'rand': np.random.randint(0, high=256, size=(3,)).tolist(), 'dark_gray': (50, 50, 50), \n",
    "          'light_gray': (220, 220, 220)}\n",
    "\n",
    "for r in full_search_result[9].ravel():\n",
    "    x1 = r.get_from_coord()[1]\n",
    "    y1 = r.get_from_coord()[0]\n",
    "    x2 = r.get_to_coord()[1]\n",
    "    y2 = r.get_to_coord()[0]\n",
    "    cv2.arrowedLine(image, (x1,y1), (x2,y2), colors['yellow'], 1)\n",
    "                    \n",
    "imshow(\"movement-vector\", image)"
   ]
  },
  {
   "cell_type": "code",
   "execution_count": null,
   "id": "brown-server",
   "metadata": {},
   "outputs": [],
   "source": [
    "# prepare data with trab4 functions for decode-3\n",
    "# -- time data\n",
    "decode_time_3 = []\n",
    "# -- compression data\n",
    "TC_3 = []\n",
    "SNR_3 = []\n",
    "\n",
    "# decode\n",
    "Pframes3 = []\n",
    "\n",
    "for i in range(len(Sframes3)):\n",
    "    t_start = time()\n",
    "    Pframes3.append( decode_3(f\"{cwd}/output_data/codificador3/decode/Pframe_{i+2}\", Iframe, Sframes3[i], full_search_result[i]))\n",
    "    t_end = time()\n",
    "    # --\n",
    "    decode_time_3.append( (t_end - t_start) )\n",
    "    # -- \n",
    "    TC_3.append( frames_size[i+1] / os.stat(f\"{cwd}/output_data/codificador3/decode/Pframe_{i+2}.jpg\").st_size )\n",
    "    SNR_3.append( snr(Pframes[i], Pframes3[i]) )"
   ]
  },
  {
   "cell_type": "markdown",
   "id": "least-communication",
   "metadata": {},
   "source": [
    "[back to index](#index)"
   ]
  },
  {
   "cell_type": "markdown",
   "id": "union-colorado",
   "metadata": {},
   "source": [
    "<a id=\"tabelas\"></a>\n",
    "\n",
    "## Tabelas"
   ]
  },
  {
   "cell_type": "markdown",
   "id": "answering-freeware",
   "metadata": {},
   "source": [
    "<a id=\"tabela-entropia\"></a>\n",
    "\n",
    "### Tabelas :: Entropia"
   ]
  },
  {
   "cell_type": "code",
   "execution_count": null,
   "id": "threatened-sharing",
   "metadata": {},
   "outputs": [],
   "source": [
    "table_header = ['Frame','Entropy']\n",
    "\n",
    "# table data\n",
    "table_data_0 = []\n",
    "for i in range(len(frames)):\n",
    "    table_data_0.append( \n",
    "        [f\"bola_{i+1}\", \n",
    "         round(entropy[i],2)])\n",
    "        \n",
    "# create tables\n",
    "fig0, ax0 = plt.subplots()\n",
    "        \n",
    "# build table\n",
    "table_0 = ax0.table(\n",
    "    cellText=table_data_0, \n",
    "    colLabels=table_header, \n",
    "    cellLoc='center',\n",
    "    loc ='upper left')\n",
    "        \n",
    "# hide the axes\n",
    "fig0.patch.set_visible(False)\n",
    "ax0.axis('off')\n",
    "ax0.axis('tight')\n",
    "        \n",
    "# display table\n",
    "fig0.suptitle('::')\n",
    "table_0.scale(3,3)"
   ]
  },
  {
   "cell_type": "markdown",
   "id": "liable-competition",
   "metadata": {},
   "source": [
    "<a id=\"tabela-analise-frame-a-frame\"></a>\n",
    "\n",
    "### Tabelas :: Análise frame a frame"
   ]
  },
  {
   "cell_type": "code",
   "execution_count": null,
   "id": "intelligent-comment",
   "metadata": {},
   "outputs": [],
   "source": [
    "table_header = ['Encode time [s]','Encoding Compression Size [KB]', 'Decode time [s]', 'TC', 'SNR']\n",
    "\n",
    "# table data\n",
    "table_data_1 = []\n",
    "for i in range(len(frames)):\n",
    "    table_data_1.append( \n",
    "        [round(encode_time_1[i],3), \n",
    "         round(compression_size_1[i]/1000,3),\n",
    "         round(decode_time_1[i],3),\n",
    "         round(TC_1[i],3),\n",
    "         round(SNR_1[i],3)])\n",
    "    \n",
    "table_data_2 = []\n",
    "for i in range(len(Pframes2)):\n",
    "    table_data_2.append( \n",
    "        [round(encode_time_2[i],3),\n",
    "         round(compression_size_1[i]/1000,3),\n",
    "         round(decode_time_2[i],3),\n",
    "         round(TC_2[i],3),\n",
    "         round(SNR_2[i],3)])\n",
    "    \n",
    "table_data_3 = []\n",
    "for i in range(len(Pframes3)):\n",
    "    table_data_3.append( \n",
    "        [round(encode_time_3[i],3),\n",
    "         round(compression_size_1[i]/1000,3),\n",
    "         round(decode_time_3[i],3),\n",
    "         round(TC_3[i],3),\n",
    "         round(SNR_3[i],3)])\n",
    "\n",
    "# create tables\n",
    "fig1, ax1 = plt.subplots()\n",
    "fig2, ax2 = plt.subplots()\n",
    "fig3, ax3 = plt.subplots()\n",
    "\n",
    "# build tables\n",
    "table_1 = ax1.table(\n",
    "    cellText=table_data_1, \n",
    "    colLabels=table_header, \n",
    "    cellLoc='center',\n",
    "    loc ='upper left')\n",
    "\n",
    "table_2 = ax2.table(\n",
    "    cellText=table_data_2, \n",
    "    colLabels=table_header, \n",
    "    cellLoc='center',\n",
    "    loc ='upper left')\n",
    "\n",
    "table_3 = ax3.table(\n",
    "    cellText=table_data_3, \n",
    "    colLabels=table_header, \n",
    "    cellLoc='center',\n",
    "    loc ='upper left')\n",
    "\n",
    "# hide the axes\n",
    "fig1.patch.set_visible(False)\n",
    "ax1.axis('off')\n",
    "ax1.axis('tight')\n",
    "fig2.patch.set_visible(False)\n",
    "ax2.axis('off')\n",
    "ax2.axis('tight')\n",
    "fig3.patch.set_visible(False)\n",
    "ax3.axis('off')\n",
    "ax3.axis('tight')\n",
    "\n",
    "# display tables\n",
    "fig1.suptitle('Encode::Decode - 1')\n",
    "table_1.scale(3,3)\n",
    "fig2.suptitle('Encode::Decode - 2')\n",
    "table_2.scale(3,3)\n",
    "fig3.suptitle('Encode::Decode - 3')\n",
    "table_3.scale(3,3)\n",
    "\n",
    "plt.show()"
   ]
  },
  {
   "cell_type": "markdown",
   "id": "floral-illustration",
   "metadata": {},
   "source": [
    "<a id=\"conclusoes\"></a>\n",
    "\n",
    "# Conclusões\n",
    "\n",
    "Este trabalho explora os princípios básicos da codificação de vídeo. Neste trabalho pretende-se implementar três formas\n",
    "de codificação de vídeo. Cada um destes codificadores deve ser testado com a a sequência de imagens disponibilizadas.\n",
    "\n",
    "Analisando os valores de entropia na [tabela](#link), pode-se considerar que são valores óptimos, pois demonstram ser possível realizar uma compressão sem perda, uma vez que o valor de entropia é menor que o número médio de bits por símbolo **H(S) < L**, que neste caso é constante, 8 bits.\n",
    "\n",
    "- pesquisa exaustiva\n",
    "- macro blocos vao prever movimento procurando o melhor namtch na iframe\n",
    "- etc\n",
    "\n",
    "Se a imagem é bem reconstruída, então a relação sinal ruído é muito alta (potência do sinal > potência do ruído), então têm-se como resultado uma boa resolução de imagem. Em contrapartida a taxa de compressão será mais baixa, pois elas são duas propriedades com proporcionalidade inversa.\n",
    "\n",
    "Como seria de esperar a codificação com compensação de movimento, é mais lenta devido à complexidade computacional."
   ]
  },
  {
   "cell_type": "code",
   "execution_count": null,
   "id": "korean-section",
   "metadata": {},
   "outputs": [],
   "source": []
  },
  {
   "cell_type": "code",
   "execution_count": null,
   "id": "pacific-insured",
   "metadata": {},
   "outputs": [],
   "source": []
  },
  {
   "cell_type": "markdown",
   "id": "hollow-smoke",
   "metadata": {},
   "source": [
    "[back to index](#index)"
   ]
  }
 ],
 "metadata": {
  "kernelspec": {
   "display_name": "csm_env",
   "language": "python",
   "name": "csm_env"
  },
  "language_info": {
   "codemirror_mode": {
    "name": "ipython",
    "version": 3
   },
   "file_extension": ".py",
   "mimetype": "text/x-python",
   "name": "python",
   "nbconvert_exporter": "python",
   "pygments_lexer": "ipython3",
   "version": "3.7.7"
  }
 },
 "nbformat": 4,
 "nbformat_minor": 5
}
