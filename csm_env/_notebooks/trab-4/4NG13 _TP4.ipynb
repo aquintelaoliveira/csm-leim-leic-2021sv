{
 "cells": [
  {
   "cell_type": "markdown",
   "id": "flying-myrtle",
   "metadata": {},
   "source": [
    "<div>\n",
    "     <div>\n",
    "        <img src=\"./report/isel_logo.png\" width=\"400\" height=\"400\" align=\"left\">\n",
    "    </div>\n",
    "    <div>\n",
    "        <h2>Área Departamental de Engenharia de Eletrónica e Telecomunicações e de Computadores</h2>\n",
    "        <p>Trabalho prático 4</p>\n",
    "        <p>Autor:\t44598\tAndré L. A. Q. de Oliveira</p>\n",
    "        <p>Unidade Curricular Compressão de Sinais Multimédia</p>\n",
    "        <p>Professor: André Lourenço</p>\n",
    "        <p>27 - Junho - 2021</p>\n",
    "    </div>\n",
    "</div>"
   ]
  },
  {
   "cell_type": "markdown",
   "id": "maritime-giving",
   "metadata": {},
   "source": [
    "### <a id=\"index\"></a>\n",
    "\n",
    "# Index\n",
    "- [Tabelas da norma ITU T.81 - JPEG standard](#ITU_T.81)\n",
    "- [Compressão](#compressao)\n",
    "    - [snr](#snr)\n",
    "- [Testes](#testes)\n",
    "- [Conclusões](#conclusoes)"
   ]
  },
  {
   "cell_type": "markdown",
   "id": "reflected-transcript",
   "metadata": {},
   "source": [
    "# Importar bibliotecas"
   ]
  },
  {
   "cell_type": "code",
   "execution_count": 1,
   "id": "retained-supply",
   "metadata": {},
   "outputs": [],
   "source": [
    "import os\n",
    "from time import time\n",
    "import cv2\n",
    "import numpy as np\n",
    "import matplotlib.pyplot as plt\n",
    "\n",
    "cwd = os.getcwd() # current work diretory"
   ]
  },
  {
   "cell_type": "markdown",
   "id": "familiar-inspection",
   "metadata": {},
   "source": [
    "<a id=\"compressao\"></a>\n",
    "\n",
    "# Compressão\n",
    "\n",
    "A taxa de compressão pode ser cáculada atrás da seguinte expressão matemática:\n",
    "\n",
    "$$ T_c = \\frac{D_o}{D_c} $$"
   ]
  },
  {
   "cell_type": "markdown",
   "id": "rough-ribbon",
   "metadata": {},
   "source": [
    "<a id=\"snr\"></a>\n",
    "\n",
    "## SNR\n",
    "\n",
    "A relação sinal-ruído compara o nível de um sinal desejado com o nível do ruído. Quanto mais alta for a relação sinal-ruído, menor é o efeito do ruído de fundo sobre a detecção ou medição do sinal.\n",
    "\n",
    "$$ SNR(Db) = 10\\log_{10}\\left[\\frac{\\sum_{l}\\sum_{c}I_{ap}(l,c)^2}{\\sum_{l}\\sum_{c}[I_{ap}(l,c)-I_{or}(l,c)]^2}\\right] $$"
   ]
  },
  {
   "cell_type": "code",
   "execution_count": 3,
   "id": "advance-times",
   "metadata": {},
   "outputs": [],
   "source": [
    "def snr(I_or, I_ap):\n",
    "    Pxa = np.sum(I_ap.astype('float')**2)\n",
    "    Pe = np.sum( (I_ap.astype('float') - I_or.astype('float'))**2 )\n",
    "    return 10 * np.log10(Pxa / Pe)"
   ]
  },
  {
   "cell_type": "markdown",
   "id": "published-coordinator",
   "metadata": {},
   "source": [
    "<a id=\"Entropia\"></a>\n",
    "\n",
    "## Entropia\n",
    "\n",
    "A entropia mede a quantidade de informação codificada na mensagem, onde quando maior for o valor entrópico, maior será a incerteza.\n",
    "\n",
    "A entropia da fonte é dada pela seguinte expressão matemática:\n",
    "\n",
    "$$ H(S) = -\\sum_{i=1}^{N}p(s_i)log_{2}p(s_i) $$\n",
    "\n",
    "\n",
    "A eficiência da condificação pode ser obtida através da seguinte expressão matemática:\n",
    "\n",
    "$$ \\eta = \\frac{H(S)}{L} $$\n",
    "\n",
    "onde, **_L_** é o número médio de bits por símbolo.\n",
    "\n",
    "É possível codificar uma fonte, sem perdas, se o número médio de bits por símbolo for maior ou igual à entropia da fonte:\n",
    "\n",
    "$$ H(S) < L < H(S) + \\delta $$"
   ]
  },
  {
   "cell_type": "code",
   "execution_count": 4,
   "id": "sunrise-steering",
   "metadata": {},
   "outputs": [],
   "source": [
    "def calculate_entropy(symbol_freq_dictionary):\n",
    "    # list of symbol occurences in file\n",
    "    occurrences = list(symbol_freq_dictionary.values())\n",
    "    # total number of symbols\n",
    "    t = np.sum(occurrences)\n",
    "    # probability of each symbol\n",
    "    p = [occ / t for occ in occurrences]\n",
    "    return -np.sum([p * np.log2(p)])\n",
    "\n",
    "def calculate_efficiency(H, dictionary):\n",
    "    # average number of bits per symbol\n",
    "    L = 0\n",
    "    for symbol in dictionary:\n",
    "        L += len(dictionary[symbol])\n",
    "    L = L / len(dictionary)\n",
    "    return L, ( H / L )"
   ]
  },
  {
   "cell_type": "markdown",
   "id": "composite-emphasis",
   "metadata": {},
   "source": [
    "[back to index](#index)"
   ]
  },
  {
   "cell_type": "markdown",
   "id": "interesting-framework",
   "metadata": {},
   "source": [
    "### <a id=\"testes\"></a>\n",
    "\n",
    "# Testes"
   ]
  },
  {
   "cell_type": "markdown",
   "id": "brazilian-brain",
   "metadata": {},
   "source": [
    "## Importar dados"
   ]
  },
  {
   "cell_type": "code",
   "execution_count": 6,
   "id": "false-apache",
   "metadata": {},
   "outputs": [
    {
     "name": "stdout",
     "output_type": "stream",
     "text": [
      "bola_1\n",
      "bola_10\n",
      "bola_11\n",
      "bola_2\n",
      "bola_3\n",
      "bola_4\n",
      "bola_5\n",
      "bola_6\n",
      "bola_7\n",
      "bola_8\n",
      "bola_9\n"
     ]
    }
   ],
   "source": [
    "frames = []\n",
    "for item in os.listdir(f\"{cwd}/input_data/bola_seq\"):\n",
    "    # print(item[:-5])\n",
    "    frames.append( cv2.imread(item, cv2.IMREAD_GRAYSCALE) )"
   ]
  },
  {
   "cell_type": "markdown",
   "id": "parliamentary-divorce",
   "metadata": {},
   "source": [
    "[back to index](#index)"
   ]
  },
  {
   "cell_type": "markdown",
   "id": "floral-illustration",
   "metadata": {},
   "source": [
    "### <a id=\"conclusoes\"></a>\n",
    "\n",
    "# Conclusões\n",
    "\n",
    "Este trabalho explora os princípios básicos da codificação de vídeo. Neste trabalho pretende-se implementar três formas\n",
    "de codificação de vídeo. Cada um destes codificadores deve ser testado com a a sequência de imagens disponibilizadas"
   ]
  },
  {
   "cell_type": "markdown",
   "id": "hollow-smoke",
   "metadata": {},
   "source": [
    "[back to index](#index)"
   ]
  }
 ],
 "metadata": {
  "kernelspec": {
   "display_name": "csm_env",
   "language": "python",
   "name": "csm_env"
  },
  "language_info": {
   "codemirror_mode": {
    "name": "ipython",
    "version": 3
   },
   "file_extension": ".py",
   "mimetype": "text/x-python",
   "name": "python",
   "nbconvert_exporter": "python",
   "pygments_lexer": "ipython3",
   "version": "3.7.7"
  }
 },
 "nbformat": 4,
 "nbformat_minor": 5
}
