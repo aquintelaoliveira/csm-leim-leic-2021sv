{
 "cells": [
  {
   "cell_type": "markdown",
   "id": "flying-myrtle",
   "metadata": {},
   "source": [
    "<div>\n",
    "     <div>\n",
    "        <img src=\"./report/isel_logo.png\" width=\"400\" height=\"400\" align=\"left\">\n",
    "    </div>\n",
    "    <div>\n",
    "        <h2>Área Departamental de Engenharia de Eletrónica e Telecomunicações e de Computadores</h2>\n",
    "        <p>Trabalho prático 4</p>\n",
    "        <p>Autor:\t44598\tAndré L. A. Q. de Oliveira</p>\n",
    "        <p>Unidade Curricular Compressão de Sinais Multimédia</p>\n",
    "        <p>Professor: André Lourenço</p>\n",
    "        <p>27 - Junho - 2021</p>\n",
    "    </div>\n",
    "</div>"
   ]
  },
  {
   "cell_type": "markdown",
   "id": "maritime-giving",
   "metadata": {},
   "source": [
    "### <a id=\"index\"></a>\n",
    "\n",
    "# Index\n",
    "- [Tabelas da norma ITU T.81 - JPEG standard](#ITU_T.81)\n",
    "- [Compressão](#compressao)\n",
    "    - [snr](#snr)\n",
    "- [Entropia](#entropia)\n",
    "    - [entropy](#entropy)\n",
    "    - [efficiency](#efficiency)\n",
    "- [Utilities](#utilities)\n",
    "    - [imshow](#imshow)\n",
    "    - [convertFrame2Jpeg](#convertFrame2Jpeg)\n",
    "    - [createPframe](#createPframe)\n",
    "    - [mae](#mae)\n",
    "    - [divide_to_blocks](#divide_to_blocks)\n",
    "    - [merge_from_blocks](#merge_from_blocks)\n",
    "- [Codificador 1](#codificador_1)\n",
    "    - [encode_1](#encode_1)\n",
    "- [Codificador 2](#codificador_2)\n",
    "    - [encode_2](#encode_2)\n",
    "    - [decode_2](#decode_2)\n",
    "- [Codificador 3](#codificador_2)\n",
    "    - [encode_3](#encode_3)\n",
    "    - [decode_3](#decode_3)\n",
    "- [Testes](#testes)\n",
    "- [Conclusões](#conclusoes)"
   ]
  },
  {
   "cell_type": "markdown",
   "id": "reflected-transcript",
   "metadata": {},
   "source": [
    "# Importar bibliotecas"
   ]
  },
  {
   "cell_type": "code",
   "execution_count": 276,
   "id": "retained-supply",
   "metadata": {},
   "outputs": [],
   "source": [
    "import os\n",
    "import math\n",
    "from time import time\n",
    "import cv2\n",
    "import numpy as np\n",
    "import matplotlib.pyplot as plt\n",
    "\n",
    "cwd = os.getcwd() # current work diretory"
   ]
  },
  {
   "cell_type": "markdown",
   "id": "familiar-inspection",
   "metadata": {},
   "source": [
    "<a id=\"compressao\"></a>\n",
    "\n",
    "# Compressão\n",
    "\n",
    "A taxa de compressão pode ser cáculada atrás da seguinte expressão matemática:\n",
    "\n",
    "$$ T_c = \\frac{D_o}{D_c} $$"
   ]
  },
  {
   "cell_type": "markdown",
   "id": "rough-ribbon",
   "metadata": {},
   "source": [
    "<a id=\"snr\"></a>\n",
    "\n",
    "## SNR\n",
    "\n",
    "A relação sinal-ruído compara o nível de um sinal desejado com o nível do ruído. Quanto mais alta for a relação sinal-ruído, menor é o efeito do ruído de fundo sobre a detecção ou medição do sinal.\n",
    "\n",
    "$$ SNR(Db) = 10\\log_{10}\\left[\\frac{\\sum_{l}\\sum_{c}I_{ap}(l,c)^2}{\\sum_{l}\\sum_{c}[I_{ap}(l,c)-I_{or}(l,c)]^2}\\right] $$"
   ]
  },
  {
   "cell_type": "code",
   "execution_count": 278,
   "id": "advance-times",
   "metadata": {},
   "outputs": [],
   "source": [
    "def snr(I_or, I_ap):\n",
    "    Pxa = np.sum(I_ap.astype('float')**2)\n",
    "    Pe = np.sum( (I_ap.astype('float') - I_or.astype('float'))**2 )\n",
    "    return 10 * np.log10(Pxa / Pe)"
   ]
  },
  {
   "cell_type": "markdown",
   "id": "published-coordinator",
   "metadata": {},
   "source": [
    "<a id=\"entropia\"></a>\n",
    "\n",
    "# Entropia\n",
    "\n",
    "A entropia mede a quantidade de informação codificada na mensagem, onde quando maior for o valor entrópico, maior será a incerteza.\n",
    "\n",
    "A entropia da fonte é dada pela seguinte expressão matemática:\n",
    "\n",
    "$$ H(S) = -\\sum_{i=1}^{N}p(s_i)log_{2}p(s_i) $$\n",
    "\n",
    "\n",
    "A eficiência da condificação pode ser obtida através da seguinte expressão matemática:\n",
    "\n",
    "$$ \\eta = \\frac{H(S)}{L} $$\n",
    "\n",
    "onde, **_L_** é o número médio de bits por símbolo.\n",
    "\n",
    "É possível codificar uma fonte, sem perdas, se o número médio de bits por símbolo for maior ou igual à entropia da fonte:\n",
    "\n",
    "$$ H(S) < L < H(S) + \\delta $$"
   ]
  },
  {
   "cell_type": "markdown",
   "id": "alpha-wholesale",
   "metadata": {},
   "source": [
    "<a id=\"entropy\"></a>\n",
    "\n",
    "## entropy\n"
   ]
  },
  {
   "cell_type": "code",
   "execution_count": 279,
   "id": "sunrise-steering",
   "metadata": {},
   "outputs": [],
   "source": [
    "def calculate_entropy(symbol_freq_dictionary):\n",
    "    # list of symbol occurences in file\n",
    "    occurrences = list(symbol_freq_dictionary.values())\n",
    "    # total number of symbols\n",
    "    t = np.sum(occurrences)\n",
    "    # probability of each symbol\n",
    "    p = [occ / t for occ in occurrences]\n",
    "    return -np.sum([p * np.log2(p)])"
   ]
  },
  {
   "cell_type": "markdown",
   "id": "conservative-honey",
   "metadata": {},
   "source": [
    "<a id=\"efficiency\"></a>\n",
    "\n",
    "## efficiency"
   ]
  },
  {
   "cell_type": "code",
   "execution_count": 280,
   "id": "effective-snowboard",
   "metadata": {},
   "outputs": [],
   "source": [
    "def efficiency(H, dictionary):\n",
    "    # average number of bits per symbol\n",
    "    L = 0\n",
    "    for symbol in dictionary:\n",
    "        L += len(dictionary[symbol])\n",
    "    L = L / len(dictionary)\n",
    "    return L, ( H / L )"
   ]
  },
  {
   "cell_type": "markdown",
   "id": "composite-emphasis",
   "metadata": {},
   "source": [
    "[back to index](#index)"
   ]
  },
  {
   "cell_type": "markdown",
   "id": "collectible-survival",
   "metadata": {},
   "source": [
    "<a id=\"utilities\"></a>\n",
    "\n",
    "# Utilities"
   ]
  },
  {
   "cell_type": "markdown",
   "id": "surrounded-soldier",
   "metadata": {},
   "source": [
    "<a id=\"imshow\"></a>\n",
    "\n",
    "## imshow"
   ]
  },
  {
   "cell_type": "code",
   "execution_count": 281,
   "id": "alien-liechtenstein",
   "metadata": {},
   "outputs": [],
   "source": [
    "def imshow(title, image):\n",
    "    cv2.imshow(title, image)\n",
    "    cv2.waitKey(0)\n",
    "    cv2.destroyAllWindows()"
   ]
  },
  {
   "cell_type": "markdown",
   "id": "designed-locking",
   "metadata": {},
   "source": [
    "<a id=\"convertFrame2Jpeg\"></a>\n",
    "\n",
    "## convertFrame2Jpeg"
   ]
  },
  {
   "cell_type": "code",
   "execution_count": 282,
   "id": "responsible-deficit",
   "metadata": {},
   "outputs": [],
   "source": [
    "def convertFrame2Jpeg(path, frame):\n",
    "    cv2.imwrite(f\"{path}.jpg\", frame, (cv2.IMWRITE_JPEG_QUALITY, 50))\n",
    "    return cv2.imread(f\"{path}.jpg\", cv2.IMREAD_GRAYSCALE)"
   ]
  },
  {
   "cell_type": "markdown",
   "id": "psychological-steam",
   "metadata": {},
   "source": [
    "<a id=\"create_Pframe\"></a>\n",
    "\n",
    "## create_Pframe"
   ]
  },
  {
   "cell_type": "code",
   "execution_count": 283,
   "id": "ambient-technology",
   "metadata": {},
   "outputs": [],
   "source": [
    "def create_Pframe(Iframe, frame):\n",
    "    return ( ( Iframe.astype('int16') - frame.astype('int16') ) / 2  + 127 ).astype('uint8')"
   ]
  },
  {
   "cell_type": "code",
   "execution_count": 284,
   "id": "roman-fisher",
   "metadata": {},
   "outputs": [
    {
     "name": "stdout",
     "output_type": "stream",
     "text": [
      "[[118 148 248  88 103 233  94  81]\n",
      " [ 17 126   5 234 119 106 237  43]\n",
      " [150  70 137 183 172 218  29 226]\n",
      " [214 227 211 126  79  88 146 244]\n",
      " [  8 137   7 133  85 247  35 100]\n",
      " [179  19  94 195 245 174  89 162]\n",
      " [235   3 116  58 246  59 231   3]\n",
      " [ 92  28 149  55  38  72 240  60]]\n",
      "[[106 202  46 139 247 208 202 206]\n",
      " [ 60 188 239 185  60 199 243  44]\n",
      " [202 214  28 186 170 207 135 231]\n",
      " [ 16 205 158 169 146 149   8 233]\n",
      " [ 98  89 137  90 123 182  64 123]\n",
      " [ 60 127 117  88 182  16  87 205]\n",
      " [178 133 145  88 226 251 250 172]\n",
      " [137  16 144 156  45 233  61 137]]\n",
      "[[106 202  46 140 247 209 202 207]\n",
      " [ 61 188 239 186  61 200 243  45]\n",
      " [202 214  29 187 170 208 135 232]\n",
      " [ 16 205 159 170 147 150   8 234]\n",
      " [ 98  89 137  91 123 183  65 124]\n",
      " [ 61 127 118  89 183  16  87 206]\n",
      " [179 133 146  88 226 251 251 173]\n",
      " [138  16 145 157  46 234  62 138]]\n"
     ]
    }
   ],
   "source": [
    "i =  np.random.randint(256, size=(8,8)).astype('uint8')\n",
    "print(i)\n",
    "\n",
    "f =  np.random.randint(256, size=(8,8)).astype('uint8')\n",
    "print(f)\n",
    "\n",
    "p = ( ( i.astype('int16') - f.astype('int16') ) / 2 ) + 127\n",
    "# print(p)\n",
    "\n",
    "p_ = ( i.astype('int16') - (p.astype('int16') - 127)*2).astype('uint8')\n",
    "print(p_)"
   ]
  },
  {
   "cell_type": "code",
   "execution_count": 285,
   "id": "existing-resource",
   "metadata": {},
   "outputs": [
    {
     "name": "stdout",
     "output_type": "stream",
     "text": [
      "i_f\n",
      " [[ 39 173  91  47  82 150 227  76]\n",
      " [236 216 169  16   8 171 151  61]\n",
      " [  1  33 171  21 134 254  23 208]\n",
      " [  5 202 211 135 193 102 232  65]\n",
      " [195 211 179 193 135 124 106 112]\n",
      " [ 54 210 183  32 160 181 208 209]\n",
      " [ 40  77 135 150 131 170 165  86]\n",
      " [195  79  89 227 137 116 116 167]]\n",
      "f\n",
      " [[ 78 232  70  51 232 132 168 223]\n",
      " [121 144  31 197 141  12  77  26]\n",
      " [174 119 167  50 229 146 250 144]\n",
      " [ 14 130 191 226 200 142  26 216]\n",
      " [237 100 116  27 170 192  19 213]\n",
      " [ 47 178   7 140 162 253  29 177]\n",
      " [ 60 247 173 232  36 207  15  86]\n",
      " [ 78  16 254  11 244 135  91 125]]\n",
      "p_f\n",
      " [[107  97 137 125  52 136 156  53]\n",
      " [184 163 196  36  60 206 164 144]\n",
      " [ 40  84 129 112  79 181  13 159]\n",
      " [122 163 137  81 123 107 230  51]\n",
      " [106 182 158 210 109  93 170  76]\n",
      " [130 143 215  73 126  91 216 143]\n",
      " [117  42 108  86 174 108 202 127]\n",
      " [185 158  44 235  73 117 139 148]]\n"
     ]
    }
   ],
   "source": [
    "i_f = np.random.randint(256, size=(8,8)).astype('uint8')\n",
    "# i_f = np.zeros((8,8)).astype('uint8')\n",
    "print(\"i_f\\n\",i_f)\n",
    "f = np.random.randint(256, size=(8,8)).astype('uint8')\n",
    "# f = (np.ones((8,8))*255).astype('uint8')\n",
    "print(\"f\\n\",f)\n",
    "p_f = create_Pframe(i_f,f)\n",
    "print(\"p_f\\n\",p_f)"
   ]
  },
  {
   "cell_type": "markdown",
   "id": "artificial-proposition",
   "metadata": {},
   "source": [
    "<a id=\"reconstruct_Iframe\"></a>\n",
    "\n",
    "## reconstruct_Iframe"
   ]
  },
  {
   "cell_type": "code",
   "execution_count": 286,
   "id": "beneficial-belarus",
   "metadata": {},
   "outputs": [],
   "source": [
    "def reconstruct_Iframe(Iframe, Pframe):\n",
    "    return ( Iframe.astype('int16') - (Pframe.astype('int16') - 127)*2).astype('uint8')"
   ]
  },
  {
   "cell_type": "code",
   "execution_count": 287,
   "id": "after-punch",
   "metadata": {},
   "outputs": [
    {
     "name": "stdout",
     "output_type": "stream",
     "text": [
      "[[ 79 233  71  51 232 132 169 224]\n",
      " [122 144  31 198 142  13  77  27]\n",
      " [175 119 167  51 230 146 251 144]\n",
      " [ 15 130 191 227 201 142  26 217]\n",
      " [237 101 117  27 171 192  20 214]\n",
      " [ 48 178   7 140 162 253  30 177]\n",
      " [ 60 247 173 232  37 208  15  86]\n",
      " [ 79  17 255  11 245 136  92 125]]\n"
     ]
    }
   ],
   "source": [
    "rf = reconstruct_Iframe(i_f,p_f)\n",
    "print(rf)"
   ]
  },
  {
   "cell_type": "code",
   "execution_count": 288,
   "id": "historic-mortality",
   "metadata": {},
   "outputs": [
    {
     "name": "stdout",
     "output_type": "stream",
     "text": [
      "(8, 8)\n"
     ]
    }
   ],
   "source": [
    "macro_blocks = np.zeros((8, 8), dtype=object)\n",
    "macro_blocks[0][0] =  np.array([[1,2],\n",
    "                       [1,2]])\n",
    "print(macro_blocks.shape)"
   ]
  },
  {
   "cell_type": "markdown",
   "id": "experienced-potato",
   "metadata": {},
   "source": [
    "<a id=\"mae\"></a>\n",
    "\n",
    "## Erro absoluto médio (MAE)\n",
    "\n",
    "Critério de semelhança entre blocos\n",
    "\n",
    "$$ (d_m,d_n) = arg \\min_{d_m,d_n} \\frac{1}{MN}\\sum_{m=1}^{M}\\sum_{n=1}^{N} \\left| X^{t}(m,n)-X^{t-1}(m-d_m,n-d_n) \\right| $$"
   ]
  },
  {
   "cell_type": "code",
   "execution_count": 289,
   "id": "mental-cookbook",
   "metadata": {},
   "outputs": [],
   "source": [
    "def mae(b1, b2):\n",
    "    return np.sum(np.abs(cv2.subtract(b1,b2).ravel())) / len(b1.ravel())"
   ]
  },
  {
   "cell_type": "code",
   "execution_count": 290,
   "id": "confused-rider",
   "metadata": {},
   "outputs": [
    {
     "name": "stdout",
     "output_type": "stream",
     "text": [
      "2.0\n"
     ]
    }
   ],
   "source": [
    "block1 = np.ones(256).reshape((16,16))\n",
    "block2 = (np.ones(256)*3).reshape((16,16))\n",
    "\n",
    "print(mae(block1, block2))"
   ]
  },
  {
   "cell_type": "markdown",
   "id": "medium-farming",
   "metadata": {},
   "source": [
    "<a id=\"to_macro_blocks\"></a>\n",
    "\n",
    "### to_macro_blocks\n",
    "\n",
    "Divide uma imagem em uma matriz de blocos de tamanho size x size."
   ]
  },
  {
   "cell_type": "code",
   "execution_count": 291,
   "id": "subsequent-marsh",
   "metadata": {},
   "outputs": [],
   "source": [
    "def to_macro_blocks(image, size):\n",
    "    \n",
    "    width, height = image.shape\n",
    "    \n",
    "    if (width % size) != 0 or (height % size) != 0:\n",
    "        raise Exception('function only supports multiple macro block division!')\n",
    "    \n",
    "    macro_blocks = np.zeros((int(width/size), int(height/size)), dtype=object)\n",
    "    \n",
    "    i = -1\n",
    "    j = -1\n",
    "    for lin in range(0, width, size):\n",
    "        i += 1\n",
    "        j = -1\n",
    "        for col in range(0, height, size):\n",
    "            j += 1\n",
    "            # create new block\n",
    "            macro_blocks[i][j] = image[lin:(lin + size),col:(col  +size)]\n",
    "                \n",
    "    return macro_blocks"
   ]
  },
  {
   "cell_type": "markdown",
   "id": "second-shape",
   "metadata": {},
   "source": [
    "<a id=\"from_macro_blocks\"></a>\n",
    "\n",
    "### from_macro_blocks\n",
    "\n",
    "Merge um matriz de macro blocos para uma imagem."
   ]
  },
  {
   "cell_type": "code",
   "execution_count": 292,
   "id": "czech-mitchell",
   "metadata": {},
   "outputs": [],
   "source": [
    "def from_macro_blocks(matrix, size):\n",
    "    \n",
    "    width  = matrix.shape[0]*size\n",
    "    heigth = matrix.shape[1]*size\n",
    "    \n",
    "    output = np.zeros((width, heigth), dtype='uint8')\n",
    "    \n",
    "    i = -1\n",
    "    j = -1\n",
    "    for lin in range(0, width, size):\n",
    "        i+=1\n",
    "        j=-1\n",
    "        for col in range(0, heigth, size):\n",
    "            j+=1\n",
    "            output[lin:(lin+size),col:(col+size)] = matrix[i][j]\n",
    "    return output"
   ]
  },
  {
   "cell_type": "code",
   "execution_count": 293,
   "id": "public-detection",
   "metadata": {},
   "outputs": [
    {
     "name": "stdout",
     "output_type": "stream",
     "text": [
      "[[array([[ 0,  1,  2,  3],\n",
      "         [ 8,  9, 10, 11],\n",
      "         [16, 17, 18, 19],\n",
      "         [24, 25, 26, 27]]) array([[ 4,  5,  6,  7],\n",
      "                                   [12, 13, 14, 15],\n",
      "                                   [20, 21, 22, 23],\n",
      "                                   [28, 29, 30, 31]])]\n",
      " [array([[32, 33, 34, 35],\n",
      "         [40, 41, 42, 43],\n",
      "         [48, 49, 50, 51],\n",
      "         [56, 57, 58, 59]]) array([[36, 37, 38, 39],\n",
      "                                   [44, 45, 46, 47],\n",
      "                                   [52, 53, 54, 55],\n",
      "                                   [60, 61, 62, 63]])]]\n"
     ]
    }
   ],
   "source": [
    "arr1 = np.arange(64).reshape((8,8))\n",
    "m = to_macro_blocks(arr1, 4)\n",
    "print(m)"
   ]
  },
  {
   "cell_type": "code",
   "execution_count": 294,
   "id": "billion-triangle",
   "metadata": {},
   "outputs": [
    {
     "name": "stdout",
     "output_type": "stream",
     "text": [
      "frame\n",
      " [[ 0  1  2  3  4  5  6  7]\n",
      " [ 8  9 10 11 12 13 14 15]\n",
      " [16 17 18 19 20 21 22 23]\n",
      " [24 25 26 27 28 29 30 31]\n",
      " [32 33 34 35 36 37 38 39]\n",
      " [40 41 42 43 44 45 46 47]\n",
      " [48 49 50 51 52 53 54 55]\n",
      " [56 57 58 59 60 61 62 63]]\n",
      "divite to blocks\n",
      " [[array([[ 0,  1,  2,  3],\n",
      "         [ 8,  9, 10, 11],\n",
      "         [16, 17, 18, 19],\n",
      "         [24, 25, 26, 27]]) array([[ 4,  5,  6,  7],\n",
      "                                   [12, 13, 14, 15],\n",
      "                                   [20, 21, 22, 23],\n",
      "                                   [28, 29, 30, 31]])]\n",
      " [array([[32, 33, 34, 35],\n",
      "         [40, 41, 42, 43],\n",
      "         [48, 49, 50, 51],\n",
      "         [56, 57, 58, 59]]) array([[36, 37, 38, 39],\n",
      "                                   [44, 45, 46, 47],\n",
      "                                   [52, 53, 54, 55],\n",
      "                                   [60, 61, 62, 63]])]]\n",
      "merge from blocks\n",
      " [[ 0  1  2  3  4  5  6  7]\n",
      " [ 8  9 10 11 12 13 14 15]\n",
      " [16 17 18 19 20 21 22 23]\n",
      " [24 25 26 27 28 29 30 31]\n",
      " [32 33 34 35 36 37 38 39]\n",
      " [40 41 42 43 44 45 46 47]\n",
      " [48 49 50 51 52 53 54 55]\n",
      " [56 57 58 59 60 61 62 63]]\n"
     ]
    }
   ],
   "source": [
    "frame = np.arange(64).reshape((8,8))\n",
    "print('frame\\n', frame)\n",
    "\n",
    "mBlocks = to_macro_blocks(frame, 4)\n",
    "print('divite to blocks\\n', mBlocks)\n",
    "\n",
    "r_frame = from_macro_blocks(mBlocks,4)\n",
    "print('merge from blocks\\n', r_frame)"
   ]
  },
  {
   "cell_type": "markdown",
   "id": "sophisticated-think",
   "metadata": {},
   "source": [
    " <a id=\"codificador_1\"></a>\n",
    " \n",
    "# Codificador 1\n",
    " \n",
    "<div class=\"alert alert-block alert-info\">\n",
    "Considera que cada frame é uma intra-frame (I).\n",
    "</div>"
   ]
  },
  {
   "cell_type": "code",
   "execution_count": 295,
   "id": "registered-deposit",
   "metadata": {},
   "outputs": [],
   "source": [
    "def encode_1(path, frames):\n",
    "    Iframes = []\n",
    "    for i in range(len(frames)):\n",
    "        Iframes.append( convertFrame2Jpeg(f\"{path}/Iframe_{i+1}\", frames[i]) )\n",
    "    return Iframes"
   ]
  },
  {
   "cell_type": "markdown",
   "id": "south-charles",
   "metadata": {},
   "source": [
    "<a id=\"codificador_2\"></a>\n",
    " \n",
    "# Codificador 2\n",
    " \n",
    "<div class=\"alert alert-block alert-info\">\n",
    "Considera que todas as frames à exceção da primeira (a I-frame) são inter-frames (P), sem compensação de movimento.\n",
    "</div>"
   ]
  },
  {
   "cell_type": "code",
   "execution_count": 296,
   "id": "banned-rates",
   "metadata": {},
   "outputs": [],
   "source": [
    "def encode_2(path, frames):\n",
    "    Iframe = frames[0]\n",
    "    Pframes = []\n",
    "    convertFrame2Jpeg(f\"{path}/Iframe_{1}\", Iframe)\n",
    "    for i in range(1, len(frames)):\n",
    "        Pframes.append( convertFrame2Jpeg(f\"{path}/Pframe_{i+1}\", create_Pframe(frames[0], frames[i])) )\n",
    "    return Iframe, Pframes"
   ]
  },
  {
   "cell_type": "code",
   "execution_count": 297,
   "id": "removed-chile",
   "metadata": {},
   "outputs": [],
   "source": [
    "def decode_2(path, Iframe, Pframes):\n",
    "    rIframes = []\n",
    "    for i in range(len(Pframes)):\n",
    "        rIframes.append( convertFrame2Jpeg(f\"{path}/rIframe_{i+2}\", reconstruct_Iframe(Iframe, Pframes[i])) )\n",
    "    return Iframe, rIframes"
   ]
  },
  {
   "cell_type": "markdown",
   "id": "conservative-trail",
   "metadata": {},
   "source": [
    "<a id=\"codificador_3\"></a>\n",
    " \n",
    "# Codificador 3\n",
    " \n",
    "<div class=\"alert alert-block alert-info\">\n",
    "Considera que todas as frames à exceção da primeira (a I-frame) são inter-frames (P), com compensação de movimento.\n",
    "</div>"
   ]
  },
  {
   "cell_type": "code",
   "execution_count": 301,
   "id": "roman-apparel",
   "metadata": {},
   "outputs": [],
   "source": [
    "def encode_3(path, frames):\n",
    "    \n",
    "    output = []\n",
    "    \n",
    "    Iframe = frames[0]\n",
    "    macroBlocks = []\n",
    "    #for b in range(1, 2):\n",
    "        # divide frame i into 16x16 macro blocks\n",
    "    macroBlocks = to_macro_blocks(frames[1], 16)\n",
    "        # for each macro block we search in (-15, 15) window for the best match of Iframe trought MAE\n",
    "    s = \"\"\n",
    "    print(macroBlocks.shape)\n",
    "    for i in range(macroBlocks.shape[0]):\n",
    "        for j in range(macroBlocks.shape[1]):\n",
    "            ### bounderies\n",
    "            # top\n",
    "            if i == 0:\n",
    "                if j == 0:\n",
    "                    s += f\"sob - ({i},{j}) \"\n",
    "                elif j == (macroBlocks.shape[1] - 1):\n",
    "                    s += f\"({i},{j})\\n\"\n",
    "                else:\n",
    "                    s += f\"({i},{j}) \"\n",
    "            # bottom\n",
    "            elif i == (macroBlocks.shape[0] - 1):\n",
    "                if j == 0:\n",
    "                    s += f\"({i},{j}) \"\n",
    "                elif j == (macroBlocks.shape[1] - 1):\n",
    "                    s += f\"({i},{j}) - eob\"\n",
    "                else:\n",
    "                    s += f\"({i},{j}) \"\n",
    "            # left\n",
    "            elif j == 0:\n",
    "                s += f\"({i},{j}) \"\n",
    "            # right\n",
    "            elif j == (macroBlocks.shape[1] - 1):\n",
    "                s += f\"({i},{j})\\n\"\n",
    "            # center\n",
    "            else:\n",
    "                s += f\"({i},{j}) \"\n",
    "    print(s)\n",
    "                          \n",
    "   \n",
    "    return macroBlocks"
   ]
  },
  {
   "cell_type": "code",
   "execution_count": 302,
   "id": "balanced-walnut",
   "metadata": {},
   "outputs": [
    {
     "name": "stdout",
     "output_type": "stream",
     "text": [
      "(15, 22)\n",
      "sob - (0,0) (0,1) (0,2) (0,3) (0,4) (0,5) (0,6) (0,7) (0,8) (0,9) (0,10) (0,11) (0,12) (0,13) (0,14) (0,15) (0,16) (0,17) (0,18) (0,19) (0,20) (0,21)\n",
      "(1,0) (1,1) (1,2) (1,3) (1,4) (1,5) (1,6) (1,7) (1,8) (1,9) (1,10) (1,11) (1,12) (1,13) (1,14) (1,15) (1,16) (1,17) (1,18) (1,19) (1,20) (1,21)\n",
      "(2,0) (2,1) (2,2) (2,3) (2,4) (2,5) (2,6) (2,7) (2,8) (2,9) (2,10) (2,11) (2,12) (2,13) (2,14) (2,15) (2,16) (2,17) (2,18) (2,19) (2,20) (2,21)\n",
      "(3,0) (3,1) (3,2) (3,3) (3,4) (3,5) (3,6) (3,7) (3,8) (3,9) (3,10) (3,11) (3,12) (3,13) (3,14) (3,15) (3,16) (3,17) (3,18) (3,19) (3,20) (3,21)\n",
      "(4,0) (4,1) (4,2) (4,3) (4,4) (4,5) (4,6) (4,7) (4,8) (4,9) (4,10) (4,11) (4,12) (4,13) (4,14) (4,15) (4,16) (4,17) (4,18) (4,19) (4,20) (4,21)\n",
      "(5,0) (5,1) (5,2) (5,3) (5,4) (5,5) (5,6) (5,7) (5,8) (5,9) (5,10) (5,11) (5,12) (5,13) (5,14) (5,15) (5,16) (5,17) (5,18) (5,19) (5,20) (5,21)\n",
      "(6,0) (6,1) (6,2) (6,3) (6,4) (6,5) (6,6) (6,7) (6,8) (6,9) (6,10) (6,11) (6,12) (6,13) (6,14) (6,15) (6,16) (6,17) (6,18) (6,19) (6,20) (6,21)\n",
      "(7,0) (7,1) (7,2) (7,3) (7,4) (7,5) (7,6) (7,7) (7,8) (7,9) (7,10) (7,11) (7,12) (7,13) (7,14) (7,15) (7,16) (7,17) (7,18) (7,19) (7,20) (7,21)\n",
      "(8,0) (8,1) (8,2) (8,3) (8,4) (8,5) (8,6) (8,7) (8,8) (8,9) (8,10) (8,11) (8,12) (8,13) (8,14) (8,15) (8,16) (8,17) (8,18) (8,19) (8,20) (8,21)\n",
      "(9,0) (9,1) (9,2) (9,3) (9,4) (9,5) (9,6) (9,7) (9,8) (9,9) (9,10) (9,11) (9,12) (9,13) (9,14) (9,15) (9,16) (9,17) (9,18) (9,19) (9,20) (9,21)\n",
      "(10,0) (10,1) (10,2) (10,3) (10,4) (10,5) (10,6) (10,7) (10,8) (10,9) (10,10) (10,11) (10,12) (10,13) (10,14) (10,15) (10,16) (10,17) (10,18) (10,19) (10,20) (10,21)\n",
      "(11,0) (11,1) (11,2) (11,3) (11,4) (11,5) (11,6) (11,7) (11,8) (11,9) (11,10) (11,11) (11,12) (11,13) (11,14) (11,15) (11,16) (11,17) (11,18) (11,19) (11,20) (11,21)\n",
      "(12,0) (12,1) (12,2) (12,3) (12,4) (12,5) (12,6) (12,7) (12,8) (12,9) (12,10) (12,11) (12,12) (12,13) (12,14) (12,15) (12,16) (12,17) (12,18) (12,19) (12,20) (12,21)\n",
      "(13,0) (13,1) (13,2) (13,3) (13,4) (13,5) (13,6) (13,7) (13,8) (13,9) (13,10) (13,11) (13,12) (13,13) (13,14) (13,15) (13,16) (13,17) (13,18) (13,19) (13,20) (13,21)\n",
      "(14,0) (14,1) (14,2) (14,3) (14,4) (14,5) (14,6) (14,7) (14,8) (14,9) (14,10) (14,11) (14,12) (14,13) (14,14) (14,15) (14,16) (14,17) (14,18) (14,19) (14,20) (14,21) - eob\n"
     ]
    }
   ],
   "source": [
    "def best_match(Iframe, macroBlock):\n",
    "    s = \"\"\n",
    "    print(macroBlocks.shape)\n",
    "    for i in range(macroBlocks.shape[0]):\n",
    "        for j in range(macroBlocks.shape[1]):\n",
    "            ### bounderies\n",
    "            # top\n",
    "            if i == 0:\n",
    "                if j == 0:\n",
    "                    s += f\"sob - ({i},{j}) \"\n",
    "                elif j == (macroBlocks.shape[1] - 1):\n",
    "                    s += f\"({i},{j})\\n\"\n",
    "                else:\n",
    "                    s += f\"({i},{j}) \"\n",
    "            # bottom\n",
    "            elif i == (macroBlocks.shape[0] - 1):\n",
    "                if j == 0:\n",
    "                    s += f\"({i},{j}) \"\n",
    "                elif j == (macroBlocks.shape[1] - 1):\n",
    "                    s += f\"({i},{j}) - eob\"\n",
    "                else:\n",
    "                    s += f\"({i},{j}) \"\n",
    "            # left\n",
    "            elif j == 0:\n",
    "                s += f\"({i},{j}) \"\n",
    "            # right\n",
    "            elif j == (macroBlocks.shape[1] - 1):\n",
    "                s += f\"({i},{j})\\n\"\n",
    "            # center\n",
    "            else:\n",
    "                s += f\"({i},{j}) \"\n",
    "    print(s)"
   ]
  },
  {
   "cell_type": "code",
   "execution_count": 300,
   "id": "religious-spank",
   "metadata": {},
   "outputs": [],
   "source": [
    "def sortDictionaryByDistance(d: dict,x: int, y: int):\n",
    "    return dict(sorted(d.items(), key=lambda item: math.sqrt((x-item[0][0])**2+(y-item[0][1])**2)))"
   ]
  },
  {
   "cell_type": "code",
   "execution_count": null,
   "id": "allied-mitchell",
   "metadata": {},
   "outputs": [],
   "source": [
    "def getMovementEstimationFrame(Iframe, dictionary: dict):"
   ]
  },
  {
   "cell_type": "code",
   "execution_count": null,
   "id": "executed-luxury",
   "metadata": {},
   "outputs": [],
   "source": [
    "d = dict()\n",
    "d[(0,0)] = 3\n",
    "d[(0,1)] = 7\n",
    "d[(0,4)] = 6\n",
    "d[(0,3)] = 2\n",
    "d[(1,1)] = 2\n",
    "\n",
    "print(d)\n",
    "d = sortDictionaryByDistance(d, 1, 3)\n",
    "print(d)\n",
    "\n",
    "best_key = min(d, key=d.get)\n",
    "print(best_key)"
   ]
  },
  {
   "cell_type": "code",
   "execution_count": null,
   "id": "simple-plaintiff",
   "metadata": {},
   "outputs": [],
   "source": [
    "math.sqrt((0-1)**2+(0-2)**2)"
   ]
  },
  {
   "cell_type": "code",
   "execution_count": null,
   "id": "indirect-study",
   "metadata": {},
   "outputs": [],
   "source": [
    "def decode_3(path, frames):"
   ]
  },
  {
   "cell_type": "code",
   "execution_count": null,
   "id": "difficult-cardiff",
   "metadata": {},
   "outputs": [],
   "source": []
  },
  {
   "cell_type": "markdown",
   "id": "interesting-framework",
   "metadata": {},
   "source": [
    "### <a id=\"testes\"></a>\n",
    "\n",
    "# Testes"
   ]
  },
  {
   "cell_type": "code",
   "execution_count": null,
   "id": "later-auction",
   "metadata": {},
   "outputs": [],
   "source": [
    "error() # cause erros to stop here"
   ]
  },
  {
   "cell_type": "markdown",
   "id": "brazilian-brain",
   "metadata": {},
   "source": [
    "## Importar dados"
   ]
  },
  {
   "cell_type": "code",
   "execution_count": null,
   "id": "smoking-presence",
   "metadata": {},
   "outputs": [],
   "source": [
    "# sorting frames names by alphabetical order\n",
    "# frames[0] = sorted(frames[0], key=lambda x: (x[0],int(x[5:])) )"
   ]
  },
  {
   "cell_type": "code",
   "execution_count": null,
   "id": "false-apache",
   "metadata": {},
   "outputs": [],
   "source": [
    "frames = []\n",
    "for i in range(len(os.listdir(f\"{cwd}/input_data/bola_seq\"))):\n",
    "    frames.append( cv2.imread(f\"{cwd}/input_data/bola_seq/bola_{i+1}.tiff\", cv2.IMREAD_GRAYSCALE) )"
   ]
  },
  {
   "cell_type": "markdown",
   "id": "anticipated-butler",
   "metadata": {},
   "source": [
    "<div class=\"alert alert-block alert-info\">\n",
    "Codificador 1\n",
    "</div>"
   ]
  },
  {
   "cell_type": "code",
   "execution_count": null,
   "id": "abstract-plumbing",
   "metadata": {},
   "outputs": [],
   "source": [
    "Iframe1 = encode_1(f\"{cwd}/output_data/codificador1\", frames)"
   ]
  },
  {
   "cell_type": "markdown",
   "id": "affiliated-experience",
   "metadata": {},
   "source": [
    "<div class=\"alert alert-block alert-info\">\n",
    "Codificador 2\n",
    "</div>"
   ]
  },
  {
   "cell_type": "code",
   "execution_count": null,
   "id": "searching-journalism",
   "metadata": {},
   "outputs": [],
   "source": [
    "Iframe2, Pframes2 = encode_2(f\"{cwd}/output_data/codificador2/encode\", frames)"
   ]
  },
  {
   "cell_type": "code",
   "execution_count": null,
   "id": "interstate-design",
   "metadata": {},
   "outputs": [],
   "source": [
    "Iframes2, rIframes2 = decode_2(f\"{cwd}/output_data/codificador2/decode\", Iframe2, Pframes2)"
   ]
  },
  {
   "cell_type": "markdown",
   "id": "small-plasma",
   "metadata": {},
   "source": [
    "<div class=\"alert alert-block alert-info\">\n",
    "Codificador 3\n",
    "</div>"
   ]
  },
  {
   "cell_type": "markdown",
   "id": "parliamentary-divorce",
   "metadata": {},
   "source": [
    "[back to index](#index)"
   ]
  },
  {
   "cell_type": "markdown",
   "id": "floral-illustration",
   "metadata": {},
   "source": [
    "<a id=\"conclusoes\"></a>\n",
    "\n",
    "# Conclusões\n",
    "\n",
    "Este trabalho explora os princípios básicos da codificação de vídeo. Neste trabalho pretende-se implementar três formas\n",
    "de codificação de vídeo. Cada um destes codificadores deve ser testado com a a sequência de imagens disponibilizadas"
   ]
  },
  {
   "cell_type": "markdown",
   "id": "hollow-smoke",
   "metadata": {},
   "source": [
    "[back to index](#index)"
   ]
  }
 ],
 "metadata": {
  "kernelspec": {
   "display_name": "csm_env",
   "language": "python",
   "name": "csm_env"
  },
  "language_info": {
   "codemirror_mode": {
    "name": "ipython",
    "version": 3
   },
   "file_extension": ".py",
   "mimetype": "text/x-python",
   "name": "python",
   "nbconvert_exporter": "python",
   "pygments_lexer": "ipython3",
   "version": "3.7.7"
  }
 },
 "nbformat": 4,
 "nbformat_minor": 5
}
