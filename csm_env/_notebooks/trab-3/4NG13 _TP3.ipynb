{
 "cells": [
  {
   "cell_type": "markdown",
   "id": "convenient-listing",
   "metadata": {},
   "source": [
    "<div>\n",
    "     <div>\n",
    "        <img src=\"./report/isel_logo.png\" width=\"400\" height=\"400\" align=\"left\">\n",
    "    </div>\n",
    "    <div>\n",
    "        <h2>Área Departamental de Engenharia de Eletrónica e Telecomunicações e de Computadores</h2>\n",
    "        <p>Trabalho prático 3</p>\n",
    "        <p>Autor:\t44598\tAndré L. A. Q. de Oliveira</p>\n",
    "        <p>Unidade Curricular Compressão de Sinais Multimédia</p>\n",
    "        <p>Professor: André Lourenço</p>\n",
    "        <p>06 - Junho - 2021</p>\n",
    "    </div>\n",
    "</div>"
   ]
  },
  {
   "cell_type": "markdown",
   "id": "defined-press",
   "metadata": {},
   "source": [
    "### <a id=\"index\"></a>\n",
    "\n",
    "# Index\n",
    "- [Compressão JPEG](#compressao_jpeg)\n",
    "- [I/O Utilities](#io_utilities)\n",
    "    - [InputBitReader](#input_bit_reader)\n",
    "- [Conclusões](#conclusoes)"
   ]
  },
  {
   "cell_type": "markdown",
   "id": "composed-nerve",
   "metadata": {},
   "source": [
    "# Importar bibliotecas"
   ]
  },
  {
   "cell_type": "code",
   "execution_count": 41,
   "id": "statewide-hollywood",
   "metadata": {},
   "outputs": [],
   "source": [
    "import os\n",
    "from time import time\n",
    "import cv2\n",
    "import numpy as np\n",
    "import matplotlib.pyplot as plt\n",
    "\n",
    "cwd = os.getcwd() # current work diretory"
   ]
  },
  {
   "cell_type": "markdown",
   "id": "amino-suffering",
   "metadata": {},
   "source": [
    "# Importar dados"
   ]
  },
  {
   "cell_type": "code",
   "execution_count": 42,
   "id": "bearing-liechtenstein",
   "metadata": {},
   "outputs": [],
   "source": [
    "lena_gray = cv2.imread(f\"{cwd}/input_data/lena.tif\", cv2.IMREAD_GRAYSCALE)\n",
    "lena_color = cv2.imread(f\"{cwd}/input_data/lena.tif\")\n",
    "\n",
    "lena_block_1 = lena_gray[0:8,0:8]\n",
    "lena_block_2 = lena_gray[0:8,8:16]"
   ]
  },
  {
   "cell_type": "markdown",
   "id": "efficient-dominant",
   "metadata": {},
   "source": [
    "<a id=\"compressao_jpeg\"></a>\n",
    "\n",
    "# Compressão JPEG"
   ]
  },
  {
   "cell_type": "code",
   "execution_count": null,
   "id": "neural-duration",
   "metadata": {},
   "outputs": [],
   "source": []
  },
  {
   "cell_type": "markdown",
   "id": "accepting-giant",
   "metadata": {},
   "source": [
    "# Tabelas da norma ITU T.81 - JPEG standard"
   ]
  },
  {
   "cell_type": "code",
   "execution_count": 160,
   "id": "pregnant-cement",
   "metadata": {},
   "outputs": [],
   "source": [
    "# tabela K1 - Luminance quantize Matrix  \n",
    "Q = np.zeros((8, 8))\n",
    "Q[0] = [ 16,  11,  10,  16,  24,  40,  51,  61]\n",
    "Q[1] = [ 12,  12,  14,  19,  26,  58,  60,  55]\n",
    "Q[2] = [ 14,  13,  16,  24,  40,  57,  69,  56]\n",
    "Q[3] = [ 14,  17,  22,  29,  51,  87,  80,  62]\n",
    "Q[4] = [ 18,  22,  37,  56,  68, 109, 103,  77]\n",
    "Q[5] = [ 24,  35,  55,  64,  81, 104, 113,  92]\n",
    "Q[6] = [ 49,  64,  78,  87, 103, 121, 120, 101]\n",
    "Q[7] = [ 72,  92,  95,  98, 112, 100, 103,  99]\n",
    "\n",
    "# Tabela K3 \n",
    "# Table for luminance DC coefficient differences\n",
    "K3 = dict()\n",
    "K3[0] = \"00\"\n",
    "K3[1] = \"010\"\n",
    "K3[2] = \"011\"\n",
    "K3[3] = \"100\"\n",
    "K3[4] = \"101\"\n",
    "K3[5] = \"110\"\n",
    "K3[6] = \"1110\"\n",
    "K3[7] = \"11110\"\n",
    "K3[8] = \"111110\"\n",
    "K3[9] = \"1111110\"\n",
    "K3[10] = \"11111110\"\n",
    "K3[11] = \"111111110\"\n",
    "\n",
    "# Tabela K5 \n",
    "# Table for luminance AC coefficients\n",
    "K5 = dict()\n",
    "K5[(0, 0)] = \"1010\"\n",
    "K5[(0, 1)] = \"00\"\n",
    "K5[(0, 2)] = \"01\"\n",
    "K5[(0, 3)] = \"100\"\n",
    "K5[(0, 4)] = \"1011\"\n",
    "K5[(0, 5)] = \"11010\"\n",
    "K5[(0, 6)] = \"1111000\"\n",
    "K5[(0, 7)] = \"11111000\"\n",
    "K5[(0, 8)] = \"1111110110\"\n",
    "K5[(0, 9)] = \"1111111110000010\"\n",
    "K5[(0,10)] = \"1111111110000011\"\n",
    "\n",
    "K5[(1, 1)] = \"1100\"\n",
    "K5[(1, 2)] = \"11011\"\n",
    "K5[(1, 3)] = \"1111001\"\n",
    "K5[(1, 4)] = \"111110110\"\n",
    "K5[(1, 5)] = \"11111110110\"\n",
    "K5[(1, 6)] = \"1111111110000100\"\n",
    "K5[(1, 7)] = \"1111111110000101\"\n",
    "K5[(1, 8)] = \"1111111110000110\"\n",
    "K5[(1, 9)] = \"1111111110000111\"\n",
    "K5[(1,10)] = \"1111111110001000\"\n",
    "\n",
    "K5[(2, 1)] = \"11100\"\n",
    "K5[(2, 2)] = \"11111001\"\n",
    "K5[(2, 3)] = \"1111110111\"\n",
    "K5[(2, 4)] = \"111111110100\"\n",
    "K5[(2, 5)] = \"1111111110001001\"\n",
    "K5[(2, 6)] = \"1111111110001010\"\n",
    "K5[(2, 7)] = \"1111111110001011\"\n",
    "K5[(2, 8)] = \"1111111110001100\"\n",
    "K5[(2, 9)] = \"1111111110001101\"\n",
    "K5[(2,10)] = \"1111111110001110\"\n",
    "\n",
    "K5[(3, 1)] = \"111010\"\n",
    "K5[(3, 2)] = \"111110111\"\n",
    "K5[(3, 3)] = \"111111110101\"\n",
    "K5[(3, 4)] = \"1111111110001111\"\n",
    "K5[(3, 5)] = \"1111111110010000\"\n",
    "K5[(3, 6)] = \"1111111110010001\"\n",
    "K5[(3, 7)] = \"1111111110010010\"\n",
    "K5[(3, 8)] = \"1111111110010011\"\n",
    "K5[(3, 9)] = \"1111111110010100\"\n",
    "K5[(3,10)] = \"1111111110010101\"\n",
    "\n",
    "K5[(4, 1)] = \"111011\"\n",
    "K5[(4, 2)] = \"1111111000\"\n",
    "K5[(4, 3)] = \"1111111110010110\"\n",
    "K5[(4, 4)] = \"1111111110010111\"\n",
    "K5[(4, 5)] = \"1111111110011000\"\n",
    "K5[(4, 6)] = \"1111111110011001\"\n",
    "K5[(4, 7)] = \"1111111110011010\"\n",
    "K5[(4, 8)] = \"1111111110011011\"\n",
    "K5[(4, 9)] = \"1111111110011100\"\n",
    "K5[(4,10)] = \"1111111110011101\"\n",
    "\n",
    "K5[(5, 1)] = \"1111010\"\n",
    "K5[(5, 2)] = \"11111110111\"\n",
    "K5[(5, 3)] = \"1111111110011110\"\n",
    "K5[(5, 4)] = \"1111111110011111\"\n",
    "K5[(5, 5)] = \"1111111110100000\"\n",
    "K5[(5, 6)] = \"1111111110100001\"\n",
    "K5[(5, 7)] = \"1111111110100010\"\n",
    "K5[(5, 8)] = \"1111111110100011\"\n",
    "K5[(5, 9)] = \"1111111110100100\"\n",
    "K5[(5,10)] = \"1111111110100101\"\n",
    "\n",
    "K5[(6, 1)] = \"1111011\"\n",
    "K5[(6, 2)] = \"111111110110\"\n",
    "K5[(6, 3)] = \"1111111110100110\"\n",
    "K5[(6, 4)] = \"1111111110100111\"\n",
    "K5[(6, 5)] = \"1111111110101000\"\n",
    "K5[(6, 6)] = \"1111111110101001\"\n",
    "K5[(6, 7)] = \"1111111110101010\"\n",
    "K5[(6, 8)] = \"1111111110101011\"\n",
    "K5[(6, 9)] = \"1111111110101100\"\n",
    "K5[(6,10)] = \"1111111110101101\"\n",
    "\n",
    "K5[(7, 1)] = \"11111010\"\n",
    "K5[(7, 2)] = \"111111110111\"\n",
    "K5[(7, 3)] = \"1111111110101110\"\n",
    "K5[(7, 4)] = \"1111111110101111\"\n",
    "K5[(7, 5)] = \"1111111110110000\"\n",
    "K5[(7, 6)] = \"1111111110110001\"\n",
    "K5[(7, 7)] = \"1111111110110010\"\n",
    "K5[(7, 8)] = \"1111111110110011\"\n",
    "K5[(7, 9)] = \"1111111110110100\"\n",
    "K5[(7,10)] = \"1111111110110101\"\n",
    "\n",
    "K5[(8, 1)] = \"111111000\"\n",
    "K5[(8, 2)] = \"111111111000000\"\n",
    "K5[(8, 3)] = \"1111111110110110\"\n",
    "K5[(8, 4)] = \"1111111110110111\"\n",
    "K5[(8, 5)] = \"1111111110111000\"\n",
    "K5[(8, 6)] = \"1111111110111001\"\n",
    "K5[(8, 7)] = \"1111111110111010\"\n",
    "K5[(8, 8)] = \"1111111110111011\"\n",
    "K5[(8, 9)] = \"1111111110111100\"\n",
    "K5[(8,10)] = \"1111111110111101\"\n",
    "\n",
    "K5[(9, 1)] = \"111111001\"\n",
    "K5[(9, 2)] = \"1111111110111110\"\n",
    "K5[(9, 3)] = \"1111111110111111\"\n",
    "K5[(9, 4)] = \"1111111111000000\"\n",
    "K5[(9, 5)] = \"1111111111000001\"\n",
    "K5[(9, 6)] = \"1111111111000010\"\n",
    "K5[(9, 7)] = \"1111111111000011\"\n",
    "K5[(9, 8)] = \"1111111111000100\"\n",
    "K5[(9, 9)] = \"1111111111000101\"\n",
    "K5[(9,10)] = \"1111111111000110\"\n",
    "\n",
    "K5[(10, 1)] = \"111111010\"\n",
    "K5[(10, 2)] = \"1111111111000111\"\n",
    "K5[(10, 3)] = \"1111111111001000\"\n",
    "K5[(10, 4)] = \"1111111111001001\"\n",
    "K5[(10, 5)] = \"1111111111001010\"\n",
    "K5[(10, 6)] = \"1111111111001011\"\n",
    "K5[(10, 7)] = \"1111111111001100\"\n",
    "K5[(10, 8)] = \"1111111111001101\"\n",
    "K5[(10, 9)] = \"1111111111001110\"\n",
    "K5[(10,10)] = \"1111111111001111\"\n",
    "\n",
    "K5[(11, 1)] = \"1111111001\"\n",
    "K5[(11, 2)] = \"1111111111010000\"\n",
    "K5[(11, 3)] = \"1111111111010001\"\n",
    "K5[(11, 4)] = \"1111111111010010\"\n",
    "K5[(11, 5)] = \"1111111111010011\"\n",
    "K5[(11, 6)] = \"1111111111010100\"\n",
    "K5[(11, 7)] = \"1111111111010101\"\n",
    "K5[(11, 8)] = \"1111111111010110\"\n",
    "K5[(11, 9)] = \"1111111111010111\"\n",
    "K5[(11,10)] = \"1111111111011000\"\n",
    "\n",
    "K5[(12, 1)] = \"1111111010\"\n",
    "K5[(12, 2)] = \"1111111111011001\"\n",
    "K5[(12, 3)] = \"1111111111011010\"\n",
    "K5[(12, 4)] = \"1111111111011011\"\n",
    "K5[(12, 5)] = \"1111111111011100\"\n",
    "K5[(12, 6)] = \"1111111111011101\"\n",
    "K5[(12, 7)] = \"1111111111011110\"\n",
    "K5[(12, 8)] = \"1111111111011111\"\n",
    "K5[(12, 9)] = \"1111111111100000\"\n",
    "K5[(12,10)] = \"1111111111100001\"\n",
    "\n",
    "K5[(13, 1)] = \"11111111000\"\n",
    "K5[(13, 2)] = \"1111111111100010\"\n",
    "K5[(13, 3)] = \"1111111111100011\"\n",
    "K5[(13, 4)] = \"1111111111100100\"\n",
    "K5[(13, 5)] = \"1111111111100101\"\n",
    "K5[(13, 6)] = \"1111111111100110\"\n",
    "K5[(13, 7)] = \"1111111111100111\"\n",
    "K5[(13, 8)] = \"1111111111101000\"\n",
    "K5[(13, 9)] = \"1111111111101001\"\n",
    "K5[(13,10)] = \"1111111111101010\"\n",
    "\n",
    "K5[(14, 1)] = \"1111111111101011\"\n",
    "K5[(14, 2)] = \"1111111111101100\"\n",
    "K5[(14, 3)] = \"1111111111101101\"\n",
    "K5[(14, 4)] = \"1111111111101110\"\n",
    "K5[(14, 5)] = \"1111111111101111\"\n",
    "K5[(14, 6)] = \"1111111111110000\"\n",
    "K5[(14, 7)] = \"1111111111110001\"\n",
    "K5[(14, 8)] = \"1111111111110010\"\n",
    "K5[(14, 9)] = \"1111111111110011\"\n",
    "K5[(14,10)] = \"1111111111110100\"\n",
    "\n",
    "K5[(15, 0)] = \"11111111001\"\n",
    "K5[(15, 1)] = \"1111111111110101\"\n",
    "K5[(15, 2)] = \"1111111111110110\"\n",
    "K5[(15, 3)] = \"1111111111110111\"\n",
    "K5[(15, 4)] = \"1111111111111000\"\n",
    "K5[(15, 5)] = \"1111111111111001\"\n",
    "K5[(15, 6)] = \"1111111111111010\"\n",
    "K5[(15, 7)] = \"1111111111111011\"\n",
    "K5[(15, 8)] = \"1111111111111100\"\n",
    "K5[(15, 9)] = \"1111111111111101\"\n",
    "K5[(15,10)] = \"1111111111111110\"\n",
    "\n",
    "# ordem zig-zag \n",
    "zigzag = np.zeros((8, 8))\n",
    "zigzag[0] = [ 0,  1,  5,  6, 14, 15, 27, 28]\n",
    "zigzag[1] = [ 2,  4,  7, 13, 16, 26, 29, 42]\n",
    "zigzag[2] = [ 3,  8, 12, 17, 25, 30, 41, 43]\n",
    "zigzag[3] = [ 9, 11, 18, 24, 31, 40, 44, 53]\n",
    "zigzag[4] = [10, 19, 23, 32, 39, 45, 52, 54]\n",
    "zigzag[5] = [20, 22, 33, 38, 46, 51, 55, 60]\n",
    "zigzag[6] = [21, 34, 37, 47, 50, 56, 59, 61]\n",
    "zigzag[7] = [35, 36, 48, 49, 57, 58, 62, 63]\n",
    "ind_zz = zigzag.reshape((64),order='F').astype('int16')"
   ]
  },
  {
   "cell_type": "markdown",
   "id": "vertical-comparative",
   "metadata": {},
   "source": [
    "<a id=\"indexing_using_zigzag\"></a>\n",
    "\n",
    "## indexing_using_zigzag"
   ]
  },
  {
   "cell_type": "code",
   "execution_count": 166,
   "id": "convenient-raleigh",
   "metadata": {},
   "outputs": [],
   "source": [
    "zigzag_indexing = np.argsort(ind_zz)\n",
    "\n",
    "def indexing_using_zigzag(block, zigzag_indexing):\n",
    "    output = block.ravel()\n",
    "    return output[zigzag_indexing]"
   ]
  },
  {
   "cell_type": "code",
   "execution_count": 164,
   "id": "heard-booking",
   "metadata": {},
   "outputs": [
    {
     "name": "stdout",
     "output_type": "stream",
     "text": [
      "arr\n",
      " [[ 0  1  2  3  4  5  6  7]\n",
      " [ 8  9 10 11 12 13 14 15]\n",
      " [16 17 18 19 20 21 22 23]\n",
      " [24 25 26 27 28 29 30 31]\n",
      " [32 33 34 35 36 37 38 39]\n",
      " [40 41 42 43 44 45 46 47]\n",
      " [48 49 50 51 52 53 54 55]\n",
      " [56 57 58 59 60 61 62 63]]\n",
      "indexing [ 0  8  1  2  9 16 24 17 10  3  4 11 18 25 32 40 33 26 19 12  5  6 13 20\n",
      " 27 34 41 48 56 49 42 35 28 21 14  7 15 22 29 36 43 50 57 58 51 44 37 30\n",
      " 23 31 38 45 52 59 60 53 46 39 47 54 61 62 55 63]\n"
     ]
    }
   ],
   "source": [
    "arr = np.arange(64).reshape((8,8))\n",
    "print(\"arr\\n\", arr)\n",
    "print(\"indexing\", rearrange_using_zigzag(arr, zigzag_indexing))"
   ]
  },
  {
   "cell_type": "markdown",
   "id": "rotary-lobby",
   "metadata": {},
   "source": [
    "<a id=\"snr\"></a>\n",
    "\n",
    "## SNR\n",
    "\n",
    "A relação sinal-ruído compara o nível de um sinal desejado com o nível do ruído. Quanto mais alta for a relação sinal-ruído, menor é o efeito do ruído de fundo sobre a detecção ou medição do sinal."
   ]
  },
  {
   "cell_type": "markdown",
   "id": "fitting-skiing",
   "metadata": {},
   "source": [
    "$$ SNR(Db) = 10\\log_{10}\\left[\\frac{\\sum_{l}\\sum_{c}I_{ap}(l,c)^2}{\\sum_{l}\\sum_{c}[I_{ap}(l,c)-I_{or}(l,c)]^2}\\right] $$"
   ]
  },
  {
   "cell_type": "code",
   "execution_count": 44,
   "id": "cellular-resource",
   "metadata": {},
   "outputs": [],
   "source": [
    "def snr(I_or, I_ap):\n",
    "    Pxa = np.sum(I_ap.astype('float')**2)\n",
    "    Pe = np.sum( (I_ap.astype('float') - I_or.astype('float'))**2 )\n",
    "    return 10*np.log10(Pxa / Pe)"
   ]
  },
  {
   "cell_type": "markdown",
   "id": "ongoing-johns",
   "metadata": {},
   "source": [
    "<a id=\"quality_factor\"></a>\n",
    "\n",
    "## quality_factor\n",
    "\n",
    "Função para calcular o valor a multiplicar  a tabela K1 a partir do fator de qualidade."
   ]
  },
  {
   "cell_type": "code",
   "execution_count": 45,
   "id": "wireless-operator",
   "metadata": {},
   "outputs": [],
   "source": [
    "def quality_factor(q):\n",
    "    if(q <= 50):\n",
    "        factor = 50.0 / q\n",
    "    else:\n",
    "        factor = 2.0 - (q * 2.0)/100.0\n",
    "    return factor "
   ]
  },
  {
   "cell_type": "markdown",
   "id": "valued-finnish",
   "metadata": {},
   "source": [
    "<a id=\"io_utilities\"></a>\n",
    "\n",
    "# I/O Utilities"
   ]
  },
  {
   "cell_type": "markdown",
   "id": "recent-syria",
   "metadata": {},
   "source": [
    "<a id=\"count_bits\"></a>\n",
    "\n",
    "## count_bits\n",
    "\n",
    "Função que conta o número de bits de um número."
   ]
  },
  {
   "cell_type": "code",
   "execution_count": 124,
   "id": "armed-samuel",
   "metadata": {},
   "outputs": [],
   "source": [
    "def count_bits(number):\n",
    "     return len(bin(number)[2:])"
   ]
  },
  {
   "cell_type": "markdown",
   "id": "floral-mauritius",
   "metadata": {},
   "source": [
    "<a id=\"input_bit_reader\"></a>\n",
    "\n",
    "## InputBitReader\n",
    "\n",
    "Para realizar compressão e descompressão com eficácia, é necessesário manipular os fluxos de dados como um fluxo de bits individuais. "
   ]
  },
  {
   "cell_type": "code",
   "execution_count": 46,
   "id": "appreciated-attack",
   "metadata": {},
   "outputs": [],
   "source": [
    "class InputBitReader(object): \n",
    "    def __init__(self, bit_seq): \n",
    "        self.bit_seq = bit_seq\n",
    "        self.size = len(bit_seq)\n",
    "        self.bits_read = 0\n",
    "        self.buffer = []\n",
    "\n",
    "    def read_bit(self):\n",
    "        if self.bits_read < self.size:\n",
    "            return self.read_bits(1)[0]\n",
    "        else:\n",
    "            return None\n",
    "\n",
    "    def read_bits(self, n):\n",
    "        self.__flush()\n",
    "        if self.bits_read < self.size:\n",
    "            self.buffer = pad_bits(self.bit_seq[self.bits_read:(self.bits_read + n)], n)\n",
    "            self.bits_read += n\n",
    "        return self.buffer\n",
    "    \n",
    "    def read_byte(self):\n",
    "        if self.bits_read < self.size:\n",
    "            byte = ''.join(list(map(str, self.read_bits(8))))\n",
    "            return int(byte, 2)\n",
    "        else:\n",
    "            return None\n",
    "\n",
    "    def __flush(self):\n",
    "        self.buffer = []"
   ]
  },
  {
   "cell_type": "markdown",
   "id": "laughing-button",
   "metadata": {},
   "source": [
    "<a id=\"divide_to_blocks\"></a>\n",
    "\n",
    "## divide_to_blocks"
   ]
  },
  {
   "cell_type": "code",
   "execution_count": 47,
   "id": "verified-subdivision",
   "metadata": {},
   "outputs": [],
   "source": [
    "def divide_to_blocks(image, size):\n",
    "    output = []\n",
    "    \n",
    "    if len(image.shape) < 3: \n",
    "        width, height = image.shape\n",
    "        for lin in range(0, width, size):\n",
    "            for col in range(0, height, size):\n",
    "                output.append(image[lin:(lin+size),col:(col+size)])\n",
    "    else:\n",
    "        width, height, band = image.shape\n",
    "        for bnd in range(0, band):\n",
    "            for lin in range(0, width, size):\n",
    "                for col in range(0, height, size):\n",
    "                    output.append(image[lin:(lin+size),col:(col+size),bnd])\n",
    "                \n",
    "    return output, image.shape"
   ]
  },
  {
   "cell_type": "code",
   "execution_count": 48,
   "id": "indoor-startup",
   "metadata": {},
   "outputs": [],
   "source": [
    "lena_gray_blocks, lena_gray_shape  = divide_to_blocks(lena_gray, 8)\n",
    "lena_color_blocks, lena_color_shape = divide_to_blocks(lena_color, 8)"
   ]
  },
  {
   "cell_type": "code",
   "execution_count": 49,
   "id": "lonely-literacy",
   "metadata": {},
   "outputs": [
    {
     "name": "stdout",
     "output_type": "stream",
     "text": [
      "number of blocks for lena gray: 4096\n",
      "number of blocks for lena color: 12288\n"
     ]
    }
   ],
   "source": [
    "print(\"number of blocks for lena gray:\", len(lena_gray_blocks))\n",
    "print(\"number of blocks for lena color:\", len(lena_color_blocks))"
   ]
  },
  {
   "cell_type": "markdown",
   "id": "turned-aerospace",
   "metadata": {},
   "source": [
    "<a id=\"merge_from_blocks\"></a>\n",
    "\n",
    "## merge_from_blocks"
   ]
  },
  {
   "cell_type": "code",
   "execution_count": 50,
   "id": "sixth-bracket",
   "metadata": {},
   "outputs": [],
   "source": [
    "def merge_from_blocks(arr, shape, size):\n",
    "    output = np.zeros(shape, dtype='uint8')\n",
    "    index = 0\n",
    "    if len(shape) < 3:\n",
    "        for lin in range(0, shape[0], size):\n",
    "            for col in range(0, shape[1], size):\n",
    "                output[lin:(lin+size),col:(col+size)] = arr[index]\n",
    "                index = index + 1\n",
    "    else:\n",
    "        for bnd in range(0, shape[2]):\n",
    "            for lin in range(0, shape[0], size):\n",
    "                for col in range(0, shape[1], size):\n",
    "                    output[lin:(lin+size),col:(col+size),bnd] = arr[index]\n",
    "                    index = index + 1\n",
    "    return output"
   ]
  },
  {
   "cell_type": "code",
   "execution_count": 51,
   "id": "ethical-hacker",
   "metadata": {},
   "outputs": [],
   "source": [
    "re_lena_gray = merge_from_blocks(lena_gray_blocks, lena_gray_shape, 8)\n",
    "re_lena_color = merge_from_blocks(lena_color_blocks, lena_color_shape, 8)"
   ]
  },
  {
   "cell_type": "code",
   "execution_count": 52,
   "id": "divided-enlargement",
   "metadata": {},
   "outputs": [],
   "source": [
    "cv2.imshow(\"re_lena_gray\", re_lena_gray)\n",
    "cv2.waitKey(0)\n",
    "cv2.destroyAllWindows()\n",
    "\n",
    "cv2.imshow(\"re_lena_gray\", re_lena_color)\n",
    "cv2.waitKey(0)\n",
    "cv2.destroyAllWindows()"
   ]
  },
  {
   "cell_type": "code",
   "execution_count": 53,
   "id": "crucial-diabetes",
   "metadata": {},
   "outputs": [],
   "source": [
    "#arr[:,:,r] = [];"
   ]
  },
  {
   "cell_type": "markdown",
   "id": "remarkable-jersey",
   "metadata": {},
   "source": [
    "<a id=\"dct\"></a>\n",
    "\n",
    "# DCT"
   ]
  },
  {
   "cell_type": "markdown",
   "id": "extraordinary-softball",
   "metadata": {},
   "source": [
    "<a id=\"dct_encode\"></a>\n",
    "\n",
    "## DCT Encoder"
   ]
  },
  {
   "cell_type": "code",
   "execution_count": 54,
   "id": "similar-turtle",
   "metadata": {},
   "outputs": [],
   "source": [
    "def dct(block):\n",
    "    return cv2.dct(np.float32(block)) # float conversion"
   ]
  },
  {
   "cell_type": "code",
   "execution_count": 55,
   "id": "anonymous-shopping",
   "metadata": {},
   "outputs": [],
   "source": [
    "block_dct = []\n",
    "for i in range(len(lena_gray_blocks)):\n",
    "    block_dct.append(dct(lena_gray_blocks[i]))"
   ]
  },
  {
   "cell_type": "code",
   "execution_count": 57,
   "id": "saved-hollow",
   "metadata": {},
   "outputs": [],
   "source": [
    "re_from_dct = merge_from_blocks(block_dct, lena_gray_shape, 8)\n",
    "cv2.imshow(\"DCT\", re_from_dct)\n",
    "cv2.waitKey(0)\n",
    "cv2.destroyAllWindows()"
   ]
  },
  {
   "cell_type": "markdown",
   "id": "least-texture",
   "metadata": {},
   "source": [
    "<a id=\"dct_decoder\"></a>\n",
    "\n",
    "## DCT Decoder"
   ]
  },
  {
   "cell_type": "code",
   "execution_count": 58,
   "id": "recreational-basis",
   "metadata": {},
   "outputs": [],
   "source": [
    "def idct(block):\n",
    "    return cv2.idct(block)"
   ]
  },
  {
   "cell_type": "code",
   "execution_count": 59,
   "id": "endless-adams",
   "metadata": {},
   "outputs": [],
   "source": [
    "block_idct = []\n",
    "for i in range(len(block_dct)):\n",
    "    block_idct.append(idct(block_dct[i]))"
   ]
  },
  {
   "cell_type": "code",
   "execution_count": 60,
   "id": "underlying-diving",
   "metadata": {},
   "outputs": [],
   "source": [
    "re_from_idct = merge_from_blocks(block_idct, lena_gray_shape, 8)\n",
    "cv2.imshow(\"IDCT\", re_from_idct)\n",
    "cv2.waitKey(0)\n",
    "cv2.destroyAllWindows()"
   ]
  },
  {
   "cell_type": "markdown",
   "id": "liable-product",
   "metadata": {},
   "source": [
    "[back to index](#index)"
   ]
  },
  {
   "cell_type": "markdown",
   "id": "sixth-moore",
   "metadata": {},
   "source": [
    "<a id=\"quantificacao\"></a>\n",
    "\n",
    "# Quantificação\n",
    "\n",
    "As tabelas de quantifiacação resultam de estudos psico-visuais, com o objectivo de maximizar a taxa de compressão sem perda\n",
    "perceptiveis de qualidade."
   ]
  },
  {
   "cell_type": "markdown",
   "id": "corporate-nepal",
   "metadata": {},
   "source": [
    "<a id=\"quantific_encode\"></a>\n",
    "\n",
    "## quantific_encode"
   ]
  },
  {
   "cell_type": "code",
   "execution_count": 61,
   "id": "going-selling",
   "metadata": {},
   "outputs": [],
   "source": [
    "def quantific_encode(block, k1, q):\n",
    "    quant_block = np.zeros((8, 8))\n",
    "    factor = quality_factor(q)\n",
    "    \n",
    "    # divide by k1  and multiply by quality factor\n",
    "    for i in range(0,8):\n",
    "        quant_block[i] = np.round(block[i] / (k1[i] * factor))\n",
    "        \n",
    "    return quant_block"
   ]
  },
  {
   "cell_type": "markdown",
   "id": "contained-looking",
   "metadata": {},
   "source": [
    "<a id=\"quantific_decode\"></a>\n",
    "\n",
    "## quantific_decode"
   ]
  },
  {
   "cell_type": "code",
   "execution_count": 62,
   "id": "digital-idaho",
   "metadata": {},
   "outputs": [],
   "source": [
    "def quantific_decode(block, k1, q):\n",
    "    iquant_block = np.zeros((8, 8))\n",
    "    factor = quality_factor(q)\n",
    "    \n",
    "    # multily by k1 and divide by quality factor\n",
    "    for i in range(0,8):\n",
    "        iquant_block[i] = np.round(block[i] * (k1[i] / factor))\n",
    "        \n",
    "    return iquant_block"
   ]
  },
  {
   "cell_type": "markdown",
   "id": "portuguese-thickness",
   "metadata": {},
   "source": [
    "[back to index](#index)"
   ]
  },
  {
   "cell_type": "markdown",
   "id": "active-turtle",
   "metadata": {},
   "source": [
    "<a id=\"dpcm\"></a>\n",
    "\n",
    "# DPCM\n",
    "\n",
    "O valor do componente DC em cada bloco 8x8 é grande e varia entre os blocos, mas geralmente está próximo ao do bloco anterior.\n",
    "Differential Pulse Code Modulation (DPCM): codifica a diferença entre o bloco 8x8 atual e o anterior, resultando num número menor -> menos bits"
   ]
  },
  {
   "cell_type": "markdown",
   "id": "minor-mountain",
   "metadata": {},
   "source": [
    "<a id=\"dpcm_encode\"></a>\n",
    "\n",
    "## dpcm_encode"
   ]
  },
  {
   "cell_type": "code",
   "execution_count": 89,
   "id": "particular-basic",
   "metadata": {},
   "outputs": [],
   "source": [
    "def dpcm_encode(b1, b2):\n",
    "    return b2[i][0,0] - b1[i - 1][0,0]"
   ]
  },
  {
   "cell_type": "markdown",
   "id": "functioning-leeds",
   "metadata": {},
   "source": [
    "<a id=\"dpcm_decode\"></a>\n",
    "\n",
    "## dpcm_decode"
   ]
  },
  {
   "cell_type": "code",
   "execution_count": 122,
   "id": "micro-printer",
   "metadata": {},
   "outputs": [],
   "source": [
    "def dpcm_encode(b1, b2):\n",
    "    return b2[i][0,0] + b1[i - 1][0,0]"
   ]
  },
  {
   "cell_type": "markdown",
   "id": "negative-microphone",
   "metadata": {},
   "source": [
    "[back to index](#index)"
   ]
  },
  {
   "cell_type": "markdown",
   "id": "massive-anchor",
   "metadata": {},
   "source": [
    "<a id=\"rlc\"></a>\n",
    "\n",
    "# RLC\n",
    "\n",
    "Codificação run-length é uma forma simples de compressão sem perda de dados onde sequências longas de valores repetidos são armazenadas como um único valor e sua contagem no lugar de sua sequência original."
   ]
  },
  {
   "cell_type": "markdown",
   "id": "apart-details",
   "metadata": {},
   "source": [
    "<a id=\"rlc_encode\"></a>\n",
    "\n",
    "## rlc_encode"
   ]
  },
  {
   "cell_type": "code",
   "execution_count": 177,
   "id": "silent-preference",
   "metadata": {},
   "outputs": [],
   "source": [
    "def rlc_encode(block, zigzag_indexing):\n",
    "    # indexing using zigzag\n",
    "    zzblock = indexing_using_zigzag(block, zigzag_indexing)\n",
    "    \n",
    "    rlc = []\n",
    "    \n",
    "    zrl = 0\n",
    "    for i in range(1, len(zzblock)):\n",
    "        ac = zzblock[i]\n",
    "        if ac != 0:\n",
    "            if zrl == 0:\n",
    "                rlc.append( (zrl, ac) )\n",
    "            else:\n",
    "                rlc.append( (zrl, ac) )\n",
    "                zrl = 0\n",
    "        else:\n",
    "            zrl += 1\n",
    "            \n",
    "    return rlc"
   ]
  },
  {
   "cell_type": "code",
   "execution_count": 178,
   "id": "pressed-transmission",
   "metadata": {},
   "outputs": [
    {
     "name": "stdout",
     "output_type": "stream",
     "text": [
      "[(0, 162), (0, 162), (0, 162), (0, 162), (0, 162), (0, 162), (0, 162), (0, 162), (0, 161), (0, 162), (0, 161), (0, 162), (0, 162), (0, 162), (0, 164), (0, 162), (0, 162), (0, 161), (0, 162), (0, 157), (0, 163), (0, 157), (0, 162), (0, 161), (0, 162), (0, 164), (0, 160), (0, 159), (0, 160), (0, 158), (0, 161), (0, 162), (0, 157), (0, 163), (0, 161), (0, 161), (0, 163), (0, 157), (0, 162), (0, 155), (0, 163), (0, 159), (0, 155), (0, 158), (0, 161), (0, 157), (0, 163), (0, 161), (0, 161), (0, 163), (0, 159), (0, 160), (0, 157), (0, 158), (0, 162), (0, 159), (0, 161), (0, 160), (0, 159), (0, 159), (0, 156), (0, 156), (0, 157)]\n"
     ]
    }
   ],
   "source": [
    "def rlc_decode(rlc, zigzag_indexing):\n",
    "    \n",
    "    block = np.zeros(63)\n",
    "    for i in range(0, len(rlc)):\n",
    "        rlc[i]\n",
    "        if ac != 0:\n",
    "            if zrl == 0:\n",
    "                rlc.append( (zrl, ac) )\n",
    "            else:\n",
    "                rlc.append( (zrl, ac) )\n",
    "                zrl = 0\n",
    "        else:\n",
    "            zrl += 1\n",
    "    \n"
   ]
  },
  {
   "cell_type": "code",
   "execution_count": 183,
   "id": "other-turner",
   "metadata": {},
   "outputs": [
    {
     "name": "stdout",
     "output_type": "stream",
     "text": [
      "[[162 162 162 161 162 157 163 161]\n",
      " [162 162 162 161 162 157 163 161]\n",
      " [162 162 162 161 162 157 163 161]\n",
      " [162 162 162 161 162 157 163 161]\n",
      " [162 162 162 161 162 157 163 161]\n",
      " [164 164 158 155 161 159 159 160]\n",
      " [160 160 163 158 160 162 159 156]\n",
      " [159 159 155 157 158 159 156 157]]\n"
     ]
    },
    {
     "ename": "TypeError",
     "evalue": "'numpy.ndarray' object is not callable",
     "output_type": "error",
     "traceback": [
      "\u001b[1;31m---------------------------------------------------------------------------\u001b[0m",
      "\u001b[1;31mTypeError\u001b[0m                                 Traceback (most recent call last)",
      "\u001b[1;32m<ipython-input-183-c98f20ba81a3>\u001b[0m in \u001b[0;36m<module>\u001b[1;34m\u001b[0m\n\u001b[0;32m      1\u001b[0m \u001b[0mprint\u001b[0m\u001b[1;33m(\u001b[0m\u001b[0mlena_block_1\u001b[0m\u001b[1;33m)\u001b[0m\u001b[1;33m\u001b[0m\u001b[1;33m\u001b[0m\u001b[0m\n\u001b[1;32m----> 2\u001b[1;33m \u001b[0mdct\u001b[0m \u001b[1;33m=\u001b[0m \u001b[0mdct\u001b[0m\u001b[1;33m(\u001b[0m\u001b[0mlena_block_1\u001b[0m\u001b[1;33m)\u001b[0m\u001b[1;33m\u001b[0m\u001b[1;33m\u001b[0m\u001b[0m\n\u001b[0m\u001b[0;32m      3\u001b[0m \u001b[0mprint\u001b[0m\u001b[1;33m(\u001b[0m\u001b[0mdct\u001b[0m\u001b[1;33m)\u001b[0m\u001b[1;33m\u001b[0m\u001b[1;33m\u001b[0m\u001b[0m\n\u001b[0;32m      4\u001b[0m \u001b[0mquant\u001b[0m \u001b[1;33m=\u001b[0m \u001b[0mquantific_encode\u001b[0m\u001b[1;33m(\u001b[0m\u001b[0mdct\u001b[0m\u001b[1;33m,\u001b[0m\u001b[0mq\u001b[0m\u001b[1;33m,\u001b[0m\u001b[1;36m80\u001b[0m\u001b[1;33m)\u001b[0m\u001b[1;33m\u001b[0m\u001b[1;33m\u001b[0m\u001b[0m\n\u001b[0;32m      5\u001b[0m \u001b[0mprint\u001b[0m\u001b[1;33m(\u001b[0m\u001b[0mquant\u001b[0m\u001b[1;33m)\u001b[0m\u001b[1;33m\u001b[0m\u001b[1;33m\u001b[0m\u001b[0m\n",
      "\u001b[1;31mTypeError\u001b[0m: 'numpy.ndarray' object is not callable"
     ]
    }
   ],
   "source": [
    "print(lena_block_1)\n",
    "dct = dct(lena_block_1)\n",
    "print(dct)\n",
    "quant = quantific_encode(dct,q,80)\n",
    "print(quant)"
   ]
  },
  {
   "cell_type": "code",
   "execution_count": 173,
   "id": "breeding-expression",
   "metadata": {},
   "outputs": [
    {
     "name": "stdout",
     "output_type": "stream",
     "text": [
      "1010\n",
      "(0, 9)\n",
      "9\n",
      "1111111110000010\n"
     ]
    }
   ],
   "source": [
    "print(K5[(0,0)])\n",
    "d = (0,9)\n",
    "print(d)\n",
    "print(d[1])\n",
    "print(K5[d])"
   ]
  },
  {
   "cell_type": "code",
   "execution_count": null,
   "id": "unexpected-registrar",
   "metadata": {},
   "outputs": [],
   "source": []
  }
 ],
 "metadata": {
  "kernelspec": {
   "display_name": "csm_env",
   "language": "python",
   "name": "csm_env"
  },
  "language_info": {
   "codemirror_mode": {
    "name": "ipython",
    "version": 3
   },
   "file_extension": ".py",
   "mimetype": "text/x-python",
   "name": "python",
   "nbconvert_exporter": "python",
   "pygments_lexer": "ipython3",
   "version": "3.7.7"
  }
 },
 "nbformat": 4,
 "nbformat_minor": 5
}
