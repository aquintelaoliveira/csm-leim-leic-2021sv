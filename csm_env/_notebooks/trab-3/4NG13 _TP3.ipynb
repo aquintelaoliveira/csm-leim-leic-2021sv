{
 "cells": [
  {
   "cell_type": "markdown",
   "id": "convenient-listing",
   "metadata": {},
   "source": [
    "<div>\n",
    "     <div>\n",
    "        <img src=\"./report/isel_logo.png\" width=\"400\" height=\"400\" align=\"left\">\n",
    "    </div>\n",
    "    <div>\n",
    "        <h2>Área Departamental de Engenharia de Eletrónica e Telecomunicações e de Computadores</h2>\n",
    "        <p>Trabalho prático 3</p>\n",
    "        <p>Autor:\t44598\tAndré L. A. Q. de Oliveira</p>\n",
    "        <p>Unidade Curricular Compressão de Sinais Multimédia</p>\n",
    "        <p>Professor: André Lourenço</p>\n",
    "        <p>11 - Junho - 2021</p>\n",
    "    </div>\n",
    "</div>"
   ]
  },
  {
   "cell_type": "markdown",
   "id": "defined-press",
   "metadata": {},
   "source": [
    "### <a id=\"index\"></a>\n",
    "\n",
    "# Index\n",
    "- [Tabelas da norma ITU T.81 - JPEG standard](#ITU_T.81)\n",
    "- [Compressão](#compressao)\n",
    "    - [snr](#snr)\n",
    "- [Utilities I/O](#io_utilities)\n",
    "    - [bits_to_number](#bits_to_number)\n",
    "    - [number_to_binary_list](#number_to_binary_list)\n",
    "    - [string_to_binary_list](#string_to_binary_list)\n",
    "    - [binary_list_to_string](#pad_bits)\n",
    "    - [pad_bits](#binary_list_to_string)\n",
    "    - [InputBitReader](#input_bit_reader)\n",
    "- [JPEG - Baseline](#jpeg_baseline)\n",
    "    - [JPEG Utilities](#jpeg_utilities)\n",
    "        - [Espaço de cor JPEG](#yuv)\n",
    "        - [rgb2yuv](#rgb2yuv)\n",
    "        - [yuv2rgb](#yuv2rgb)\n",
    "        - [block_to_zigzag](#block_to_zigzag)\n",
    "        - [zigzag_to_block](#zigzag_to_block)\n",
    "        - [quality_factor](#quality_factor)\n",
    "        - [get_bits_complement](#get_bits_complement)\n",
    "        - [get_size](#get_size)\n",
    "        - [get_amplitude_from_number](#get_amplitude_from_number)\n",
    "        - [get_number_from_amplitude](#get_number_from_amplitude)\n",
    "        - [nearest_multiple](#nearest_multiple)\n",
    "        - [divide_to_blocks](#divide_to_blocks)\n",
    "        - [merge_from_blocks](#merge_from_blocks)\n",
    "    - [DCT](#dct)\n",
    "        - [dct](#dct_encode)\n",
    "        - [idct](#dct_decode)\n",
    "    - [Quantificação](#quantificacao)\n",
    "        - [quantific_encode](#quantific_encode)\n",
    "        - [quantific_decode](#quantific_decode)\n",
    "    - [DPCM](#dpcm)\n",
    "        - [dpcm_encode](#dpcm_encode)\n",
    "        - [dpcm_decode](#dpcm_decode)\n",
    "    - [RLC](#rlc)\n",
    "        - [rlc_encode](#rlc_encode)\n",
    "        - [rlc_decode](#rlc_decode)\n",
    "    -[JPEG Enconding / Decoding](#jpeg_encoding_decoding)\n",
    "        - [jpeg_encoder](#jpeg_encoder)\n",
    "        - [jpeg_decoder](#jpeg_decoder)\n",
    "- [I/O](#io)\n",
    "    - [Escrever para ficheiro](#escrever_ficheiro)\n",
    "        - [write_to_file](#write_to_file)\n",
    "    - [Ler ficheiro](#ler_ficheiro)\n",
    "        - [get_dc](#get_dc)\n",
    "        - [get_ac](#get_ac)\n",
    "        - [read_from_file](#read_from_file)\n",
    "- [Testes](#testes)\n",
    "    - [Lena Grayscale](#lena_grayscale)\n",
    "    - [Gráfico](#grafico)\n",
    "    - [Tabelas](#tabelas)\n",
    "- [Conclusões](#conclusoes)"
   ]
  },
  {
   "cell_type": "markdown",
   "id": "composed-nerve",
   "metadata": {},
   "source": [
    "# Importar bibliotecas"
   ]
  },
  {
   "cell_type": "code",
   "execution_count": 1,
   "id": "statewide-hollywood",
   "metadata": {},
   "outputs": [],
   "source": [
    "import os\n",
    "from time import time\n",
    "import cv2\n",
    "import numpy as np\n",
    "import matplotlib.pyplot as plt\n",
    "\n",
    "cwd = os.getcwd() # current work diretory"
   ]
  },
  {
   "cell_type": "markdown",
   "id": "amino-suffering",
   "metadata": {},
   "source": [
    "# Importar dados"
   ]
  },
  {
   "cell_type": "markdown",
   "id": "accepting-giant",
   "metadata": {},
   "source": [
    "<a id=\"ITU_T.81\"></a>\n",
    "\n",
    "# Tabelas da norma ITU T.81 - JPEG standard"
   ]
  },
  {
   "cell_type": "code",
   "execution_count": 2,
   "id": "limited-equilibrium",
   "metadata": {},
   "outputs": [],
   "source": [
    "lena_gray = cv2.imread(f\"{cwd}/input_data/lena.tif\", cv2.IMREAD_GRAYSCALE)\n",
    "lena_color = cv2.imread(f\"{cwd}/input_data/lena.tif\")\n",
    "\n",
    "lena_block_1 = lena_gray[0:8,0:8]\n",
    "lena_block_2 = lena_gray[0:8,8:16]\n",
    "lena_block_3 = lena_gray[0:8,16:24]"
   ]
  },
  {
   "cell_type": "code",
   "execution_count": 3,
   "id": "pregnant-cement",
   "metadata": {},
   "outputs": [],
   "source": [
    "# tabela K1 - Luminance quantize Matrix  \n",
    "K1 = np.zeros((8, 8))\n",
    "K1[0] = [ 16,  11,  10,  16,  24,  40,  51,  61]\n",
    "K1[1] = [ 12,  12,  14,  19,  26,  58,  60,  55]\n",
    "K1[2] = [ 14,  13,  16,  24,  40,  57,  69,  56]\n",
    "K1[3] = [ 14,  17,  22,  29,  51,  87,  80,  62]\n",
    "K1[4] = [ 18,  22,  37,  56,  68, 109, 103,  77]\n",
    "K1[5] = [ 24,  35,  55,  64,  81, 104, 113,  92]\n",
    "K1[6] = [ 49,  64,  78,  87, 103, 121, 120, 101]\n",
    "K1[7] = [ 72,  92,  95,  98, 112, 100, 103,  99]\n",
    "\n",
    "# Tabela K3 \n",
    "# Table for luminance DC coefficient differences\n",
    "K3 = dict()\n",
    "K3[0]  = \"00\"\n",
    "K3[1]  = \"010\"\n",
    "K3[2]  = \"011\"\n",
    "K3[3]  = \"100\"\n",
    "K3[4]  = \"101\"\n",
    "K3[5]  = \"110\"\n",
    "K3[6]  = \"1110\"\n",
    "K3[7]  = \"11110\"\n",
    "K3[8]  = \"111110\"\n",
    "K3[9]  = \"1111110\"\n",
    "K3[10] = \"11111110\"\n",
    "K3[11] = \"111111110\"\n",
    "\n",
    "# Tabela iK3 \n",
    "# Inverted Table for luminance DC coefficient differences\n",
    "iK3 = dict(map(reversed, K3.items()))\n",
    "\n",
    "# Tabela K5 \n",
    "# Table for luminance AC coefficients\n",
    "K5 = dict()\n",
    "K5[(0, 0)] = \"1010\"\n",
    "K5[(0, 1)] = \"00\"\n",
    "K5[(0, 2)] = \"01\"\n",
    "K5[(0, 3)] = \"100\"\n",
    "K5[(0, 4)] = \"1011\"\n",
    "K5[(0, 5)] = \"11010\"\n",
    "K5[(0, 6)] = \"1111000\"\n",
    "K5[(0, 7)] = \"11111000\"\n",
    "K5[(0, 8)] = \"1111110110\"\n",
    "K5[(0, 9)] = \"1111111110000010\"\n",
    "K5[(0,10)] = \"1111111110000011\"\n",
    "\n",
    "K5[(1, 1)] = \"1100\"\n",
    "K5[(1, 2)] = \"11011\"\n",
    "K5[(1, 3)] = \"1111001\"\n",
    "K5[(1, 4)] = \"111110110\"\n",
    "K5[(1, 5)] = \"11111110110\"\n",
    "K5[(1, 6)] = \"1111111110000100\"\n",
    "K5[(1, 7)] = \"1111111110000101\"\n",
    "K5[(1, 8)] = \"1111111110000110\"\n",
    "K5[(1, 9)] = \"1111111110000111\"\n",
    "K5[(1,10)] = \"1111111110001000\"\n",
    "\n",
    "K5[(2, 1)] = \"11100\"\n",
    "K5[(2, 2)] = \"11111001\"\n",
    "K5[(2, 3)] = \"1111110111\"\n",
    "K5[(2, 4)] = \"111111110100\"\n",
    "K5[(2, 5)] = \"1111111110001001\"\n",
    "K5[(2, 6)] = \"1111111110001010\"\n",
    "K5[(2, 7)] = \"1111111110001011\"\n",
    "K5[(2, 8)] = \"1111111110001100\"\n",
    "K5[(2, 9)] = \"1111111110001101\"\n",
    "K5[(2,10)] = \"1111111110001110\"\n",
    "\n",
    "K5[(3, 1)] = \"111010\"\n",
    "K5[(3, 2)] = \"111110111\"\n",
    "K5[(3, 3)] = \"111111110101\"\n",
    "K5[(3, 4)] = \"1111111110001111\"\n",
    "K5[(3, 5)] = \"1111111110010000\"\n",
    "K5[(3, 6)] = \"1111111110010001\"\n",
    "K5[(3, 7)] = \"1111111110010010\"\n",
    "K5[(3, 8)] = \"1111111110010011\"\n",
    "K5[(3, 9)] = \"1111111110010100\"\n",
    "K5[(3,10)] = \"1111111110010101\"\n",
    "\n",
    "K5[(4, 1)] = \"111011\"\n",
    "K5[(4, 2)] = \"1111111000\"\n",
    "K5[(4, 3)] = \"1111111110010110\"\n",
    "K5[(4, 4)] = \"1111111110010111\"\n",
    "K5[(4, 5)] = \"1111111110011000\"\n",
    "K5[(4, 6)] = \"1111111110011001\"\n",
    "K5[(4, 7)] = \"1111111110011010\"\n",
    "K5[(4, 8)] = \"1111111110011011\"\n",
    "K5[(4, 9)] = \"1111111110011100\"\n",
    "K5[(4,10)] = \"1111111110011101\"\n",
    "\n",
    "K5[(5, 1)] = \"1111010\"\n",
    "K5[(5, 2)] = \"11111110111\"\n",
    "K5[(5, 3)] = \"1111111110011110\"\n",
    "K5[(5, 4)] = \"1111111110011111\"\n",
    "K5[(5, 5)] = \"1111111110100000\"\n",
    "K5[(5, 6)] = \"1111111110100001\"\n",
    "K5[(5, 7)] = \"1111111110100010\"\n",
    "K5[(5, 8)] = \"1111111110100011\"\n",
    "K5[(5, 9)] = \"1111111110100100\"\n",
    "K5[(5,10)] = \"1111111110100101\"\n",
    "\n",
    "K5[(6, 1)] = \"1111011\"\n",
    "K5[(6, 2)] = \"111111110110\"\n",
    "K5[(6, 3)] = \"1111111110100110\"\n",
    "K5[(6, 4)] = \"1111111110100111\"\n",
    "K5[(6, 5)] = \"1111111110101000\"\n",
    "K5[(6, 6)] = \"1111111110101001\"\n",
    "K5[(6, 7)] = \"1111111110101010\"\n",
    "K5[(6, 8)] = \"1111111110101011\"\n",
    "K5[(6, 9)] = \"1111111110101100\"\n",
    "K5[(6,10)] = \"1111111110101101\"\n",
    "\n",
    "K5[(7, 1)] = \"11111010\"\n",
    "K5[(7, 2)] = \"111111110111\"\n",
    "K5[(7, 3)] = \"1111111110101110\"\n",
    "K5[(7, 4)] = \"1111111110101111\"\n",
    "K5[(7, 5)] = \"1111111110110000\"\n",
    "K5[(7, 6)] = \"1111111110110001\"\n",
    "K5[(7, 7)] = \"1111111110110010\"\n",
    "K5[(7, 8)] = \"1111111110110011\"\n",
    "K5[(7, 9)] = \"1111111110110100\"\n",
    "K5[(7,10)] = \"1111111110110101\"\n",
    "\n",
    "K5[(8, 1)] = \"111111000\"\n",
    "K5[(8, 2)] = \"111111111000000\"\n",
    "K5[(8, 3)] = \"1111111110110110\"\n",
    "K5[(8, 4)] = \"1111111110110111\"\n",
    "K5[(8, 5)] = \"1111111110111000\"\n",
    "K5[(8, 6)] = \"1111111110111001\"\n",
    "K5[(8, 7)] = \"1111111110111010\"\n",
    "K5[(8, 8)] = \"1111111110111011\"\n",
    "K5[(8, 9)] = \"1111111110111100\"\n",
    "K5[(8,10)] = \"1111111110111101\"\n",
    "\n",
    "K5[(9, 1)] = \"111111001\"\n",
    "K5[(9, 2)] = \"1111111110111110\"\n",
    "K5[(9, 3)] = \"1111111110111111\"\n",
    "K5[(9, 4)] = \"1111111111000000\"\n",
    "K5[(9, 5)] = \"1111111111000001\"\n",
    "K5[(9, 6)] = \"1111111111000010\"\n",
    "K5[(9, 7)] = \"1111111111000011\"\n",
    "K5[(9, 8)] = \"1111111111000100\"\n",
    "K5[(9, 9)] = \"1111111111000101\"\n",
    "K5[(9,10)] = \"1111111111000110\"\n",
    "\n",
    "K5[(10, 1)] = \"111111010\"\n",
    "K5[(10, 2)] = \"1111111111000111\"\n",
    "K5[(10, 3)] = \"1111111111001000\"\n",
    "K5[(10, 4)] = \"1111111111001001\"\n",
    "K5[(10, 5)] = \"1111111111001010\"\n",
    "K5[(10, 6)] = \"1111111111001011\"\n",
    "K5[(10, 7)] = \"1111111111001100\"\n",
    "K5[(10, 8)] = \"1111111111001101\"\n",
    "K5[(10, 9)] = \"1111111111001110\"\n",
    "K5[(10,10)] = \"1111111111001111\"\n",
    "\n",
    "K5[(11, 1)] = \"1111111001\"\n",
    "K5[(11, 2)] = \"1111111111010000\"\n",
    "K5[(11, 3)] = \"1111111111010001\"\n",
    "K5[(11, 4)] = \"1111111111010010\"\n",
    "K5[(11, 5)] = \"1111111111010011\"\n",
    "K5[(11, 6)] = \"1111111111010100\"\n",
    "K5[(11, 7)] = \"1111111111010101\"\n",
    "K5[(11, 8)] = \"1111111111010110\"\n",
    "K5[(11, 9)] = \"1111111111010111\"\n",
    "K5[(11,10)] = \"1111111111011000\"\n",
    "\n",
    "K5[(12, 1)] = \"1111111010\"\n",
    "K5[(12, 2)] = \"1111111111011001\"\n",
    "K5[(12, 3)] = \"1111111111011010\"\n",
    "K5[(12, 4)] = \"1111111111011011\"\n",
    "K5[(12, 5)] = \"1111111111011100\"\n",
    "K5[(12, 6)] = \"1111111111011101\"\n",
    "K5[(12, 7)] = \"1111111111011110\"\n",
    "K5[(12, 8)] = \"1111111111011111\"\n",
    "K5[(12, 9)] = \"1111111111100000\"\n",
    "K5[(12,10)] = \"1111111111100001\"\n",
    "\n",
    "K5[(13, 1)] = \"11111111000\"\n",
    "K5[(13, 2)] = \"1111111111100010\"\n",
    "K5[(13, 3)] = \"1111111111100011\"\n",
    "K5[(13, 4)] = \"1111111111100100\"\n",
    "K5[(13, 5)] = \"1111111111100101\"\n",
    "K5[(13, 6)] = \"1111111111100110\"\n",
    "K5[(13, 7)] = \"1111111111100111\"\n",
    "K5[(13, 8)] = \"1111111111101000\"\n",
    "K5[(13, 9)] = \"1111111111101001\"\n",
    "K5[(13,10)] = \"1111111111101010\"\n",
    "\n",
    "K5[(14, 1)] = \"1111111111101011\"\n",
    "K5[(14, 2)] = \"1111111111101100\"\n",
    "K5[(14, 3)] = \"1111111111101101\"\n",
    "K5[(14, 4)] = \"1111111111101110\"\n",
    "K5[(14, 5)] = \"1111111111101111\"\n",
    "K5[(14, 6)] = \"1111111111110000\"\n",
    "K5[(14, 7)] = \"1111111111110001\"\n",
    "K5[(14, 8)] = \"1111111111110010\"\n",
    "K5[(14, 9)] = \"1111111111110011\"\n",
    "K5[(14,10)] = \"1111111111110100\"\n",
    "\n",
    "K5[(15, 0)] = \"11111111001\"\n",
    "K5[(15, 1)] = \"1111111111110101\"\n",
    "K5[(15, 2)] = \"1111111111110110\"\n",
    "K5[(15, 3)] = \"1111111111110111\"\n",
    "K5[(15, 4)] = \"1111111111111000\"\n",
    "K5[(15, 5)] = \"1111111111111001\"\n",
    "K5[(15, 6)] = \"1111111111111010\"\n",
    "K5[(15, 7)] = \"1111111111111011\"\n",
    "K5[(15, 8)] = \"1111111111111100\"\n",
    "K5[(15, 9)] = \"1111111111111101\"\n",
    "K5[(15,10)] = \"1111111111111110\"\n",
    "\n",
    "# Tabela iK5 \n",
    "# Inverted Table for luminance AC coefficients\n",
    "iK5 = dict(map(reversed, K5.items()))\n",
    "\n",
    "# ordem zig-zag \n",
    "zigzag = np.zeros((8, 8))\n",
    "zigzag[0] = [ 0,  1,  5,  6, 14, 15, 27, 28]\n",
    "zigzag[1] = [ 2,  4,  7, 13, 16, 26, 29, 42]\n",
    "zigzag[2] = [ 3,  8, 12, 17, 25, 30, 41, 43]\n",
    "zigzag[3] = [ 9, 11, 18, 24, 31, 40, 44, 53]\n",
    "zigzag[4] = [10, 19, 23, 32, 39, 45, 52, 54]\n",
    "zigzag[5] = [20, 22, 33, 38, 46, 51, 55, 60]\n",
    "zigzag[6] = [21, 34, 37, 47, 50, 56, 59, 61]\n",
    "zigzag[7] = [35, 36, 48, 49, 57, 58, 62, 63]\n",
    "ind_zz = zigzag.reshape((64),order='F').astype('int16')\n",
    "ind_zz_r = zigzag.reshape((64)).astype('int16')\n",
    "\n",
    "ind_zz_index = np.argsort(ind_zz)"
   ]
  },
  {
   "cell_type": "markdown",
   "id": "simplified-power",
   "metadata": {},
   "source": [
    "[back to index](#index)"
   ]
  },
  {
   "cell_type": "markdown",
   "id": "unauthorized-coral",
   "metadata": {},
   "source": [
    "<a id=\"compressao\"></a>\n",
    "\n",
    "# Compressão"
   ]
  },
  {
   "cell_type": "markdown",
   "id": "binary-direction",
   "metadata": {},
   "source": [
    "A taxa de compressão pode ser cáculada atrás da seguinte expressão matemática:\n",
    "\n",
    "$$ T_c = \\frac{D_o}{D_c} $$"
   ]
  },
  {
   "cell_type": "markdown",
   "id": "rotary-lobby",
   "metadata": {},
   "source": [
    "<a id=\"snr\"></a>\n",
    "\n",
    "## snr\n",
    "\n",
    "A relação sinal-ruído compara o nível de um sinal desejado com o nível do ruído. Quanto mais alta for a relação sinal-ruído, menor é o efeito do ruído de fundo sobre a detecção ou medição do sinal."
   ]
  },
  {
   "cell_type": "markdown",
   "id": "fitting-skiing",
   "metadata": {},
   "source": [
    "$$ SNR(Db) = 10\\log_{10}\\left[\\frac{\\sum_{l}\\sum_{c}I_{ap}(l,c)^2}{\\sum_{l}\\sum_{c}[I_{ap}(l,c)-I_{or}(l,c)]^2}\\right] $$"
   ]
  },
  {
   "cell_type": "code",
   "execution_count": 4,
   "id": "cellular-resource",
   "metadata": {},
   "outputs": [],
   "source": [
    "def snr(I_or, I_ap):\n",
    "    Pxa = np.sum(I_ap.astype('float')**2)\n",
    "    Pe = np.sum( (I_ap.astype('float') - I_or.astype('float'))**2 )\n",
    "    return 10 * np.log10(Pxa / Pe)"
   ]
  },
  {
   "cell_type": "markdown",
   "id": "fiscal-punch",
   "metadata": {},
   "source": [
    "[back to index](#index)"
   ]
  },
  {
   "cell_type": "markdown",
   "id": "valued-finnish",
   "metadata": {},
   "source": [
    "<a id=\"io_utilities\"></a>\n",
    "\n",
    "# I/O Utilities"
   ]
  },
  {
   "cell_type": "markdown",
   "id": "measured-joining",
   "metadata": {},
   "source": [
    "<a id=\"bits_to_number\"></a>\n",
    "\n",
    "## bits_to_number\n",
    "\n",
    "Converte uma string the bits para um número inteiro."
   ]
  },
  {
   "cell_type": "code",
   "execution_count": 5,
   "id": "combined-truth",
   "metadata": {},
   "outputs": [],
   "source": [
    "def bits_to_number(bits):\n",
    "    return int(bits, 2)"
   ]
  },
  {
   "cell_type": "markdown",
   "id": "republican-aspect",
   "metadata": {},
   "source": [
    "<a id=\"number_to_binary_list\"></a>\n",
    "\n",
    "## number_to_binary_list\n",
    "\n",
    "Converte um número inteiro na menor sequência de bits que o representa."
   ]
  },
  {
   "cell_type": "code",
   "execution_count": 6,
   "id": "black-postage",
   "metadata": {},
   "outputs": [],
   "source": [
    "def number_to_binary_list(n):\n",
    "    # convert integer into a list of bits\n",
    "    return [n] if (n <= 1) else number_to_binary_list(n >> 1) + [n & 1]"
   ]
  },
  {
   "cell_type": "markdown",
   "id": "appreciated-chance",
   "metadata": {},
   "source": [
    "<a id=\"string_to_binary_list\"></a>\n",
    "\n",
    "## string_to_binary_list\n",
    "\n",
    "Converte uma string de bits para uma lista binária."
   ]
  },
  {
   "cell_type": "code",
   "execution_count": 7,
   "id": "monthly-reverse",
   "metadata": {},
   "outputs": [],
   "source": [
    "def string_to_binary_list(message):    \n",
    "    return list(map(int, message))"
   ]
  },
  {
   "cell_type": "markdown",
   "id": "seeing-adrian",
   "metadata": {},
   "source": [
    "<a id=\"binary_list_to_string\"></a>\n",
    "\n",
    "## binary_list_to_string\n",
    "\n",
    "Converte uma lista binária para uma string de bits."
   ]
  },
  {
   "cell_type": "code",
   "execution_count": 8,
   "id": "martial-plate",
   "metadata": {},
   "outputs": [],
   "source": [
    "def binary_list_to_string(arr):\n",
    "    return ''.join(list(map(str,arr)))"
   ]
  },
  {
   "cell_type": "markdown",
   "id": "outside-spank",
   "metadata": {},
   "source": [
    "<a id=\"pad_bits\"></a>\n",
    "\n",
    "## pad_bits\n",
    "\n",
    "Extende o número de zeros a uma sequência de bits, para permitir codificação de tamanho fixo. Os zeros são adicionados nas posições de bit mais significantes"
   ]
  },
  {
   "cell_type": "code",
   "execution_count": 9,
   "id": "optimum-carrier",
   "metadata": {},
   "outputs": [],
   "source": [
    "def pad_bits(bits, n):\n",
    "    # prefix string of bits with enough zeros to reach n digits\n",
    "    if isinstance(bits, np.ndarray):\n",
    "        if(n - len(bits) > 0):\n",
    "            return np.pad(bits, (n - len(bits), 0))\n",
    "        else:\n",
    "            return bits\n",
    "    else:\n",
    "        return ([0] * (n - len(bits)) + bits)"
   ]
  },
  {
   "cell_type": "markdown",
   "id": "floral-mauritius",
   "metadata": {},
   "source": [
    "<a id=\"input_bit_reader\"></a>\n",
    "\n",
    "## InputBitReader\n",
    "\n",
    "Para realizar compressão e descompressão com eficácia, é necessesário manipular os fluxos de dados como um fluxo de bits individuais.\n",
    "\n",
    "A classe InputBitReader permite uma fácil leitura de de uma sequência de bits bit a bit.\n",
    "* **read_bit:** retorna o próximo bit\n",
    "* **read_bits(n):** retorna os próximos **n** bits\n",
    "* **read_byte(n):** retorna o próximo byte\n",
    "* **has_next**: indica se ainda existem bits da sequência que não foram lidos"
   ]
  },
  {
   "cell_type": "code",
   "execution_count": 10,
   "id": "appreciated-attack",
   "metadata": {},
   "outputs": [],
   "source": [
    "class InputBitReader(object): \n",
    "    def __init__(self, bit_seq): \n",
    "        self.bit_seq = bit_seq\n",
    "        self.size = len(bit_seq)\n",
    "        self.bits_read = 0\n",
    "        self.buffer = []\n",
    "\n",
    "    def read_bit(self):\n",
    "        if self.bits_read < self.size:\n",
    "            return self.read_bits(1)[0]\n",
    "        else:\n",
    "            return None\n",
    "\n",
    "    def read_bits(self, n):\n",
    "        self.__flush()\n",
    "        if self.bits_read < self.size:\n",
    "            self.buffer = self.bit_seq[self.bits_read:(self.bits_read + n)]\n",
    "            self.bits_read += n\n",
    "        return self.buffer\n",
    "    \n",
    "    def read_byte(self):\n",
    "        if self.bits_read < self.size:\n",
    "            byte = ''.join(list(map(str, self.read_bits(8))))\n",
    "            return int(byte, 2)\n",
    "        else:\n",
    "            return None\n",
    "        \n",
    "    def has_next(self):\n",
    "        return (self.size - self.bits_read) > 0\n",
    "\n",
    "    def __flush(self):\n",
    "        self.buffer = []"
   ]
  },
  {
   "cell_type": "markdown",
   "id": "painted-davis",
   "metadata": {},
   "source": [
    "[back to index](#index)"
   ]
  },
  {
   "cell_type": "markdown",
   "id": "corrected-movement",
   "metadata": {},
   "source": [
    "<a id=\"jpeg_baseline\"></a>\n",
    "\n",
    "# JPEG - Baseline\n",
    "\n",
    "A compressão Baseline JPEG utiliza um algoritmo de compressão JPEG que começará a exibir a imagem conforme os dados são disponibilizados, linha por linha. \n",
    "\n",
    "Num browser, as imagens JPEG seriam exibidas sequêncialmente, linha a linha, como demonstra a imagem seguinte.\n",
    "\n",
    "![Baseline-Example](./report/Baseline-Example.jpg)"
   ]
  },
  {
   "cell_type": "markdown",
   "id": "apparent-whole",
   "metadata": {},
   "source": [
    "<a id=\"yuv\"></a>\n",
    "\n",
    "### Espaço de cor JPEG\n",
    "\n",
    "A grande maioria das implementações do algorítmo JPEG usam luminância e crominância (codificação YUV) em vez de RGB. Como olho humano não conseguir destinguir mudanças de brilho de alta frequência numa área pequena, é possível então reduzir a quantidade de frequência de uma imagem, resultando em uma imagem altamente compactada com quase nenhuma redução visível na qualidade.\n",
    "\n",
    "Assim como cada pixel no espaço de cores RGB é composto de 3 bytes de dados de cores (vermelho, verde, azul), cada pixel em YUV também usa 3 bytes, mas o que cada byte representa é ligeiramente diferente. O componente Y determina o brilho da cor (luminância), enquanto os componentes U e V determinam a cor (crominância). O componente U refere-se à quantidade da cor azul e o componente V refere-se à quantidade da cor vermelha."
   ]
  },
  {
   "cell_type": "markdown",
   "id": "configured-process",
   "metadata": {},
   "source": [
    "<a id=\"rgb2yuv\"></a>\n",
    "\n",
    "### rgb2yuv\n",
    "\n",
    "Converte uma imagem do espaço de cores RGB para YUV."
   ]
  },
  {
   "cell_type": "code",
   "execution_count": 11,
   "id": "authorized-maria",
   "metadata": {},
   "outputs": [],
   "source": [
    "def rgb2yuv(image):\n",
    "    return cv2.cvtColor(image, cv2.COLOR_RGB2YUV)"
   ]
  },
  {
   "cell_type": "markdown",
   "id": "mysterious-musician",
   "metadata": {},
   "source": [
    "<a id=\"yuv2rgb\"></a>\n",
    "\n",
    "### yuv2rgb\n",
    "\n",
    "Converte uma imagem do espaço de cores UYV para RGB."
   ]
  },
  {
   "cell_type": "code",
   "execution_count": 12,
   "id": "bored-triangle",
   "metadata": {},
   "outputs": [],
   "source": [
    "def yuv2rgb(image):\n",
    "    return cv2.cvtColor(image, cv2.COLOR_YUV2RGB) "
   ]
  },
  {
   "cell_type": "markdown",
   "id": "adverse-equity",
   "metadata": {},
   "source": [
    "[back to index](#index)"
   ]
  },
  {
   "cell_type": "markdown",
   "id": "vertical-comparative",
   "metadata": {},
   "source": [
    "<a id=\"block_to_zigzag\"></a>\n",
    "\n",
    "### block_to_zigzag\n",
    "\n",
    "Converte um block de 8x8 para um array com uma ordenação zigzag."
   ]
  },
  {
   "cell_type": "code",
   "execution_count": 13,
   "id": "sustainable-middle",
   "metadata": {},
   "outputs": [],
   "source": [
    "def block_to_zigzag(block, ind_zz_index):\n",
    "    output = block.reshape((64),order='F').astype('int16')\n",
    "    return output[ind_zz_index]"
   ]
  },
  {
   "cell_type": "markdown",
   "id": "bright-array",
   "metadata": {},
   "source": [
    "<a id=\"zigzag_to_block\"></a>\n",
    "\n",
    "### zigzag_to_block\n",
    "\n",
    "Converte um array com uma ordenação zigzag para um block de 8x8."
   ]
  },
  {
   "cell_type": "code",
   "execution_count": 14,
   "id": "convenient-raleigh",
   "metadata": {},
   "outputs": [],
   "source": [
    "def zigzag_to_block(zigzag, ind_zz_r):\n",
    "    output = zigzag[ind_zz_r]\n",
    "    return output.reshape((8,8),order='C').astype('int16')"
   ]
  },
  {
   "cell_type": "code",
   "execution_count": 15,
   "id": "heard-booking",
   "metadata": {},
   "outputs": [
    {
     "name": "stdout",
     "output_type": "stream",
     "text": [
      "block\n",
      " [[ 0  1  2  3  4  5  6  7]\n",
      " [ 8  9 10 11 12 13 14 15]\n",
      " [16 17 18 19 20 21 22 23]\n",
      " [24 25 26 27 28 29 30 31]\n",
      " [32 33 34 35 36 37 38 39]\n",
      " [40 41 42 43 44 45 46 47]\n",
      " [48 49 50 51 52 53 54 55]\n",
      " [56 57 58 59 60 61 62 63]] \n",
      "\n",
      "block to zigzag\n",
      " [ 0  1  8 16  9  2  3 10 17 24 32 25 18 11  4  5 12 19 26 33 40 48 41 34\n",
      " 27 20 13  6  7 14 21 28 35 42 49 56 57 50 43 36 29 22 15 23 30 37 44 51\n",
      " 58 59 52 45 38 31 39 46 53 60 61 54 47 55 62 63] \n",
      "\n",
      "zigzag to block\n",
      " [[ 0  1  2  3  4  5  6  7]\n",
      " [ 8  9 10 11 12 13 14 15]\n",
      " [16 17 18 19 20 21 22 23]\n",
      " [24 25 26 27 28 29 30 31]\n",
      " [32 33 34 35 36 37 38 39]\n",
      " [40 41 42 43 44 45 46 47]\n",
      " [48 49 50 51 52 53 54 55]\n",
      " [56 57 58 59 60 61 62 63]] \n",
      "\n"
     ]
    }
   ],
   "source": [
    "arr1 = np.arange(64).reshape((8,8))\n",
    "print(\"block\\n\", arr1, \"\\n\")\n",
    "arr2 = block_to_zigzag(arr1, ind_zz_index)\n",
    "print(\"block to zigzag\\n\", arr2,\"\\n\")\n",
    "arr3 = zigzag_to_block(arr2, ind_zz_r)\n",
    "print(\"zigzag to block\\n\", arr3,\"\\n\")"
   ]
  },
  {
   "cell_type": "markdown",
   "id": "essential-locking",
   "metadata": {},
   "source": [
    "[back to index](#index)"
   ]
  },
  {
   "cell_type": "markdown",
   "id": "ongoing-johns",
   "metadata": {},
   "source": [
    "<a id=\"quality_factor\"></a>\n",
    "\n",
    "### quality_factor\n",
    "\n",
    "Função para calcular o valor a multiplicar  a tabela K1 a partir do fator de qualidade."
   ]
  },
  {
   "cell_type": "code",
   "execution_count": 16,
   "id": "wireless-operator",
   "metadata": {},
   "outputs": [],
   "source": [
    "def quality_factor(q):\n",
    "    if(q <= 50):\n",
    "        factor = 50.0 / q\n",
    "    else:\n",
    "        factor = 2.0 - (q * 2.0)/100.0\n",
    "    return factor "
   ]
  },
  {
   "cell_type": "code",
   "execution_count": 17,
   "id": "innovative-blackjack",
   "metadata": {},
   "outputs": [
    {
     "name": "stdout",
     "output_type": "stream",
     "text": [
      "quality_factor(1):   50.0\n",
      "quality_factor(10):  5.0\n",
      "quality_factor(20):  2.5\n",
      "quality_factor(30):  1.7\n",
      "quality_factor(40):  1.2\n",
      "quality_factor(50):  1.0\n",
      "quality_factor(60):  0.8\n",
      "quality_factor(70):  0.6\n",
      "quality_factor(80):  0.4\n",
      "quality_factor(90):  0.2\n",
      "quality_factor(100): 0.0\n"
     ]
    }
   ],
   "source": [
    "print(f\"quality_factor({1}):   {quality_factor(1)}\")\n",
    "for q in range(10, 100, 10):\n",
    "    print(f\"quality_factor({q}):  {round(quality_factor(q), 1)}\")\n",
    "print(f\"quality_factor({100}): {quality_factor(100)}\")"
   ]
  },
  {
   "cell_type": "markdown",
   "id": "academic-canon",
   "metadata": {},
   "source": [
    "[back to index](#index)"
   ]
  },
  {
   "cell_type": "markdown",
   "id": "recent-syria",
   "metadata": {},
   "source": [
    "<a id=\"get_size\"></a>\n",
    "\n",
    "### get_size\n",
    "\n",
    "Função que conta o número de bits necessário para armazenar um número."
   ]
  },
  {
   "cell_type": "code",
   "execution_count": 18,
   "id": "armed-samuel",
   "metadata": {},
   "outputs": [],
   "source": [
    "def get_size(number):\n",
    "    if number == 0:\n",
    "        return 0\n",
    "    if number >= -1 and number <= 1:\n",
    "        return 1\n",
    "    if number >= -3 and number <= 3:\n",
    "        return 2\n",
    "    if number >= -7 and number <= 7:\n",
    "        return 3\n",
    "    if number >= -15 and number <= 15:\n",
    "        return 4\n",
    "    if number >= -31 and number <= 31:\n",
    "        return 5\n",
    "    if number >= -63 and number <= 63:\n",
    "        return 6\n",
    "    if number >= -127 and number <= 127:\n",
    "        return 7\n",
    "    if number >= -255 and number <= 255:\n",
    "        return 8\n",
    "    if number >= -511 and number <= 511:\n",
    "        return 9\n",
    "    if number >= -1023 and number <= 1023:\n",
    "        return 10"
   ]
  },
  {
   "cell_type": "code",
   "execution_count": 19,
   "id": "terminal-provider",
   "metadata": {},
   "outputs": [
    {
     "name": "stdout",
     "output_type": "stream",
     "text": [
      "get_size(80) -> 7\n",
      "get_size(3)  -> 2\n",
      "get_size(0)  -> 0\n"
     ]
    }
   ],
   "source": [
    "print(f\"get_size(80) -> {get_size(80)}\")\n",
    "print(f\"get_size(3)  -> {get_size(3)}\")\n",
    "print(f\"get_size(0)  -> {get_size(0)}\")"
   ]
  },
  {
   "cell_type": "markdown",
   "id": "little-italian",
   "metadata": {},
   "source": [
    "<a id=\"get_bits_complement\"></a>\n",
    "\n",
    "### get_bits_complement\n",
    "\n",
    "Realizada o complemento de 1 para uma string de números binários."
   ]
  },
  {
   "cell_type": "code",
   "execution_count": 20,
   "id": "apart-african",
   "metadata": {},
   "outputs": [],
   "source": [
    "def get_bits_complement(bit_string):\n",
    "    return bit_string.replace('1','2').replace('0','1').replace('2','0')"
   ]
  },
  {
   "cell_type": "markdown",
   "id": "statewide-willow",
   "metadata": {},
   "source": [
    "<a id=\"get_amplitude_from_number\"></a>\n",
    "\n",
    "### get_amplitude_from_number\n",
    "\n",
    "Converte um número inteiro para amplitude."
   ]
  },
  {
   "cell_type": "code",
   "execution_count": 21,
   "id": "direct-exchange",
   "metadata": {},
   "outputs": [],
   "source": [
    "def get_amplitude_from_number(number):\n",
    "    if number == 0:\n",
    "        return None\n",
    "    elif number < 0:\n",
    "        bits = \"{0:b}\".format(-1 * number)\n",
    "        return get_bits_complement(bits)\n",
    "    else:\n",
    "        return \"{0:b}\".format(number)"
   ]
  },
  {
   "cell_type": "code",
   "execution_count": 22,
   "id": "complicated-asian",
   "metadata": {},
   "outputs": [
    {
     "name": "stdout",
     "output_type": "stream",
     "text": [
      "get_amplitude_from_number(80) ->  1010000\n",
      "get_amplitude_from_number(0)  ->  None\n",
      "get_amplitude_from_number(-1) ->  0\n",
      "get_amplitude_from_number(-2) ->  01\n",
      "get_amplitude_from_number(-3) ->  00\n"
     ]
    }
   ],
   "source": [
    "print(\"get_amplitude_from_number(80) -> \", get_amplitude_from_number(80))\n",
    "print(\"get_amplitude_from_number(0)  -> \", get_amplitude_from_number(0))\n",
    "print(\"get_amplitude_from_number(-1) -> \", get_amplitude_from_number(-1))\n",
    "print(\"get_amplitude_from_number(-2) -> \", get_amplitude_from_number(-2))\n",
    "print(\"get_amplitude_from_number(-3) -> \", get_amplitude_from_number(-3))"
   ]
  },
  {
   "cell_type": "markdown",
   "id": "confident-mandate",
   "metadata": {},
   "source": [
    "<a id=\"get_number_from_amplitude\"></a>\n",
    "\n",
    "### get_number_from_amplitude\n",
    "\n",
    "Converte amplitude para um número inteiro."
   ]
  },
  {
   "cell_type": "code",
   "execution_count": 23,
   "id": "demonstrated-olive",
   "metadata": {},
   "outputs": [],
   "source": [
    "def get_number_from_amplitude(amplitude):\n",
    "    if amplitude[0] == \"0\":\n",
    "        return -1 * int(get_bits_complement(amplitude), 2) \n",
    "    else:\n",
    "        return int(amplitude, 2)"
   ]
  },
  {
   "cell_type": "code",
   "execution_count": 24,
   "id": "fixed-round",
   "metadata": {},
   "outputs": [
    {
     "name": "stdout",
     "output_type": "stream",
     "text": [
      "get_number_from_amplitude(1010000) ->  80\n",
      "get_number_from_amplitude('0')     ->  -1\n",
      "get_number_from_amplitude('01')    ->  -2\n",
      "get_number_from_amplitude('00')    ->  -3\n"
     ]
    }
   ],
   "source": [
    "print(\"get_number_from_amplitude(1010000) -> \", get_number_from_amplitude('1010000'))\n",
    "print(\"get_number_from_amplitude('0')     -> \", get_number_from_amplitude('0'))\n",
    "print(\"get_number_from_amplitude('01')    -> \", get_number_from_amplitude('01'))\n",
    "print(\"get_number_from_amplitude('00')    -> \", get_number_from_amplitude('00'))"
   ]
  },
  {
   "cell_type": "markdown",
   "id": "worthy-information",
   "metadata": {},
   "source": [
    "[back to index](#index)"
   ]
  },
  {
   "cell_type": "markdown",
   "id": "authorized-transfer",
   "metadata": {},
   "source": [
    "<a id=\"nearest_multiple\"></a>\n",
    "\n",
    "### nearest_multiple\n",
    "\n",
    "Retorna o múltiplo **base** mais próximo do número **number**."
   ]
  },
  {
   "cell_type": "code",
   "execution_count": 25,
   "id": "sunset-bacteria",
   "metadata": {},
   "outputs": [],
   "source": [
    "def nearest_multiple(number,base):\n",
    "    return ( base * round(number / base) )"
   ]
  },
  {
   "cell_type": "markdown",
   "id": "laughing-button",
   "metadata": {},
   "source": [
    "<a id=\"divide_to_blocks\"></a>\n",
    "\n",
    "### divide_to_blocks\n",
    "\n",
    "Divide uma imagem em array de blocos de tamnho size x size."
   ]
  },
  {
   "cell_type": "code",
   "execution_count": 26,
   "id": "verified-subdivision",
   "metadata": {},
   "outputs": [],
   "source": [
    "def divide_to_blocks(image, size):\n",
    "    output = []\n",
    "    \n",
    "    if len(image.shape) < 3: \n",
    "        width, height = image.shape\n",
    "        for lin in range(0, width, size):\n",
    "            for col in range(0, height, size):\n",
    "                img_w = lin + size\n",
    "                img_h = col + size\n",
    "                blc_w = size\n",
    "                blc_h = size\n",
    "                # check for out of bounds\n",
    "                if (lin + size) > width:\n",
    "                    img_w = width\n",
    "                    blc_w = width - lin\n",
    "                if (col + size) > height:\n",
    "                    img_h = height\n",
    "                    blc_h = height - col\n",
    "                # create new block\n",
    "                block = np.zeros(size*size, dtype='int16').reshape((size,size))\n",
    "                block[0:blc_w,0:blc_h] = image[lin:img_w,col:img_h]\n",
    "                output.append(block)\n",
    "    else:\n",
    "        width, height, band = image.shape\n",
    "        for bnd in range(0, band):\n",
    "            for lin in range(0, width, size):\n",
    "                for col in range(0, height, size):\n",
    "                    img_w = lin + size\n",
    "                    img_h = col + size\n",
    "                    blc_w = size\n",
    "                    blc_h = size\n",
    "                    # check for out of bounds\n",
    "                    if (lin + size) > width:\n",
    "                        img_w = width\n",
    "                        blc_w = width - lin\n",
    "                    if (col + size) > height:\n",
    "                        img_h = height\n",
    "                        blc_h = height - col\n",
    "                    # create new block\n",
    "                    block = np.zeros(size*size, dtype='int16').reshape((size,size))\n",
    "                    block[0:blc_w,0:blc_h] = image[lin:img_w,col:img_h,bnd]\n",
    "                    output.append(block)\n",
    "                \n",
    "    return output, image.shape"
   ]
  },
  {
   "cell_type": "code",
   "execution_count": 27,
   "id": "indoor-startup",
   "metadata": {},
   "outputs": [],
   "source": [
    "lena_gray_blocks, lena_gray_shape  = divide_to_blocks(lena_gray, 8)\n",
    "lena_color_blocks, lena_color_shape = divide_to_blocks(lena_color, 8)"
   ]
  },
  {
   "cell_type": "code",
   "execution_count": 28,
   "id": "lonely-literacy",
   "metadata": {},
   "outputs": [
    {
     "name": "stdout",
     "output_type": "stream",
     "text": [
      "number of blocks for lena gray:  4096\n",
      "number of blocks for lena color: 12288\n"
     ]
    }
   ],
   "source": [
    "print(\"number of blocks for lena gray: \", len(lena_gray_blocks))\n",
    "print(\"number of blocks for lena color:\", len(lena_color_blocks))"
   ]
  },
  {
   "cell_type": "markdown",
   "id": "turned-aerospace",
   "metadata": {},
   "source": [
    "<a id=\"merge_from_blocks\"></a>\n",
    "\n",
    "### merge_from_blocks\n",
    "\n",
    "Merge um array de blocos para uma imagem."
   ]
  },
  {
   "cell_type": "code",
   "execution_count": 29,
   "id": "sixth-bracket",
   "metadata": {},
   "outputs": [],
   "source": [
    "def merge_from_blocks(arr, shape, size):\n",
    "    width = nearest_multiple(shape[0], size)\n",
    "    heigth = nearest_multiple(shape[1], size)\n",
    "    index = 0\n",
    "    if len(shape) < 3:\n",
    "        output = np.zeros((width, heigth), dtype='uint8')\n",
    "        for lin in range(0, width, size):\n",
    "            for col in range(0, heigth, size):\n",
    "                output[lin:(lin+size),col:(col+size)] = arr[index]\n",
    "                index = index + 1\n",
    "        return output[0:shape[0],0:shape[1]]\n",
    "    else:\n",
    "        output = np.zeros((width, heigth, shape[2]), dtype='uint8')\n",
    "        for bnd in range(0, shape[2]):\n",
    "            for lin in range(0, width, size):\n",
    "                for col in range(0, heigth, size):\n",
    "                    output[lin:(lin+size),col:(col+size),bnd] = arr[index]\n",
    "                    index = index + 1\n",
    "        return output[0:shape[0],0:shape[1],:]"
   ]
  },
  {
   "cell_type": "code",
   "execution_count": 30,
   "id": "ethical-hacker",
   "metadata": {},
   "outputs": [],
   "source": [
    "re_lena_gray = merge_from_blocks(lena_gray_blocks, lena_gray_shape, 8)\n",
    "re_lena_color = merge_from_blocks(lena_color_blocks, lena_color_shape, 8)"
   ]
  },
  {
   "cell_type": "code",
   "execution_count": 31,
   "id": "divided-enlargement",
   "metadata": {},
   "outputs": [],
   "source": [
    "#cv2.imshow(\"re_lena_gray\", re_lena_gray)\n",
    "#cv2.waitKey(0)\n",
    "#cv2.destroyAllWindows()\n",
    "\n",
    "#cv2.imshow(\"re_lena_gray\", re_lena_color)\n",
    "#cv2.waitKey(0)\n",
    "#cv2.destroyAllWindows()"
   ]
  },
  {
   "cell_type": "markdown",
   "id": "awful-dance",
   "metadata": {},
   "source": [
    "[back to index](#index)"
   ]
  },
  {
   "cell_type": "markdown",
   "id": "remarkable-jersey",
   "metadata": {},
   "source": [
    "<a id=\"dct\"></a>\n",
    "\n",
    "# DCT\n",
    "\n",
    "Uma Transformação Discreta de Cosseno (DCT) é um método para converter pontos discretos numa combinação de ondas de cosseno, com o objetivo de encontrar pequenos componentes de alta frequência para depois serem descartados.\n",
    "\n",
    "Na compressão em JPEG, o DCT encoder recebe um bloco de imagem 8x8 e para cada pixel é aplicado uma função de coseno. Para aplicar esta função utiliza-se uma matriz 8x8 de funções de coseno como demosntra a imagem seguinte.\n",
    "\n",
    "![jpeg-encoding](./report/cosine-funcs.png)\n",
    "\n",
    "Como resultado obtêm-se uma matriz de coeficientes DCT, que geralmente contém os valores maiores no canto superior esquerdo da matriz de coeficientes e valores menores no canto inferior direito. O canto superior esquerdo representa a função cosseno de frequência mais baixa e o canto inferior direito representa a função cosseno de frequência mais alta.\n",
    "\n",
    "A maioria das imagens contém uma grande quantidade de informação de baixa frequência e uma pequena quantidade de informação de alta frequência. Ao remover os componentes do canto inferior direito de cada matriz DCT para 0, a imagem resultante ainda pareceria a mesma.\n",
    "\n",
    "A razão pelo qual se descarta a informação de alta freqûencia deve-se ao facto de que o ser humano não consegue observar com clareza mudanças de alta frequência."
   ]
  },
  {
   "cell_type": "markdown",
   "id": "extraordinary-softball",
   "metadata": {},
   "source": [
    "<a id=\"dct_encode\"></a>\n",
    "\n",
    "### DCT Encoder\n",
    "\n",
    "Função que aplica uma transformação DCT sobre um bloco."
   ]
  },
  {
   "cell_type": "code",
   "execution_count": 32,
   "id": "similar-turtle",
   "metadata": {},
   "outputs": [],
   "source": [
    "def dct(block):\n",
    "    return cv2.dct(np.float32(block)).astype('int16') # float -> int16 conversion "
   ]
  },
  {
   "cell_type": "code",
   "execution_count": 33,
   "id": "anonymous-shopping",
   "metadata": {},
   "outputs": [],
   "source": [
    "block_dct = []\n",
    "for i in range(len(lena_gray_blocks)):\n",
    "    block_dct.append(dct(lena_gray_blocks[i]))"
   ]
  },
  {
   "cell_type": "code",
   "execution_count": 34,
   "id": "saved-hollow",
   "metadata": {},
   "outputs": [],
   "source": [
    "re_from_dct = merge_from_blocks(block_dct, lena_gray_shape, 8)\n",
    "cv2.imshow(\"DCT\", re_from_dct)\n",
    "cv2.waitKey(0)\n",
    "cv2.destroyAllWindows()"
   ]
  },
  {
   "cell_type": "markdown",
   "id": "least-texture",
   "metadata": {},
   "source": [
    "<a id=\"dct_decoder\"></a>\n",
    "\n",
    "### DCT Decoder\n",
    "\n",
    "Função que aplica uma transformação inversa da DCT sobre um bloco."
   ]
  },
  {
   "cell_type": "code",
   "execution_count": 35,
   "id": "recreational-basis",
   "metadata": {},
   "outputs": [],
   "source": [
    "def idct(block):\n",
    "    return cv2.idct(np.float32(block)).astype('int16') # float conversion -> int16 conversion"
   ]
  },
  {
   "cell_type": "code",
   "execution_count": 36,
   "id": "endless-adams",
   "metadata": {},
   "outputs": [],
   "source": [
    "block_idct = []\n",
    "for i in range(len(block_dct)):\n",
    "    block_idct.append(idct(block_dct[i]))"
   ]
  },
  {
   "cell_type": "code",
   "execution_count": 37,
   "id": "underlying-diving",
   "metadata": {},
   "outputs": [],
   "source": [
    "re_from_idct = merge_from_blocks(block_idct, lena_gray_shape, 8)\n",
    "cv2.imshow(\"IDCT\", re_from_idct)\n",
    "cv2.waitKey(0)\n",
    "cv2.destroyAllWindows()"
   ]
  },
  {
   "cell_type": "markdown",
   "id": "portuguese-thickness",
   "metadata": {},
   "source": [
    "[back to index](#index)"
   ]
  },
  {
   "cell_type": "markdown",
   "id": "sixth-moore",
   "metadata": {},
   "source": [
    "<a id=\"quantizacao\"></a>\n",
    "\n",
    "# Quantização\n",
    "\n",
    "Quantização é o processo no qual a partir de um intervalo específico se transforma os dados em valores discretos. \n",
    "\n",
    "Para o caso da compressão JPEG, o objetivo desta quantização é converter os coeficientes de frequência mais altos na matriz de saída DCT para 0.\n",
    "\n",
    "A qualidade **q** fornecida como parâmetro de entrada afeta a quantidade de quantização aplicada e a quantidade de informação de frequência mais alta que é perdida. É neste passo onde a compactação com perdas é aplicada, e depois de se perder as informações de alta frequência, não é possível voltar a recriar a imagem original.\n",
    "\n",
    "As tabelas de quantifiacação resultam de estudos psico-visuais, com o objectivo de maximizar a taxa de compressão sem perda\n",
    "perceptíveis de qualidade."
   ]
  },
  {
   "cell_type": "markdown",
   "id": "corporate-nepal",
   "metadata": {},
   "source": [
    "<a id=\"quantific_encode\"></a>\n",
    "\n",
    "### quantific_encode\n",
    "\n",
    "Aplica uma divisão da matriz de quantificação (tabela K1 no anexo da norma) multiplicada por um factor de qualidade **q** sobre um block de uma imagem."
   ]
  },
  {
   "cell_type": "code",
   "execution_count": 38,
   "id": "going-selling",
   "metadata": {},
   "outputs": [],
   "source": [
    "def quantific_encode(block, q):\n",
    "    quant_block = np.zeros((8,8), dtype='int16')\n",
    "    factor = quality_factor(q)\n",
    "    \n",
    "    # divide by k1  and multiply by quality factor\n",
    "    for i in range(0,8):\n",
    "        quant_block[i] = np.round( block[i] / (K1[i] * factor) )\n",
    "        \n",
    "    return quant_block"
   ]
  },
  {
   "cell_type": "markdown",
   "id": "contained-looking",
   "metadata": {},
   "source": [
    "<a id=\"quantific_decode\"></a>\n",
    "\n",
    "### quantific_decode\n",
    "\n",
    "Aplica uma multiplicação da matriz de quantificação (tabela K1 no anexo da norma) dividida por um factor de qualidade **q**  sobre um block de uma imagem."
   ]
  },
  {
   "cell_type": "code",
   "execution_count": 39,
   "id": "digital-idaho",
   "metadata": {},
   "outputs": [],
   "source": [
    "def quantific_decode(block, q):\n",
    "    iquant_block = np.zeros((8,8), dtype='int16')\n",
    "    factor = quality_factor(q)\n",
    "    \n",
    "    # multily by k1 and divide by quality factor\n",
    "    for i in range(0,8):\n",
    "        iquant_block[i] = block[i] * (K1[i] * factor)\n",
    "        \n",
    "    return iquant_block"
   ]
  },
  {
   "cell_type": "code",
   "execution_count": 40,
   "id": "civilian-expert",
   "metadata": {},
   "outputs": [
    {
     "name": "stdout",
     "output_type": "stream",
     "text": [
      "lena_block\n",
      " [[162 162 162 161 162 157 163 161]\n",
      " [162 162 162 161 162 157 163 161]\n",
      " [162 162 162 161 162 157 163 161]\n",
      " [162 162 162 161 162 157 163 161]\n",
      " [162 162 162 161 162 157 163 161]\n",
      " [164 164 158 155 161 159 159 160]\n",
      " [160 160 163 158 160 162 159 156]\n",
      " [159 159 155 157 158 159 156 157]] \n",
      "\n",
      "dct\n",
      " [[1283    4    3    0    0    0   -4    5]\n",
      " [   7    0    0   -4    1    2   -3    3]\n",
      " [  -5    0   -1    1    0    0    1   -2]\n",
      " [   2    1    1    0    0   -1    0    1]\n",
      " [  -1   -1    0   -1    1    1   -1    0]\n",
      " [   1    0   -1    0   -2    0    1    0]\n",
      " [  -1    0    3    1    1   -2   -1    0]\n",
      " [   1    0   -2   -1    0    1    0    0]] \n",
      "\n",
      "quantization\n",
      " [[80  0  0  0  0  0  0  0]\n",
      " [ 1  0  0  0  0  0  0  0]\n",
      " [ 0  0  0  0  0  0  0  0]\n",
      " [ 0  0  0  0  0  0  0  0]\n",
      " [ 0  0  0  0  0  0  0  0]\n",
      " [ 0  0  0  0  0  0  0  0]\n",
      " [ 0  0  0  0  0  0  0  0]\n",
      " [ 0  0  0  0  0  0  0  0]] \n",
      "\n"
     ]
    }
   ],
   "source": [
    "# lena first block to be compared with the slides examples\n",
    "print(\"lena_block\\n\", lena_block_1, \"\\n\")\n",
    "lena_block_dct = dct(lena_block_1)\n",
    "print(\"dct\\n\", lena_block_dct, \"\\n\")\n",
    "quant = quantific_encode(lena_block_dct, 50)\n",
    "print(\"quantization\\n\", quant, \"\\n\")"
   ]
  },
  {
   "cell_type": "markdown",
   "id": "liable-product",
   "metadata": {},
   "source": [
    "[back to index](#index)"
   ]
  },
  {
   "cell_type": "markdown",
   "id": "active-turtle",
   "metadata": {},
   "source": [
    "<a id=\"dpcm\"></a>\n",
    "\n",
    "# DPCM\n",
    "\n",
    "O valor do componente DC em cada bloco 8x8 é grande e varia entre os blocos, mas geralmente está próximo ao do bloco anterior.\n",
    "Differential Pulse Code Modulation (DPCM): codifica a diferença entre o bloco 8x8 atual e o anterior, resultando num número menor (que por consequência terá menos bits)."
   ]
  },
  {
   "cell_type": "markdown",
   "id": "minor-mountain",
   "metadata": {},
   "source": [
    "<a id=\"dpcm_encode\"></a>\n",
    "\n",
    "### dpcm_encode"
   ]
  },
  {
   "cell_type": "code",
   "execution_count": 41,
   "id": "particular-basic",
   "metadata": {},
   "outputs": [],
   "source": [
    "def dpcm_encode(b1, b2):\n",
    "    return (b2[0,0] - b1[0,0])"
   ]
  },
  {
   "cell_type": "markdown",
   "id": "functioning-leeds",
   "metadata": {},
   "source": [
    "<a id=\"dpcm_decode\"></a>\n",
    "\n",
    "### dpcm_decode"
   ]
  },
  {
   "cell_type": "code",
   "execution_count": 42,
   "id": "micro-printer",
   "metadata": {},
   "outputs": [],
   "source": [
    "def dpcm_decode(b1, b2):\n",
    "    return (b2[0,0] + b1[0,0])"
   ]
  },
  {
   "cell_type": "markdown",
   "id": "negative-microphone",
   "metadata": {},
   "source": [
    "[back to index](#index)"
   ]
  },
  {
   "cell_type": "markdown",
   "id": "massive-anchor",
   "metadata": {},
   "source": [
    "<a id=\"rlc\"></a>\n",
    "\n",
    "# RLC\n",
    "\n",
    "Codificação run-length é uma forma simples de compressão sem perda de dados onde sequências longas de valores repetidos são armazenadas como um único valor e sua contagem no lugar de sua sequência original.\n",
    "\n",
    "Nesta função em concreto, é primeiro realizado uma operação de coversão zigue-zague sobre um bloco 8x8, de forma a que a maior parte da informação de baixa frequência (mais significativa) fique armazenada no início de uma matriz 1D.\n",
    "\n",
    "O segundo passo é então a codificação run-length para compactar dados repetidos. Tirando partido de que no final da codificação em zigue-zague, a matriz 1D fica com tantos 0s no final, é possível codificálos de forma a usar menos bytes para representar todos esses 0s."
   ]
  },
  {
   "cell_type": "markdown",
   "id": "apart-details",
   "metadata": {},
   "source": [
    "<a id=\"rlc_encode\"></a>\n",
    "\n",
    "### rlc_encode"
   ]
  },
  {
   "cell_type": "code",
   "execution_count": 43,
   "id": "silent-preference",
   "metadata": {},
   "outputs": [],
   "source": [
    "def rlc_encode(block, ind_zz_index):\n",
    "    # indexing using zigzag\n",
    "    zzblock = block_to_zigzag(block, ind_zz_index)\n",
    "    \n",
    "    # find end of block index\n",
    "    eob = -1\n",
    "    for i in range(63, 0, -1):\n",
    "        if zzblock[i] != 0:\n",
    "            eob = i\n",
    "            break\n",
    "        \n",
    "    zrl = 0\n",
    "    rlc = []\n",
    "    # perform rlc until end of block\n",
    "    for i in range(1, eob + 1):\n",
    "        ac = zzblock[i]\n",
    "        if ac != 0:\n",
    "            rlc.append( (zrl, ac) )\n",
    "            if zrl != 0:\n",
    "                zrl = 0\n",
    "        else:\n",
    "            zrl += 1\n",
    "            if zrl == 15:\n",
    "                rlc.append( (zrl, ac) )\n",
    "                zrl = 0\n",
    "                \n",
    "    rlc.append( (0,0) )\n",
    "            \n",
    "    return rlc"
   ]
  },
  {
   "cell_type": "markdown",
   "id": "requested-davis",
   "metadata": {},
   "source": [
    "<a id=\"rlc_decode\"></a>\n",
    "\n",
    "### rlc_decode"
   ]
  },
  {
   "cell_type": "code",
   "execution_count": 44,
   "id": "pressed-transmission",
   "metadata": {},
   "outputs": [],
   "source": [
    "def rlc_decode(rlc, ind_zz_r):\n",
    "    arr = np.zeros(64, dtype='int16')\n",
    "    i = 1\n",
    "    for elem in rlc:\n",
    "        if elem == (0,0):\n",
    "            break\n",
    "        else:\n",
    "            i += elem[0]\n",
    "            arr[i] = elem[1]\n",
    "            i += 1\n",
    "    return zigzag_to_block(arr, ind_zz_r)"
   ]
  },
  {
   "cell_type": "markdown",
   "id": "documented-greece",
   "metadata": {},
   "source": [
    "[back to index](#index)"
   ]
  },
  {
   "cell_type": "markdown",
   "id": "south-darwin",
   "metadata": {},
   "source": [
    "<a id=\"jpeg_encoding_decoding\"></a>\n",
    "\n",
    "## JPEG Encoding / Decoding"
   ]
  },
  {
   "cell_type": "markdown",
   "id": "confused-madrid",
   "metadata": {},
   "source": [
    "<a id=\"jpeg_encoder\"></a>\n",
    "\n",
    "### jpeg_encoder\n",
    "\n",
    "Esta função agrega todas as funções atrás descritas e gera a sequência lógica da compressão JPEG:\n",
    "* A imagem a cores é transformada para o espaço de côr YUV, e faz-se uma sub-amostragem da crominância.\n",
    "* Tratamento da imagem em sub-blocos de 8x8.\n",
    "* A quantificação dos coeficientes da DCT elimina os componentes de mais alta frequência\n",
    "* Compressão dos sub-blocos utilizando DPCM e RLC\n",
    "\n",
    "![jpeg-encoding](./report/encoding.PNG)"
   ]
  },
  {
   "cell_type": "code",
   "execution_count": 45,
   "id": "bizarre-yield",
   "metadata": {},
   "outputs": [],
   "source": [
    "def jpeg_encoder(image, quality):\n",
    "    \n",
    "    dpcm = []\n",
    "    rlc  = []\n",
    "    \n",
    "    if len(image.shape) > 2:\n",
    "        imagem = rgb2yuv(image)\n",
    "    image_blocks, image_shape  = divide_to_blocks(image, 8)\n",
    "    \n",
    "    # first block treatment\n",
    "    first_block_dct = dct(image_blocks[0])\n",
    "    first_block_quantific = quantific_encode(first_block_dct, quality)\n",
    "    dpcm.append( first_block_quantific[0,0] )\n",
    "    rlc.append( rlc_encode(first_block_quantific, ind_zz_index) )\n",
    "    \n",
    "    last_block = first_block_quantific\n",
    "    for i in range(1, len(image_blocks)):\n",
    "        # dpcm\n",
    "        block_dct = dct(image_blocks[i])\n",
    "        block_quantific = quantific_encode(block_dct, quality)\n",
    "        dpcm.append( dpcm_encode(last_block, block_quantific) )\n",
    "        last_block = block_quantific   \n",
    "        # rlc\n",
    "        rlc.append( rlc_encode(block_quantific, ind_zz_index) )\n",
    "        \n",
    "    return dpcm, rlc, image_shape"
   ]
  },
  {
   "cell_type": "markdown",
   "id": "decimal-religion",
   "metadata": {},
   "source": [
    "<a id=\"jpeg_decoder\"></a>\n",
    "\n",
    "### jpeg_decoder\n",
    "\n",
    "Função que realiza a operação inversa do **jpeg_encoder**.\n",
    "\n",
    "* Ler a mensagem bit a bit, e com recurso às tabelas de Huffman e decodifica os bits\n",
    "* Extrair coeficientes DCT desfazendo as codificações run-length e dcpm\n",
    "* A partir dos coeficientes DCT realiza a operação DCT inversa para combinar ondas de cosseno e regenerar valores de pixel para cada bloco 8x8\n",
    "* Converção do espaço de de côr YUV para RGB"
   ]
  },
  {
   "cell_type": "code",
   "execution_count": 46,
   "id": "unexpected-registrar",
   "metadata": {},
   "outputs": [],
   "source": [
    "def jpeg_decoder(dpcm, rlc, shape, quality):\n",
    "    \n",
    "    image_blocks = []\n",
    "    \n",
    "    # first block treatment\n",
    "    # RLC\n",
    "    first_block = rlc_decode(rlc[0], ind_zz_r)\n",
    "    # DC\n",
    "    first_block[0,0] = dpcm[0]\n",
    "    last_block = first_block\n",
    "    # i-quantization\n",
    "    first_block_iquant = quantific_decode(first_block, quality)\n",
    "    # i-dct\n",
    "    first_block_idct = idct(first_block_iquant)\n",
    "    image_blocks.append(first_block_idct)\n",
    "    \n",
    "    for i in range(1, len(dpcm)):\n",
    "        # RLC\n",
    "        block = rlc_decode(rlc[i], ind_zz_r)\n",
    "        # DC\n",
    "        block[0,0] = dpcm[i]\n",
    "        # dpcm\n",
    "        block[0,0] = dpcm_decode(last_block, block)\n",
    "        last_block = block\n",
    "        # i-quantization\n",
    "        block_iquant = quantific_decode(block, quality)\n",
    "        # i-dct\n",
    "        block_idct = idct(block_iquant)\n",
    "        image_blocks.append(block_idct)\n",
    "        \n",
    "    image = merge_from_blocks(image_blocks, shape, 8)\n",
    "    if len(shape) > 2:\n",
    "        image = yuv2rgb(image)\n",
    "        \n",
    "    # return image  \n",
    "    return image"
   ]
  },
  {
   "cell_type": "markdown",
   "id": "blank-attack",
   "metadata": {},
   "source": [
    "[back to index](#index)"
   ]
  },
  {
   "cell_type": "markdown",
   "id": "clinical-extra",
   "metadata": {},
   "source": [
    "<a id=\"io\"></a>\n",
    "\n",
    "# I/O"
   ]
  },
  {
   "cell_type": "markdown",
   "id": "anticipated-girlfriend",
   "metadata": {},
   "source": [
    "<a id=\"escrever_ficheiro\"></a>\n",
    "\n",
    "## Escrever para ficheiro"
   ]
  },
  {
   "cell_type": "markdown",
   "id": "sunrise-constraint",
   "metadata": {},
   "source": [
    "<a id=\"write_to_file\"></a>\n",
    "\n",
    "### write_to_file\n",
    "\n",
    "A função que a partir que recebe dois arrays com os valores DC e AC respetivamente, grava num ficheiro uma sequência de bits comprimida.\n",
    "\n",
    "No cabeçalho da imagem é também guardado a informação sobre as dimensões (shape) da imagem original, de forma a que seja possível depois a sua reconstrução.\n",
    "\n",
    "Byte [index]                       | Conteúdo\n",
    ":------------------------------    | :-----------------------------\n",
    "0                                  | bits a remover do final da sequência\n",
    "1                                  | comprimento da imagem em pixels (primeiros 8 bits)\n",
    "2                                  | comprimento da imagem em pixels (últimos 8 bits)\n",
    "3                                  | altura da imagem em pixels      (primeiros 8 bits)\n",
    "4                                  | altura da imagem em pixels      (últimos 8 bits)\n",
    "5                                  | número de bandas da imagem\n",
    "6 - eof                            | mensagem codificada\n",
    "\n",
    "A função **write_to_file** tem também a missão de realizar a compressão dos valores DC e AC é conseguida através da codificação de Huffman com recurso às tabelas K3 e K5 (coeficientes de luminância), iterando sobre cada valor e substituíndo-o pela sequência de Huffman respetiva."
   ]
  },
  {
   "cell_type": "code",
   "execution_count": 47,
   "id": "vietnamese-jenny",
   "metadata": {},
   "outputs": [],
   "source": [
    "def write_to_file(dpcm, rlc, image_shape, filename):\n",
    "    bit_seq = \"\"\n",
    "    \n",
    "    for i in range(0, len(dpcm)):\n",
    "        # DC\n",
    "        size = get_size(dpcm[i])\n",
    "        amplitude = get_amplitude_from_number(dpcm[i])\n",
    "        bit_seq += K3[size]\n",
    "        bit_seq += amplitude if amplitude != None else \"\"\n",
    "        \n",
    "        # AC\n",
    "        for ac in rlc[i]:\n",
    "            size = get_size(ac[1])\n",
    "            amplitude = get_amplitude_from_number(ac[1])\n",
    "            key = (ac[0], size) # key = (rlc, size)\n",
    "            bit_seq += K5[ key ]\n",
    "            if key != (0,0) and key != (15,0):\n",
    "                bit_seq += amplitude\n",
    "            \n",
    "    byte_seq = np.packbits(string_to_binary_list(bit_seq))\n",
    "    # bits to be removed\n",
    "    bits_to_remove = (len(byte_seq) * 8) - len(bit_seq)\n",
    "    \n",
    "    # write to ouput file\n",
    "    output = np.array([], dtype='uint8')\n",
    "    # write on first byte the number of bits to be removed from the bit sequence\n",
    "    output = np.append(output, np.packbits(pad_bits(number_to_binary_list(bits_to_remove), 8)))\n",
    "    \n",
    "    # white image shape\n",
    "    #  width\n",
    "    width  = pad_bits(number_to_binary_list(image_shape[0]), 16)\n",
    "    output = np.append(output, np.packbits(pad_bits(width[0:8] , 8)))\n",
    "    output = np.append(output, np.packbits(pad_bits(width[8:16], 8)))\n",
    "    #  heigth\n",
    "    heigth = pad_bits(number_to_binary_list(image_shape[1]), 16)\n",
    "    output = np.append(output, np.packbits(pad_bits(heigth[0:8] , 8)))\n",
    "    output = np.append(output, np.packbits(pad_bits(heigth[8:16], 8)))\n",
    "    #  band\n",
    "    band   = image_shape[2] if len(image_shape) > 2 else 0\n",
    "    output = np.append(output, np.packbits(pad_bits(number_to_binary_list(band), 8)))\n",
    "    \n",
    "    # write the byte sequence\n",
    "    output = np.append(output, byte_seq)\n",
    "    \n",
    "    np.save(f\"{cwd}/output_data/{filename}\", output)\n",
    "    \n",
    "    return bit_seq, bits_to_remove"
   ]
  },
  {
   "cell_type": "markdown",
   "id": "macro-custody",
   "metadata": {},
   "source": [
    "[back to index](#index)"
   ]
  },
  {
   "cell_type": "code",
   "execution_count": 48,
   "id": "alpine-haven",
   "metadata": {},
   "outputs": [
    {
     "name": "stdout",
     "output_type": "stream",
     "text": [
      "*slides*\n",
      " 11110101000011001101000011000110100110100100111101001010\n",
      "bit sequence from slides DC & AC\n",
      " 11110101000011001101000011000110100110100100111101001010\n"
     ]
    }
   ],
   "source": [
    "# testing write_to_file dpcm & rlc values for lena block 1, 2 and 3 according to slides example\n",
    "\n",
    "dpcm_slides = [80, 0, -2]\n",
    "rlc_slides = [[(1,1), (0,0)],\n",
    "              [(0,2), (0,1), (0,0)],\n",
    "              [(0,1), (0,1), (3,-1), (0,0)]]\n",
    "shape_slides = (24, 8)\n",
    "\n",
    "print(\"*slides*\\n\", \"11110101000011001101000011000110100110100100111101001010\")\n",
    "\n",
    "bit_seq, bits_to_remove = write_to_file(dpcm_slides, rlc_slides, shape_slides, 'jpeg_encoded_file')\n",
    "print(\"bit sequence from slides DC & AC\\n\", bit_seq)\n",
    "byte_seq = np.packbits(string_to_binary_list(bit_seq))"
   ]
  },
  {
   "cell_type": "markdown",
   "id": "stable-interstate",
   "metadata": {},
   "source": [
    "<a id=\"ler_ficheiro\"></a>\n",
    "\n",
    "## Ler ficheiro"
   ]
  },
  {
   "cell_type": "markdown",
   "id": "closed-ensemble",
   "metadata": {},
   "source": [
    "<a id=\"get_dc\"></a>\n",
    "\n",
    "### get_dc\n",
    "\n",
    "Função que recebe um InputBitReader e retorna o próximo coeficiente DC."
   ]
  },
  {
   "cell_type": "code",
   "execution_count": 49,
   "id": "stock-emergency",
   "metadata": {},
   "outputs": [],
   "source": [
    "def get_dc(ibr: InputBitReader):\n",
    "    buffer = \"\"\n",
    "    \n",
    "    while True:\n",
    "        buffer += ibr.read_bit()\n",
    "        if buffer in iK3:\n",
    "            size = iK3[buffer]\n",
    "            amplitude = ibr.read_bits(size)\n",
    "            if not amplitude:\n",
    "                # print(\"0bit\")\n",
    "                return 0\n",
    "            else:\n",
    "                # print(f\"{size}bit\", amplitude)\n",
    "                return get_number_from_amplitude(amplitude)"
   ]
  },
  {
   "cell_type": "markdown",
   "id": "scenic-services",
   "metadata": {},
   "source": [
    "<a id=\"get_ac\"></a>\n",
    "\n",
    "### get_ac\n",
    "\n",
    "Função que recebe um InputBitReader e retorna os coeficientes AC até encontrar um EOB."
   ]
  },
  {
   "cell_type": "code",
   "execution_count": 50,
   "id": "stretch-petroleum",
   "metadata": {},
   "outputs": [],
   "source": [
    "def get_ac(ibr: InputBitReader):\n",
    "    buffer = \"\"\n",
    "    ac= []\n",
    "    \n",
    "    while ibr.has_next():\n",
    "        buffer += ibr.read_bit()\n",
    "        if buffer in iK5:\n",
    "            key = iK5[buffer]\n",
    "            # eob reached\n",
    "            if key == (0,0):\n",
    "                ac.append(key)\n",
    "                return ac\n",
    "            elif key != (15,0):\n",
    "                amplitude = ibr.read_bits(key[1])\n",
    "                ac.append( (key[0], get_number_from_amplitude(amplitude)) )\n",
    "                buffer = \"\"\n",
    "            else:\n",
    "                ac.append(key)\n",
    "                buffer = \"\""
   ]
  },
  {
   "cell_type": "markdown",
   "id": "rocky-scanner",
   "metadata": {},
   "source": [
    "<a id=\"read_from_file\"></a>\n",
    "\n",
    "### read_from_file\n",
    "\n",
    "Função que lê um ficheiro gravado e retorna os arrays com os coeficientes DC e AC, bem como as dimensões da imagem para ser reconstruída."
   ]
  },
  {
   "cell_type": "code",
   "execution_count": 51,
   "id": "approved-series",
   "metadata": {},
   "outputs": [],
   "source": [
    "def read_from_file(filename):\n",
    "    dpcm = []\n",
    "    rlc = []\n",
    "    \n",
    "    # number of bits to be removed from the bit sequence\n",
    "    bits_to_remove = filename[0]\n",
    "    # image shape\n",
    "    width  = bits_to_number(binary_list_to_string((np.concatenate([np.unpackbits(filename[1]),np.unpackbits(filename[2])]))))\n",
    "    height = bits_to_number(binary_list_to_string((np.concatenate([np.unpackbits(filename[3]),np.unpackbits(filename[4])]))))\n",
    "    band   = filename[5]\n",
    "    image_shape = (width, height) if band == 0 else (width, height, band)\n",
    "    # data\n",
    "    bit_seq = binary_list_to_string( np.unpackbits(filename[6:]) )\n",
    "    if bits_to_remove > 0:\n",
    "        bit_seq = bit_seq[:-int(bits_to_remove)]\n",
    "        \n",
    "    ibr = InputBitReader(bit_seq)\n",
    "    while ibr.has_next():\n",
    "        # read next DC\n",
    "        dpcm.append( get_dc(ibr) )\n",
    "        # read next AC's\n",
    "        rlc.append( get_ac(ibr) )\n",
    "            \n",
    "    return dpcm, rlc, image_shape"
   ]
  },
  {
   "cell_type": "markdown",
   "id": "trying-ceremony",
   "metadata": {},
   "source": [
    "[back to index](#index)"
   ]
  },
  {
   "cell_type": "code",
   "execution_count": 52,
   "id": "inappropriate-membership",
   "metadata": {},
   "outputs": [
    {
     "name": "stdout",
     "output_type": "stream",
     "text": [
      "[80, 0, -2] [[(1, 1), (0, 0)], [(0, 2), (0, 1), (0, 0)], [(0, 1), (0, 1), (3, -1), (0, 0)]] (24, 8)\n"
     ]
    }
   ],
   "source": [
    "# testing read_from_file from lena block 1, 2 and 3 according to slides example\n",
    "jpeg_encoded_file = np.load( f\"{cwd}/output_data/jpeg_encoded_file.npy\" )\n",
    "dpcm, rlc, image_shape = read_from_file(jpeg_encoded_file)\n",
    "print(dpcm, rlc, image_shape)"
   ]
  },
  {
   "cell_type": "markdown",
   "id": "fuzzy-enzyme",
   "metadata": {},
   "source": [
    " <a id=\"testes\"></a>\n",
    "\n",
    "# Testes"
   ]
  },
  {
   "cell_type": "code",
   "execution_count": 53,
   "id": "liked-christmas",
   "metadata": {},
   "outputs": [],
   "source": [
    "lena_path = f\"{cwd}/input_data/lena.tif\"\n",
    "lena_gray = cv2.imread(lena_path, cv2.IMREAD_GRAYSCALE)\n",
    "lena_color = cv2.imread(lena_path)\n",
    "\n",
    "# in bytes\n",
    "lena_gray_size = len(lena_gray.ravel())\n",
    "lena_color_size = len(lena_color.ravel())"
   ]
  },
  {
   "cell_type": "markdown",
   "id": "comparable-husband",
   "metadata": {},
   "source": [
    " <a id=\"lena_grayscale\"></a>\n",
    "\n",
    "## Lena Grayscale"
   ]
  },
  {
   "cell_type": "code",
   "execution_count": 54,
   "id": "patient-bedroom",
   "metadata": {},
   "outputs": [],
   "source": [
    "# encode lena_gray\n",
    "dpcm_lg, rlc_lg, shape_lg = jpeg_encoder(lena_gray, 50)\n",
    "write_to_file(dpcm_lg, rlc_lg, shape_lg, \"lena_gray_encoded_file\")\n",
    "\n",
    "# load file\n",
    "lena_gray_encoded_file = np.load( f\"{cwd}/output_data/lena_gray_encoded_file.npy\" )\n",
    "\n",
    "# decode lena_gray\n",
    "_dpcm_lg, _rlc_lg, _shape_lg = read_from_file(lena_gray_encoded_file)\n",
    "lena_gray_jpeg = jpeg_decoder(_dpcm_lg, _rlc_lg, _shape_lg, 50)"
   ]
  },
  {
   "cell_type": "code",
   "execution_count": 55,
   "id": "veterinary-privacy",
   "metadata": {},
   "outputs": [],
   "source": [
    "# show Lena Gray\n",
    "cv2.imshow(\"LenaGray.jpeg\", lena_gray_jpeg)\n",
    "cv2.waitKey(0)\n",
    "cv2.destroyAllWindows()"
   ]
  },
  {
   "cell_type": "markdown",
   "id": "statewide-monitor",
   "metadata": {},
   "source": [
    " <a id=\"preparar_dados\"></a>\n",
    "\n",
    "## Preparar dados"
   ]
  },
  {
   "cell_type": "code",
   "execution_count": 56,
   "id": "persistent-wound",
   "metadata": {},
   "outputs": [],
   "source": [
    "# jpeg quality\n",
    "jpeg_quality = np.arange(10,81,10)"
   ]
  },
  {
   "cell_type": "code",
   "execution_count": 75,
   "id": "fifteen-amount",
   "metadata": {},
   "outputs": [],
   "source": [
    "# prepare data with openCV\n",
    "openCV_encode_time = []\n",
    "openCV_decode_time = []\n",
    "openCV_compression_size = []\n",
    "openCV_TC = []\n",
    "openCV_SNR = []\n",
    "\n",
    "for q in jpeg_quality:\n",
    "    # encode lena_gray\n",
    "    t_start = time()\n",
    "    cv2.imwrite(f\"{cwd}/output_data/lena_gray_openCV_q{q}.jpg\", lena_gray, (cv2.IMWRITE_JPEG_QUALITY, int(q)))\n",
    "    t_end = time()\n",
    "    openCV_encode_time.append ( (t_end - t_start) )\n",
    "    # decode lena_gray\n",
    "    t_start = time()\n",
    "    jpeg_openCV = cv2.imread(f\"{cwd}/output_data/lena_gray_openCV_q{q}.jpg\", cv2.IMREAD_GRAYSCALE)\n",
    "    t_end = time()\n",
    "    openCV_decode_time.append ( (t_end - t_start) )\n",
    "    # lena_gray_jpeg_size\n",
    "    openCV_compression_size.append( os.stat(f\"{cwd}/output_data/lena_gray_openCV_q{q}.jpg\").st_size )\n",
    "    openCV_TC.append( lena_gray_size / os.stat(f\"{cwd}/output_data/lena_gray_openCV_q{q}.jpg\").st_size )\n",
    "    openCV_SNR.append( snr(lena_gray, jpeg_openCV) )"
   ]
  },
  {
   "cell_type": "code",
   "execution_count": 70,
   "id": "nervous-capitol",
   "metadata": {},
   "outputs": [],
   "source": [
    "# prepare data with trab3 functions\n",
    "jpeg_encode_time = []\n",
    "jpeg_decode_time = []\n",
    "jpeg_compression_size = []\n",
    "jpeg_TC = []\n",
    "jpeg_SNR = []\n",
    "\n",
    "for q in jpeg_quality:\n",
    "    # encode lena_gray\n",
    "    t_start = time()\n",
    "    dpcm_lg, rlc_lg, shape_lg = jpeg_encoder(lena_gray, q)\n",
    "    write_to_file(dpcm_lg, rlc_lg, shape_lg, f\"lena_gray_encoded_file_q{q}\")\n",
    "    t_end = time()\n",
    "    # --\n",
    "    jpeg_encode_time.append( (t_end - t_start) )\n",
    "\n",
    "    # load file\n",
    "    lena_gray_encoded_file = np.load( f\"{cwd}/output_data/lena_gray_encoded_file_q{q}.npy\" )\n",
    "\n",
    "    # decode lena_gray\n",
    "    t_start = time()\n",
    "    _dpcm_lg, _rlc_lg, _shape_lg = read_from_file(lena_gray_encoded_file)\n",
    "    lena_gray_jpeg = jpeg_decoder(_dpcm_lg, _rlc_lg, _shape_lg, q)\n",
    "    t_end = time()\n",
    "    # --\n",
    "    jpeg_decode_time.append( (t_end - t_start) )\n",
    "\n",
    "    # lena_gray_jpeg_size\n",
    "    jpeg_compression_size.append( os.stat(f\"{cwd}/output_data/lena_gray_encoded_file_q{q}.npy\").st_size )\n",
    "    jpeg_TC.append ( lena_gray_size / os.stat(f\"{cwd}/output_data/lena_gray_encoded_file_q{q}.npy\").st_size )\n",
    "    jpeg_SNR.append( snr(lena_gray, lena_gray_jpeg) )"
   ]
  },
  {
   "cell_type": "markdown",
   "id": "pacific-momentum",
   "metadata": {},
   "source": [
    "<a id=\"grafico\"></a>\n",
    "\n",
    "## Gráfico"
   ]
  },
  {
   "cell_type": "code",
   "execution_count": 74,
   "id": "fourth-commander",
   "metadata": {},
   "outputs": [
    {
     "data": {
      "image/png": "[encoded data removed]",
      "text/plain": [
       "<Figure size 432x288 with 1 Axes>"
      ]
     },
     "metadata": {
      "needs_background": "light"
     },
     "output_type": "display_data"
    }
   ],
   "source": [
    "fig, ax = plt.subplots()\n",
    "fig.suptitle('Taxa de compressão em função do SNR')\n",
    "ax.plot(jpeg_TC, jpeg_SNR, 'lightblue', label='trab3')\n",
    "ax.plot(openCV_TC, openCV_SNR, 'lightgreen', label='openCV')\n",
    "ax.legend(frameon=False, loc='lower center', ncol=2);\n",
    "# plot display settings\n",
    "plt.xlabel('TC')\n",
    "plt.ylabel('SNR')\n",
    "plt.show()"
   ]
  },
  {
   "cell_type": "markdown",
   "id": "unlimited-function",
   "metadata": {},
   "source": [
    "<a id=\"tabelas\"></a>\n",
    "\n",
    "## Tabelas"
   ]
  },
  {
   "cell_type": "code",
   "execution_count": 96,
   "id": "lightweight-maple",
   "metadata": {},
   "outputs": [
    {
     "name": "stdout",
     "output_type": "stream",
     "text": [
      "Lena size in grayscale: 262 KB\n"
     ]
    },
    {
     "data": {
      "image/png": "[encoded data removed]",
      "text/plain": [
       "<Figure size 432x288 with 1 Axes>"
      ]
     },
     "metadata": {
      "needs_background": "light"
     },
     "output_type": "display_data"
    },
    {
     "data": {
      "image/png": "[encoded data removed]",
      "text/plain": [
       "<Figure size 432x288 with 1 Axes>"
      ]
     },
     "metadata": {
      "needs_background": "light"
     },
     "output_type": "display_data"
    }
   ],
   "source": [
    "print(f\"Lena size in grayscale: {int(lena_gray_size / 1000 +.5)} KB\")\n",
    "\n",
    "table_header = ['Image Quality', 'Encode time [s]','Decode time [s]', 'Size After Compression [KB]', 'TC', 'SNR']\n",
    "\n",
    "openCV_table_data = []\n",
    "for i in range(len(jpeg_quality)):\n",
    "    openCV_table_data.append( \n",
    "        [jpeg_quality[i], \n",
    "         round(openCV_encode_time[i],2), \n",
    "         round(openCV_decode_time[i],2), \n",
    "         int(openCV_compression_size[i]/1000+.5),\n",
    "         round(openCV_TC[i],2),\n",
    "         round(openCV_SNR[i],2)]\n",
    "    )\n",
    "\n",
    "trab3_table_data = []\n",
    "for i in range(len(jpeg_quality)):\n",
    "    trab3_table_data.append( \n",
    "        [jpeg_quality[i], \n",
    "         round(jpeg_encode_time[i],2), \n",
    "         round(jpeg_decode_time[i],2), \n",
    "         int(jpeg_compression_size[i]/1000+.5),\n",
    "         round(jpeg_TC[i],2),\n",
    "         round(jpeg_SNR[i],2)]\n",
    "    )\n",
    "    \n",
    "# create tables\n",
    "fig1, ax1 = plt.subplots()\n",
    "fig2, ax2 = plt.subplots()\n",
    "\n",
    "# hide the axes\n",
    "fig.patch.set_visible(False)\n",
    "ax1.axis('off')\n",
    "ax1.axis('tight')\n",
    "ax2.axis('off')\n",
    "ax2.axis('tight')\n",
    "\n",
    "# build tables\n",
    "openCV_table = ax1.table(\n",
    "    cellText=openCV_table_data, \n",
    "    colLabels=table_header, \n",
    "    cellLoc='center',\n",
    "    loc ='upper left')\n",
    "\n",
    "trab3_table = ax2.table(\n",
    "    cellText=trab3_table_data, \n",
    "    colLabels=table_header, \n",
    "    cellLoc='center',\n",
    "    loc ='upper left')\n",
    "\n",
    "# display tables\n",
    "fig1.suptitle('Tabela::openCV')\n",
    "openCV_table.scale(3,3)\n",
    "fig2.suptitle('Tabela::trab3')\n",
    "trab3_table.scale(3,3)\n",
    "\n",
    "plt.show()\n"
   ]
  },
  {
   "cell_type": "markdown",
   "id": "labeled-fantasy",
   "metadata": {},
   "source": [
    "[back to index](#index)"
   ]
  },
  {
   "cell_type": "markdown",
   "id": "verified-virtue",
   "metadata": {},
   "source": [
    " <a id=\"conclusoes\"></a>\n",
    "\n",
    "# Conclusões\n",
    "\n",
    "O presente trabalho prático, teve como objetivo explora os princípios básicos da norma JPEG (modo sequencial) para compressão de imagens com perdas.\n",
    "\n",
    "Na compressão JPEG realizada neste trabalho, existe efetivamente compactação com perdas de forma irreversível da imagem original. Contudo foram utilizadas técnicas onde a informação descartada é feita de tal forma onde o nível de degradação é pouco significativo, e o utilizador final pode mesmo nem reparar que tal degradação acontece, isto porque a informação descartada corresponde a informação de alta, que o ser ser humano não consegue observar com clareza quando existes mudanças neste espectro.\n",
    "\n",
    "As funções **divide_blocks** e **merge_blocks** estão preparadas para receber imagens grayscale e rgb de qualquer dimensão, acrescentado em caso de falta, pixels com valores 0 para colmatar a falta de pixels da imagem para criar blocos de 8x8. \n",
    "\n",
    "Em caso da imagem ser RGB é feita ainda a conversão para o espaço de cores YUV. Contudo no contexto deste trabalho não tem nenhuma importância, uma vez que para efeitos académicos, apenas se a trabalhar com a tabela da luminância para realizar a codificação de Huffman, ficando assim em falta a codificação para a tabela da crominância que é necessária para quando se trabalha com imagens com mais do que uma banda.\n",
    "\n",
    "Para efeitos de teste realizou-se para diferentes factores de qualidade, a conversão jpeg para a imagem Lena no espaço de cores de cinza. Para cada qualidade foi medida a relação sinal-ruído e a taxa de compressão obtida, utilizando o algorítmo desenvolvido neste trabalho prático e com o openCV.\n",
    "\n",
    "O [gráfico](#grafico) representa a taxa de compressão em função do SNR utilizando os dois algorítmos atrás mencionados. É possível constatar após análise que ambos tem um comportamento idêntico, onde à medida que o fator de qualidade aumenta a taxa de compressão vai sendo cada vez menor mas em contrapartida resultará numa imagem com melhor qualidade (onde neste caso qualidade entende-se quanto mais parecida for com a imagem original.\n",
    "\n",
    "As [tabelas](#tabelas) mostram todos os resultados da SNR, taxa de compressão, tempo de compressão e descompressão. Como seria de esperar após análise do [gráfico](#grafico) anterior, os valores da TC e da SNR em ambas as tabelas são muito idênticos. Apesar do algorítmo realizado no presente trabalho 3, apresentar valores melhores de compressão quando comparado com os obtidos usando o openCV, é preciso desmitificar o caso, pois no caso do openCV a imagem é guardada em formato jpeg e tem no seu cabeçalho a informação das tabelas de Huffman para luminância e crominância, enquanto no algorítmo desenvolvido essa informação não esta presente no header, porque subtende-se que se estão a usar os valores das [Tabelas da norma ITU T.81 - JPEG standard](#ITU_T.81).\n",
    "\n",
    "Observando os tempos de codificação e descodificação para a imagem Lena, repara-se que o tempo de execução da operação vai ficando linearmente mais lento à medida que o fator de qualidade aumenta. Isto acontece pois existem menos zeros gerados pela operação da DCT e Quantitização, resultando em mais valores onde é necessário aplicar a codificação de Huffman.\n",
    "\n",
    "Onde o algorítmo desenvolvido peca indiscutivelmente quando comparado com o openCV é efetivamente nos tempos de execução, sendo entre cerca de 100 x mais lento. Neste aspeto posso apenas especular que o openCV utiliza operações lógicas bit a bit para realizar as operações bem como tirará partido das operações matriciais que o numpy terá para oferecer, enquando no algorítmo desenvolvido a codificação e a descoficação são conseguidas através de iterações sequênciais com recurso à manipulação de strings que são consideravelmente mais lentas.\n",
    "\n",
    "No final considera-se que todos os ojetivos pedidos no enunciado foram cumpridos com sucesso."
   ]
  },
  {
   "cell_type": "markdown",
   "id": "simple-surfing",
   "metadata": {},
   "source": [
    "[back to index](#index)"
   ]
  }
 ],
 "metadata": {
  "kernelspec": {
   "display_name": "csm_env",
   "language": "python",
   "name": "csm_env"
  },
  "language_info": {
   "codemirror_mode": {
    "name": "ipython",
    "version": 3
   },
   "file_extension": ".py",
   "mimetype": "text/x-python",
   "name": "python",
   "nbconvert_exporter": "python",
   "pygments_lexer": "ipython3",
   "version": "3.7.7"
  }
 },
 "nbformat": 4,
 "nbformat_minor": 5
}
