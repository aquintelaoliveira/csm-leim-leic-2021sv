{
 "cells": [
  {
   "cell_type": "markdown",
   "id": "double-syndicate",
   "metadata": {},
   "source": [
    "<div>\n",
    "     <div>\n",
    "        <img src=\"./data/isel_logo.png\" width=\"200\" height=\"200\" align=\"left\">\n",
    "    </div>\n",
    "    <div>\n",
    "        <h1>Área Departamental de Engenharia de Eletrónica e Telecomunicações e de Computadores</h1>\n",
    "        <p>Trabalho prático 2</p>\n",
    "        <p>Authors:\t44598\tAndré L. A. Q. de Oliveira</p>\n",
    "        <p>Unidade Curricular Compressão de Sinais Multimédia</p>\n",
    "        <p>Professor: André Lourenço</p>\n",
    "        <p>9 – Maio – 2021</p>\n",
    "    </div>\n",
    "</div>"
   ]
  },
  {
   "cell_type": "markdown",
   "id": "talented-london",
   "metadata": {},
   "source": [
    "<a id=\"index\"></a>\n",
    "# Index\n",
    "- [Tabela de Huffman](#tabela_huffman)\n",
    "    - [bytes_frequency](#bytes_frequency)\n",
    "    - [node](#node)\n",
    "    - [create_huff_tree](#create_huff_tree)\n",
    "    - [node2huff_dictionary](#node2huff_dictionary)\n",
    "    - [gen_huff_table](#gen_huff_table)\n",
    "- [Codificador de Huffman](#codificador_huffman)\n",
    "    - [encode_huff](#encode_huff)\n",
    "- [Descodificador de Huffman](#descodificador_huffman)\n",
    "    - [decode_huff](#decode_huff)\n"
   ]
  },
  {
   "cell_type": "markdown",
   "id": "electric-scratch",
   "metadata": {},
   "source": [
    "# Importar bibliotecas"
   ]
  },
  {
   "cell_type": "code",
   "execution_count": 2,
   "id": "sharp-council",
   "metadata": {},
   "outputs": [],
   "source": [
    "import os\n",
    "from time import time\n",
    "import cv2\n",
    "import numpy as np\n",
    "import matplotlib.pyplot as plt\n",
    "\n",
    "cwd = os.getcwd() # current work diretory"
   ]
  },
  {
   "cell_type": "markdown",
   "id": "surgical-electronics",
   "metadata": {},
   "source": [
    "# Importar dados para teste"
   ]
  },
  {
   "cell_type": "code",
   "execution_count": 3,
   "id": "final-hometown",
   "metadata": {},
   "outputs": [],
   "source": [
    "dec_universal_IDH = np.fromfile(f\"{cwd}/data/DecUniversalDH.txt\",dtype=np.int8)\n",
    "lena_color = np.fromfile(f\"{cwd}/data/LenaColor.tif\",dtype=np.int8)\n",
    "lena_gray = cv2.imread(f\"{cwd}/data/LenaGray.tif\");"
   ]
  },
  {
   "cell_type": "markdown",
   "id": "exempt-commissioner",
   "metadata": {},
   "source": [
    " <a id=\"tabela_huffman\"></a>\n",
    "\n",
    "# Tabela de Huffman"
   ]
  },
  {
   "cell_type": "markdown",
   "id": "oriented-reputation",
   "metadata": {},
   "source": [
    " <a id=\"node\"></a>\n",
    "\n",
    "\n",
    "## Função que cria um dicionário com par chave-valor : símbolo-frequência\n",
    "\n",
    "Função lê um ficheiro, byte a byte, e retorna um dicionário onde cada símbolo terá como respondência a sua frequência no ficheiro. "
   ]
  },
  {
   "cell_type": "code",
   "execution_count": 57,
   "id": "rolled-olive",
   "metadata": {},
   "outputs": [],
   "source": [
    "# return dicionary {byte : frequency}\n",
    "def bytes_frequency(file):\n",
    "    d = dict()\n",
    "    for byte in file:\n",
    "        d[byte] = d.setdefault(byte, 0) + 1\n",
    "    return d"
   ]
  },
  {
   "cell_type": "markdown",
   "id": "featured-legend",
   "metadata": {},
   "source": [
    " <a id=\"bytes_frequency\"></a>\n",
    "\n",
    "## Classe que representa um nó de Huffman\n",
    "\n",
    "Cada nó contêm a seguinte informação:\n",
    "* o símbolo\n",
    "* a frequência do símbolo\n",
    "* uma ligação para a esquerda e para a direita para os seus nós filhos\n",
    "* o valor de huffman atribuído quando o nó toma uma direção"
   ]
  },
  {
   "cell_type": "code",
   "execution_count": 62,
   "id": "manual-montana",
   "metadata": {},
   "outputs": [],
   "source": [
    "# Huffman Node\n",
    "class huff_node:\n",
    "    def __init__(self, symbol, freq, left=None, right=None):\n",
    "        # symbol\n",
    "        self.symbol = symbol\n",
    "        # frequency of symbol\n",
    "        self.freq = freq\n",
    "        # node left of current node\n",
    "        self.left = left\n",
    "        # node right of current node\n",
    "        self.right = right\n",
    "        # tree direction (0/1)\n",
    "        self.huff = ''"
   ]
  },
  {
   "cell_type": "markdown",
   "id": "magnetic-mongolia",
   "metadata": {},
   "source": [
    " <a id=\"create_huff_tree\"></a>\n",
    "\n",
    "## Função que cria uma árvore de nós de Huffman a partir de um dicionário\n",
    "\n",
    "1. Com o valor de cada chave única presente no dicionário, são criados nós e colocados numa lista;\n",
    "2. São retirados os dois símbolos com menor frequência da lista, atribuindo-lhes o valor de 0 ou 1, e mergem-se esses dois símbolos num só, somando as suas freqûencias; \n",
    "3. O novo nó é adicionado a lista;\n",
    "4. O prodecimento repete-se até enquanto o número de nós for superior a 1;\n",
    "5. A função retorna o nó raiz."
   ]
  },
  {
   "cell_type": "code",
   "execution_count": 61,
   "id": "cheap-april",
   "metadata": {},
   "outputs": [],
   "source": [
    "# Create HuffmanTree from dictionary of {symbol : frequency}\n",
    "def create_huff_tree(dictionary):\n",
    "    list_of_nodes = []\n",
    "    for symb, freq in dictionary.items():\n",
    "        list_of_nodes.append(huff_node(symb, freq))\n",
    "    \n",
    "    while len(list_of_nodes) > 1:\n",
    "        list_of_nodes = sorted(list_of_nodes, key=lambda n: n.freq)\n",
    "        # pop the 2 smallest nodes\n",
    "        left = list_of_nodes.pop(0)\n",
    "        right = list_of_nodes.pop(0)\n",
    "        # assign directional value\n",
    "        left.huff = 0\n",
    "        right.huff = 1\n",
    "        # combine the 2 smallest nodes to create new node as their parent\n",
    "        newNode = huff_node(left.symbol+right.symbol, left.freq+right.freq, left, right)\n",
    "        list_of_nodes.append(newNode)\n",
    "        \n",
    "    return list_of_nodes[0]"
   ]
  },
  {
   "cell_type": "markdown",
   "id": "whole-owner",
   "metadata": {},
   "source": [
    "<a id=\"node2huff_dictionary\"></a>\n",
    "\n",
    "## Função que a partiz de um nó raiz de Huffman gera uma tabela de Huffman\n",
    "\n",
    "Recursivamente percorre toda a arvóre de nós de Huffman, concatenando os valores de Huffman dos nós enquando não chega aos nós folha."
   ]
  },
  {
   "cell_type": "code",
   "execution_count": 7,
   "id": "constant-angel",
   "metadata": {},
   "outputs": [],
   "source": [
    "def node2huff_dictionary(node, dictionary, value = \"\"):\n",
    "    new_value = value + str(node.huff)\n",
    "    if(node.left):\n",
    "        node2huff_dicitionary(node.left, dictionary, new_value)\n",
    "    if(node.right):\n",
    "        node2huff_dicitionary(node.right, dictionary, new_value)\n",
    "    # if node is leaf\n",
    "    if(not node.left and not node.right):\n",
    "        dictionary[node.symbol] = new_value"
   ]
  },
  {
   "cell_type": "markdown",
   "id": "expected-nation",
   "metadata": {},
   "source": [
    "<a id=\"gen_huff_table\"></a>\n",
    "\n",
    "## Função que agrega todas as chamadas para gerar a tabela de Huffman"
   ]
  },
  {
   "cell_type": "code",
   "execution_count": 18,
   "id": "exotic-disaster",
   "metadata": {},
   "outputs": [],
   "source": [
    "def gen_huff_table(file):\n",
    "    d = bytes_frequency(file)\n",
    "    root = create_huff_tree(d)\n",
    "    huff_table = dict()\n",
    "    node2huff_dictionary(root, huff_table)\n",
    "    return huff_table"
   ]
  },
  {
   "cell_type": "code",
   "execution_count": 60,
   "id": "detected-florist",
   "metadata": {},
   "outputs": [
    {
     "name": "stdout",
     "output_type": "stream",
     "text": [
      "time:  0.0\n",
      "{'a': '000', 'g': '001', 'o': '01', 'r': '100', 'i': '101', 's': '1100', 't': '1101', 'n': '1110', 'l': '1111'}\n"
     ]
    }
   ],
   "source": [
    "t_start = time()\n",
    "huff_table = gen_huff_table(\"otorrinolaringologista\")\n",
    "t_end = time()\n",
    "print(\"time: \", t_end - t_start)\n",
    "print(huff_table)"
   ]
  },
  {
   "cell_type": "markdown",
   "id": "faced-absence",
   "metadata": {},
   "source": [
    " <a id=\"codificador_huffman\"></a>\n",
    "\n",
    "# Codificador de Huffman\n",
    "\n",
    "Dada uma mensagem e uma tabela de Huffman, codifica uma mensagem."
   ]
  },
  {
   "cell_type": "markdown",
   "id": "worse-developer",
   "metadata": {},
   "source": [
    "<a id=\"encode_huff\"></a>"
   ]
  },
  {
   "cell_type": "code",
   "execution_count": 53,
   "id": "sufficient-train",
   "metadata": {},
   "outputs": [],
   "source": [
    "def encode_huff(file, huff_table):\n",
    "    output = \"\"\n",
    "    for byte in file:\n",
    "        output += huff_table[byte]\n",
    "    return output # int(output, 2)"
   ]
  },
  {
   "cell_type": "code",
   "execution_count": 54,
   "id": "cathedral-moscow",
   "metadata": {},
   "outputs": [
    {
     "name": "stdout",
     "output_type": "stream",
     "text": [
      "01110101100100101111001111100010010111100010111110100110111001101000\n"
     ]
    }
   ],
   "source": [
    "decoded_message = encode_huff(\"otorrinolaringologista\", huff_table)\n",
    "\n",
    "print(decoded_message)"
   ]
  },
  {
   "cell_type": "markdown",
   "id": "shaped-atlanta",
   "metadata": {},
   "source": [
    " <a id=\"descodificador_huffman\"></a>\n",
    "\n",
    "# Descodificador de Huffman\n",
    "\n",
    "A partir deada uma sequência de bits (mensagem codificada) e uma tabela de huffman, retorne uma mensagem descodificada."
   ]
  },
  {
   "cell_type": "markdown",
   "id": "transparent-banner",
   "metadata": {},
   "source": [
    "<a id=\"decode_huff\"></a>"
   ]
  },
  {
   "cell_type": "code",
   "execution_count": 48,
   "id": "continued-crest",
   "metadata": {},
   "outputs": [],
   "source": [
    "def decode_huff (encoded_message, huff_table):\n",
    "    inverted_huff_table = dict(map(reversed, huff_table.items()))\n",
    "    buffer = \"\"\n",
    "    output = \"\"\n",
    "    for byte in encoded_message:\n",
    "        buffer += byte\n",
    "        if buffer in inverted_huff_table:\n",
    "            output += inverted_huff_table[buffer]\n",
    "            buffer = \"\"\n",
    "    return output"
   ]
  },
  {
   "cell_type": "code",
   "execution_count": 55,
   "id": "outside-timing",
   "metadata": {},
   "outputs": [
    {
     "name": "stdout",
     "output_type": "stream",
     "text": [
      "otorrinolaringologista\n"
     ]
    }
   ],
   "source": [
    "decoded_msg = decode_huff(\"01110101100100101111001111100010010111100010111110100110111001101000\", huff_table)\n",
    "print(decoded_msg)"
   ]
  },
  {
   "cell_type": "code",
   "execution_count": null,
   "id": "confident-subscription",
   "metadata": {},
   "outputs": [],
   "source": [
    "def write2file(encoded_msg, filename):"
   ]
  },
  {
   "cell_type": "code",
   "execution_count": null,
   "id": "executed-genre",
   "metadata": {},
   "outputs": [],
   "source": [
    "def read2array(filename):\n",
    "    with open(filename, \"rb\") as f:\n",
    "        byte = f.read(1)\n",
    "        while byte != b\"\":\n",
    "            # do stuff\n",
    "            byte = f.read(1)"
   ]
  },
  {
   "cell_type": "code",
   "execution_count": null,
   "id": "affecting-terminal",
   "metadata": {},
   "outputs": [],
   "source": []
  }
 ],
 "metadata": {
  "kernelspec": {
   "display_name": "csm_env",
   "language": "python",
   "name": "csm_env"
  },
  "language_info": {
   "codemirror_mode": {
    "name": "ipython",
    "version": 3
   },
   "file_extension": ".py",
   "mimetype": "text/x-python",
   "name": "python",
   "nbconvert_exporter": "python",
   "pygments_lexer": "ipython3",
   "version": "3.7.7"
  }
 },
 "nbformat": 4,
 "nbformat_minor": 5
}
